{
 "metadata": {
  "language_info": {
   "codemirror_mode": {
    "name": "ipython",
    "version": 3
   },
   "file_extension": ".py",
   "mimetype": "text/x-python",
   "name": "python",
   "nbconvert_exporter": "python",
   "pygments_lexer": "ipython3",
   "version": "3.8.7"
  },
  "orig_nbformat": 2,
  "kernelspec": {
   "name": "python3",
   "display_name": "Python 3.8.7 64-bit"
  },
  "interpreter": {
   "hash": "853417d72ad81a5e50a8613ae15c38dd8101027062a267a28f225259147f3710"
  }
 },
 "nbformat": 4,
 "nbformat_minor": 2,
 "cells": [
  {
   "cell_type": "code",
   "execution_count": 3,
   "source": [
    "import os\r\n",
    "import sys\r\n",
    "module_path = os.path.abspath(os.path.join('..'))\r\n",
    "if module_path not in sys.path:\r\n",
    "    sys.path.append(module_path)"
   ],
   "outputs": [],
   "metadata": {}
  },
  {
   "cell_type": "code",
   "execution_count": 4,
   "source": [
    "# Spatial implementation suffers in time on a GPU due to a TF bug, therefore consider disabling it\r\n",
    "# Also, due to a TF bug there seems to be a memory leakage between LMMNN and other methods when run together,\r\n",
    "# and those other methods suffer in performance. Consider running LMMNNN separately.\r\n",
    "os.environ[\"CUDA_VISIBLE_DEVICES\"] = \"-1\""
   ],
   "outputs": [],
   "metadata": {}
  },
  {
   "cell_type": "code",
   "execution_count": 5,
   "source": [
    "import time\r\n",
    "import gc\r\n",
    "import numpy as np\r\n",
    "import pandas as pd\r\n",
    "import matplotlib.pyplot as plt\r\n",
    "from scipy.spatial.distance import pdist, squareform\r\n",
    "\r\n",
    "from sklearn.model_selection import KFold\r\n",
    "\r\n",
    "from lmmnn.nn import reg_nn_ohe_or_ignore, reg_nn_lmm, reg_nn_embed"
   ],
   "outputs": [],
   "metadata": {}
  },
  {
   "cell_type": "code",
   "execution_count": 6,
   "source": [
    "# Note: data_cleaned_train_comments_X.csv is the result of an ETL process described in Kalehbasti et. al. (2019), see our paper.\r\n",
    "# We followed the script in their Github repo exactly.\r\n",
    "path = 'C:/Users/gsimchoni/AirBnbPricePrediction/Data/'\r\n",
    "X_train = pd.read_csv(path + 'data_cleaned_train_comments_X.csv')\r\n",
    "y_train = pd.read_csv(path + 'data_cleaned_train_y.csv').values\r\n",
    "y_train = y_train.reshape(len(y_train), )\r\n",
    "\r\n",
    "X_val = pd.read_csv(path + 'data_cleaned_val_comments_X.csv')\r\n",
    "y_val = pd.read_csv(path + 'data_cleaned_val_y.csv').values\r\n",
    "y_val = y_val.reshape(len(y_val), )\r\n",
    "\r\n",
    "X_test = pd.read_csv(path + 'data_cleaned_test_comments_X.csv')\r\n",
    "y_test = pd.read_csv(path + 'data_cleaned_test_y.csv').values\r\n",
    "y_test = y_test.reshape(len(y_test), )"
   ],
   "outputs": [],
   "metadata": {}
  },
  {
   "cell_type": "code",
   "execution_count": 7,
   "source": [
    "coeffs = np.load(path + 'selected_coefs.npy')\r\n",
    "col_set = set()\r\n",
    "\r\n",
    "for i in range(len(coeffs)):\r\n",
    "    if coeffs[i]:\r\n",
    "        col_set.add(X_train.columns[i])\r\n",
    "X_train = X_train[list(col_set | set(['longitude', 'latitude']))]\r\n",
    "X_val = X_val[list(col_set | set(['longitude', 'latitude']))]\r\n",
    "X_test = X_test[list(col_set | set(['longitude', 'latitude']))]\r\n",
    "\r\n",
    "X = pd.concat([X_train, X_val, X_test], ignore_index=True)\r\n",
    "y = np.concatenate([y_train, y_val, y_test])"
   ],
   "outputs": [],
   "metadata": {}
  },
  {
   "cell_type": "code",
   "execution_count": 8,
   "source": [
    "X['id'] = np.arange(X.shape[0])"
   ],
   "outputs": [],
   "metadata": {}
  },
  {
   "cell_type": "code",
   "execution_count": 9,
   "source": [
    "len(col_set)"
   ],
   "outputs": [
    {
     "output_type": "execute_result",
     "data": {
      "text/plain": [
       "196"
      ]
     },
     "metadata": {},
     "execution_count": 9
    }
   ],
   "metadata": {}
  },
  {
   "cell_type": "code",
   "execution_count": 10,
   "source": [
    "print(X.shape) # longitude was already in col_set and we've added id column to be able to re-sort the data after the join\r\n",
    "print(y.shape)"
   ],
   "outputs": [
    {
     "output_type": "stream",
     "name": "stdout",
     "text": [
      "(49976, 198)\n",
      "(49976,)\n"
     ]
    }
   ],
   "metadata": {}
  },
  {
   "cell_type": "code",
   "execution_count": 11,
   "source": [
    "X[['latitude', 'longitude']].head()"
   ],
   "outputs": [
    {
     "output_type": "execute_result",
     "data": {
      "text/plain": [
       "   latitude  longitude\n",
       "0  0.415853   0.614040\n",
       "1  0.466541   0.510596\n",
       "2  0.427307   0.687932\n",
       "3  0.553778   0.479174\n",
       "4  0.581165   0.479014"
      ],
      "text/html": [
       "<div>\n",
       "<style scoped>\n",
       "    .dataframe tbody tr th:only-of-type {\n",
       "        vertical-align: middle;\n",
       "    }\n",
       "\n",
       "    .dataframe tbody tr th {\n",
       "        vertical-align: top;\n",
       "    }\n",
       "\n",
       "    .dataframe thead th {\n",
       "        text-align: right;\n",
       "    }\n",
       "</style>\n",
       "<table border=\"1\" class=\"dataframe\">\n",
       "  <thead>\n",
       "    <tr style=\"text-align: right;\">\n",
       "      <th></th>\n",
       "      <th>latitude</th>\n",
       "      <th>longitude</th>\n",
       "    </tr>\n",
       "  </thead>\n",
       "  <tbody>\n",
       "    <tr>\n",
       "      <th>0</th>\n",
       "      <td>0.415853</td>\n",
       "      <td>0.614040</td>\n",
       "    </tr>\n",
       "    <tr>\n",
       "      <th>1</th>\n",
       "      <td>0.466541</td>\n",
       "      <td>0.510596</td>\n",
       "    </tr>\n",
       "    <tr>\n",
       "      <th>2</th>\n",
       "      <td>0.427307</td>\n",
       "      <td>0.687932</td>\n",
       "    </tr>\n",
       "    <tr>\n",
       "      <th>3</th>\n",
       "      <td>0.553778</td>\n",
       "      <td>0.479174</td>\n",
       "    </tr>\n",
       "    <tr>\n",
       "      <th>4</th>\n",
       "      <td>0.581165</td>\n",
       "      <td>0.479014</td>\n",
       "    </tr>\n",
       "  </tbody>\n",
       "</table>\n",
       "</div>"
      ]
     },
     "metadata": {},
     "execution_count": 11
    }
   ],
   "metadata": {}
  },
  {
   "cell_type": "code",
   "execution_count": 12,
   "source": [
    "X[['latitude', 'longitude']] = X[['latitude', 'longitude']].round(2)\r\n",
    "X[['latitude', 'longitude']].head()"
   ],
   "outputs": [
    {
     "output_type": "execute_result",
     "data": {
      "text/plain": [
       "   latitude  longitude\n",
       "0      0.42       0.61\n",
       "1      0.47       0.51\n",
       "2      0.43       0.69\n",
       "3      0.55       0.48\n",
       "4      0.58       0.48"
      ],
      "text/html": [
       "<div>\n",
       "<style scoped>\n",
       "    .dataframe tbody tr th:only-of-type {\n",
       "        vertical-align: middle;\n",
       "    }\n",
       "\n",
       "    .dataframe tbody tr th {\n",
       "        vertical-align: top;\n",
       "    }\n",
       "\n",
       "    .dataframe thead th {\n",
       "        text-align: right;\n",
       "    }\n",
       "</style>\n",
       "<table border=\"1\" class=\"dataframe\">\n",
       "  <thead>\n",
       "    <tr style=\"text-align: right;\">\n",
       "      <th></th>\n",
       "      <th>latitude</th>\n",
       "      <th>longitude</th>\n",
       "    </tr>\n",
       "  </thead>\n",
       "  <tbody>\n",
       "    <tr>\n",
       "      <th>0</th>\n",
       "      <td>0.42</td>\n",
       "      <td>0.61</td>\n",
       "    </tr>\n",
       "    <tr>\n",
       "      <th>1</th>\n",
       "      <td>0.47</td>\n",
       "      <td>0.51</td>\n",
       "    </tr>\n",
       "    <tr>\n",
       "      <th>2</th>\n",
       "      <td>0.43</td>\n",
       "      <td>0.69</td>\n",
       "    </tr>\n",
       "    <tr>\n",
       "      <th>3</th>\n",
       "      <td>0.55</td>\n",
       "      <td>0.48</td>\n",
       "    </tr>\n",
       "    <tr>\n",
       "      <th>4</th>\n",
       "      <td>0.58</td>\n",
       "      <td>0.48</td>\n",
       "    </tr>\n",
       "  </tbody>\n",
       "</table>\n",
       "</div>"
      ]
     },
     "metadata": {},
     "execution_count": 12
    }
   ],
   "metadata": {}
  },
  {
   "cell_type": "code",
   "execution_count": 13,
   "source": [
    "location_df = X.groupby(['latitude', 'longitude']).size().sort_values(ascending=False).index.to_frame()\r\n",
    "location_df['location'] = np.arange(location_df.shape[0])\r\n",
    "location_df.head()"
   ],
   "outputs": [
    {
     "output_type": "execute_result",
     "data": {
      "text/plain": [
       "                    latitude  longitude  location\n",
       "latitude longitude                               \n",
       "0.64     0.48           0.64       0.48         0\n",
       "         0.47           0.64       0.47         1\n",
       "0.55     0.48           0.55       0.48         2\n",
       "0.63     0.47           0.63       0.47         3\n",
       "0.55     0.49           0.55       0.49         4"
      ],
      "text/html": [
       "<div>\n",
       "<style scoped>\n",
       "    .dataframe tbody tr th:only-of-type {\n",
       "        vertical-align: middle;\n",
       "    }\n",
       "\n",
       "    .dataframe tbody tr th {\n",
       "        vertical-align: top;\n",
       "    }\n",
       "\n",
       "    .dataframe thead th {\n",
       "        text-align: right;\n",
       "    }\n",
       "</style>\n",
       "<table border=\"1\" class=\"dataframe\">\n",
       "  <thead>\n",
       "    <tr style=\"text-align: right;\">\n",
       "      <th></th>\n",
       "      <th></th>\n",
       "      <th>latitude</th>\n",
       "      <th>longitude</th>\n",
       "      <th>location</th>\n",
       "    </tr>\n",
       "    <tr>\n",
       "      <th>latitude</th>\n",
       "      <th>longitude</th>\n",
       "      <th></th>\n",
       "      <th></th>\n",
       "      <th></th>\n",
       "    </tr>\n",
       "  </thead>\n",
       "  <tbody>\n",
       "    <tr>\n",
       "      <th rowspan=\"2\" valign=\"top\">0.64</th>\n",
       "      <th>0.48</th>\n",
       "      <td>0.64</td>\n",
       "      <td>0.48</td>\n",
       "      <td>0</td>\n",
       "    </tr>\n",
       "    <tr>\n",
       "      <th>0.47</th>\n",
       "      <td>0.64</td>\n",
       "      <td>0.47</td>\n",
       "      <td>1</td>\n",
       "    </tr>\n",
       "    <tr>\n",
       "      <th>0.55</th>\n",
       "      <th>0.48</th>\n",
       "      <td>0.55</td>\n",
       "      <td>0.48</td>\n",
       "      <td>2</td>\n",
       "    </tr>\n",
       "    <tr>\n",
       "      <th>0.63</th>\n",
       "      <th>0.47</th>\n",
       "      <td>0.63</td>\n",
       "      <td>0.47</td>\n",
       "      <td>3</td>\n",
       "    </tr>\n",
       "    <tr>\n",
       "      <th>0.55</th>\n",
       "      <th>0.49</th>\n",
       "      <td>0.55</td>\n",
       "      <td>0.49</td>\n",
       "      <td>4</td>\n",
       "    </tr>\n",
       "  </tbody>\n",
       "</table>\n",
       "</div>"
      ]
     },
     "metadata": {},
     "execution_count": 13
    }
   ],
   "metadata": {}
  },
  {
   "cell_type": "code",
   "execution_count": 14,
   "source": [
    "X = X.set_index(['latitude', 'longitude']).join(location_df[['location']]).reset_index().sort_values(by=['id']).drop(['id'], axis=1)\r\n",
    "X.index = np.arange(X.shape[0])\r\n",
    "X.shape"
   ],
   "outputs": [
    {
     "output_type": "execute_result",
     "data": {
      "text/plain": [
       "(49976, 198)"
      ]
     },
     "metadata": {},
     "execution_count": 14
    }
   ],
   "metadata": {}
  },
  {
   "cell_type": "code",
   "execution_count": 15,
   "source": [
    "X.head()"
   ],
   "outputs": [
    {
     "output_type": "execute_result",
     "data": {
      "text/plain": [
       "   latitude  longitude  Dryer  Room-darkening_shades  Hotel  Coffee_maker  \\\n",
       "0      0.42       0.61    0.0                    0.0    0.0           0.0   \n",
       "1      0.47       0.51    0.0                    0.0    0.0           0.0   \n",
       "2      0.43       0.69    0.0                    0.0    0.0           0.0   \n",
       "3      0.55       0.48    0.0                    0.0    0.0           0.0   \n",
       "4      0.58       0.48    1.0                    0.0    0.0           0.0   \n",
       "\n",
       "   Loft  Hell's Kitchen  Gym  Bensonhurst  ...  Inwood  google_verification  \\\n",
       "0   0.0             0.0  0.0          0.0  ...     0.0                  0.0   \n",
       "1   0.0             0.0  0.0          0.0  ...     0.0                  0.0   \n",
       "2   0.0             0.0  0.0          0.0  ...     0.0                  1.0   \n",
       "3   0.0             0.0  0.0          0.0  ...     0.0                  0.0   \n",
       "4   0.0             0.0  1.0          0.0  ...     0.0                  0.0   \n",
       "\n",
       "   Boutique hotel  accommodates  a few days or more  First_aid_kit  \\\n",
       "0             0.0      0.133333                 0.0            0.0   \n",
       "1             0.0      0.066667                 0.0            1.0   \n",
       "2             0.0      0.266667                 0.0            0.0   \n",
       "3             0.0      0.066667                 0.0            0.0   \n",
       "4             0.0      0.066667                 0.0            0.0   \n",
       "\n",
       "   Bed_linens  SoHo  Game_console  location  \n",
       "0         0.0   0.0           0.0       556  \n",
       "1         0.0   0.0           0.0       177  \n",
       "2         1.0   0.0           0.0       939  \n",
       "3         0.0   0.0           0.0         2  \n",
       "4         0.0   0.0           0.0       168  \n",
       "\n",
       "[5 rows x 198 columns]"
      ],
      "text/html": [
       "<div>\n",
       "<style scoped>\n",
       "    .dataframe tbody tr th:only-of-type {\n",
       "        vertical-align: middle;\n",
       "    }\n",
       "\n",
       "    .dataframe tbody tr th {\n",
       "        vertical-align: top;\n",
       "    }\n",
       "\n",
       "    .dataframe thead th {\n",
       "        text-align: right;\n",
       "    }\n",
       "</style>\n",
       "<table border=\"1\" class=\"dataframe\">\n",
       "  <thead>\n",
       "    <tr style=\"text-align: right;\">\n",
       "      <th></th>\n",
       "      <th>latitude</th>\n",
       "      <th>longitude</th>\n",
       "      <th>Dryer</th>\n",
       "      <th>Room-darkening_shades</th>\n",
       "      <th>Hotel</th>\n",
       "      <th>Coffee_maker</th>\n",
       "      <th>Loft</th>\n",
       "      <th>Hell's Kitchen</th>\n",
       "      <th>Gym</th>\n",
       "      <th>Bensonhurst</th>\n",
       "      <th>...</th>\n",
       "      <th>Inwood</th>\n",
       "      <th>google_verification</th>\n",
       "      <th>Boutique hotel</th>\n",
       "      <th>accommodates</th>\n",
       "      <th>a few days or more</th>\n",
       "      <th>First_aid_kit</th>\n",
       "      <th>Bed_linens</th>\n",
       "      <th>SoHo</th>\n",
       "      <th>Game_console</th>\n",
       "      <th>location</th>\n",
       "    </tr>\n",
       "  </thead>\n",
       "  <tbody>\n",
       "    <tr>\n",
       "      <th>0</th>\n",
       "      <td>0.42</td>\n",
       "      <td>0.61</td>\n",
       "      <td>0.0</td>\n",
       "      <td>0.0</td>\n",
       "      <td>0.0</td>\n",
       "      <td>0.0</td>\n",
       "      <td>0.0</td>\n",
       "      <td>0.0</td>\n",
       "      <td>0.0</td>\n",
       "      <td>0.0</td>\n",
       "      <td>...</td>\n",
       "      <td>0.0</td>\n",
       "      <td>0.0</td>\n",
       "      <td>0.0</td>\n",
       "      <td>0.133333</td>\n",
       "      <td>0.0</td>\n",
       "      <td>0.0</td>\n",
       "      <td>0.0</td>\n",
       "      <td>0.0</td>\n",
       "      <td>0.0</td>\n",
       "      <td>556</td>\n",
       "    </tr>\n",
       "    <tr>\n",
       "      <th>1</th>\n",
       "      <td>0.47</td>\n",
       "      <td>0.51</td>\n",
       "      <td>0.0</td>\n",
       "      <td>0.0</td>\n",
       "      <td>0.0</td>\n",
       "      <td>0.0</td>\n",
       "      <td>0.0</td>\n",
       "      <td>0.0</td>\n",
       "      <td>0.0</td>\n",
       "      <td>0.0</td>\n",
       "      <td>...</td>\n",
       "      <td>0.0</td>\n",
       "      <td>0.0</td>\n",
       "      <td>0.0</td>\n",
       "      <td>0.066667</td>\n",
       "      <td>0.0</td>\n",
       "      <td>1.0</td>\n",
       "      <td>0.0</td>\n",
       "      <td>0.0</td>\n",
       "      <td>0.0</td>\n",
       "      <td>177</td>\n",
       "    </tr>\n",
       "    <tr>\n",
       "      <th>2</th>\n",
       "      <td>0.43</td>\n",
       "      <td>0.69</td>\n",
       "      <td>0.0</td>\n",
       "      <td>0.0</td>\n",
       "      <td>0.0</td>\n",
       "      <td>0.0</td>\n",
       "      <td>0.0</td>\n",
       "      <td>0.0</td>\n",
       "      <td>0.0</td>\n",
       "      <td>0.0</td>\n",
       "      <td>...</td>\n",
       "      <td>0.0</td>\n",
       "      <td>1.0</td>\n",
       "      <td>0.0</td>\n",
       "      <td>0.266667</td>\n",
       "      <td>0.0</td>\n",
       "      <td>0.0</td>\n",
       "      <td>1.0</td>\n",
       "      <td>0.0</td>\n",
       "      <td>0.0</td>\n",
       "      <td>939</td>\n",
       "    </tr>\n",
       "    <tr>\n",
       "      <th>3</th>\n",
       "      <td>0.55</td>\n",
       "      <td>0.48</td>\n",
       "      <td>0.0</td>\n",
       "      <td>0.0</td>\n",
       "      <td>0.0</td>\n",
       "      <td>0.0</td>\n",
       "      <td>0.0</td>\n",
       "      <td>0.0</td>\n",
       "      <td>0.0</td>\n",
       "      <td>0.0</td>\n",
       "      <td>...</td>\n",
       "      <td>0.0</td>\n",
       "      <td>0.0</td>\n",
       "      <td>0.0</td>\n",
       "      <td>0.066667</td>\n",
       "      <td>0.0</td>\n",
       "      <td>0.0</td>\n",
       "      <td>0.0</td>\n",
       "      <td>0.0</td>\n",
       "      <td>0.0</td>\n",
       "      <td>2</td>\n",
       "    </tr>\n",
       "    <tr>\n",
       "      <th>4</th>\n",
       "      <td>0.58</td>\n",
       "      <td>0.48</td>\n",
       "      <td>1.0</td>\n",
       "      <td>0.0</td>\n",
       "      <td>0.0</td>\n",
       "      <td>0.0</td>\n",
       "      <td>0.0</td>\n",
       "      <td>0.0</td>\n",
       "      <td>1.0</td>\n",
       "      <td>0.0</td>\n",
       "      <td>...</td>\n",
       "      <td>0.0</td>\n",
       "      <td>0.0</td>\n",
       "      <td>0.0</td>\n",
       "      <td>0.066667</td>\n",
       "      <td>0.0</td>\n",
       "      <td>0.0</td>\n",
       "      <td>0.0</td>\n",
       "      <td>0.0</td>\n",
       "      <td>0.0</td>\n",
       "      <td>168</td>\n",
       "    </tr>\n",
       "  </tbody>\n",
       "</table>\n",
       "<p>5 rows × 198 columns</p>\n",
       "</div>"
      ]
     },
     "metadata": {},
     "execution_count": 15
    }
   ],
   "metadata": {}
  },
  {
   "cell_type": "code",
   "execution_count": 16,
   "source": [
    "# relevant Adam params taken from original paper\r\n",
    "NUM_ITERATIONS = 1000\r\n",
    "BATCH_SIZE = 256\r\n",
    "LEARNING_RATE = 0.001\r\n",
    "DECAY_RATE = 0.0001"
   ],
   "outputs": [],
   "metadata": {}
  },
  {
   "cell_type": "code",
   "execution_count": 17,
   "source": [
    "n_cats = len(X['location'].unique())\r\n",
    "print(n_cats)\r\n",
    "print(X['location'].max())"
   ],
   "outputs": [
    {
     "output_type": "stream",
     "name": "stdout",
     "text": [
      "2880\n",
      "2879\n"
     ]
    }
   ],
   "metadata": {}
  },
  {
   "cell_type": "code",
   "execution_count": 18,
   "source": [
    "mode = 'spatial'\r\n",
    "n_sig2bs = 2\r\n",
    "est_cors = []\r\n",
    "n_neurons = [20, 5]\r\n",
    "dropout = None\r\n",
    "activation = 'relu'"
   ],
   "outputs": [],
   "metadata": {}
  },
  {
   "cell_type": "code",
   "execution_count": 19,
   "source": [
    "coords = location_df[['latitude', 'longitude']].values\r\n",
    "dist_matrix = squareform(pdist(coords)) ** 2\r\n",
    "dist_matrix.shape"
   ],
   "outputs": [
    {
     "output_type": "execute_result",
     "data": {
      "text/plain": [
       "(2880, 2880)"
      ]
     },
     "metadata": {},
     "execution_count": 19
    }
   ],
   "metadata": {}
  },
  {
   "cell_type": "code",
   "execution_count": 20,
   "source": [
    "dist_matrix[:5,:5]"
   ],
   "outputs": [
    {
     "output_type": "execute_result",
     "data": {
      "text/plain": [
       "array([[0.    , 0.0001, 0.0081, 0.0002, 0.0082],\n",
       "       [0.0001, 0.    , 0.0082, 0.0001, 0.0085],\n",
       "       [0.0081, 0.0082, 0.    , 0.0065, 0.0001],\n",
       "       [0.0002, 0.0001, 0.0065, 0.    , 0.0068],\n",
       "       [0.0082, 0.0085, 0.0001, 0.0068, 0.    ]])"
      ]
     },
     "metadata": {},
     "execution_count": 20
    }
   ],
   "metadata": {}
  },
  {
   "cell_type": "code",
   "execution_count": 21,
   "source": [
    "X.rename(columns={'latitude': 'D1', 'longitude': 'D2', 'location': 'z0'}, inplace=True)"
   ],
   "outputs": [],
   "metadata": {}
  },
  {
   "cell_type": "code",
   "execution_count": 22,
   "source": [
    "def reg_nn(X_train, X_test, y_train, y_test, n_cats, batch=30, epochs=100, patience=10, reg_type='ohe', verbose=False):\r\n",
    "    start = time.time()\r\n",
    "    if reg_type == 'ohe':\r\n",
    "        y_pred, sigmas, _, n_epochs = reg_nn_ohe_or_ignore(X_train, X_test, y_train, y_test, [n_cats], x_cols,\r\n",
    "        batch, epochs, patience, n_neurons, dropout, activation, mode, n_sig2bs, est_cors, verbose)\r\n",
    "    elif reg_type == 'lmm':\r\n",
    "        y_pred, sigmas, _, n_epochs = reg_nn_lmm(X_train, X_test, y_train, y_test, [n_cats], x_cols,\r\n",
    "        batch, epochs, patience, n_neurons, dropout, activation, mode, n_sig2bs, est_cors, dist_matrix, verbose)\r\n",
    "    elif reg_type == 'ignore':\r\n",
    "        y_pred, sigmas, _, n_epochs = reg_nn_ohe_or_ignore(X_train, X_test, y_train, y_test, [n_cats], x_cols,\r\n",
    "        batch, epochs, patience, n_neurons, dropout, activation, mode, n_sig2bs, est_cors, verbose, ignore_RE=True)\r\n",
    "    elif reg_type == 'embed':\r\n",
    "        y_pred, sigmas, _, n_epochs = reg_nn_embed(X_train, X_test, y_train, y_test, [n_cats], x_cols,\r\n",
    "        batch, epochs, patience, n_neurons, dropout, activation, mode, n_sig2bs, est_cors, verbose)\r\n",
    "    # elif reg_type == 'menet':\r\n",
    "    #     y_pred, sigmas, n_epochs = reg_nn_menet(X_train, X_test, y_train, y_test, n_cats, batch,\r\n",
    "    #     epochs, patience, n_neurons, dropout, activation)\r\n",
    "    else:\r\n",
    "      raise ValueError(reg_type + 'is an unknown reg_type')\r\n",
    "    end = time.time()\r\n",
    "    mse = np.mean((y_pred - y_test)**2)\r\n",
    "    return mse, sigmas, n_epochs, end - start"
   ],
   "outputs": [],
   "metadata": {}
  },
  {
   "cell_type": "code",
   "execution_count": 25,
   "source": [
    "res = pd.DataFrame(columns=['experiment', 'exp_type', 'mse', 'sigma_e_est', 'sigma_b0_est', 'sigma_b1_est', 'n_epoch', 'time'])\r\n",
    "\r\n",
    "class Count:\r\n",
    "    curr = 0\r\n",
    "\r\n",
    "    def __init__(self, startWith=None):\r\n",
    "        if startWith is not None:\r\n",
    "            Count.curr = startWith - 1\r\n",
    "\r\n",
    "    def gen(self):\r\n",
    "        while True:\r\n",
    "            Count.curr += 1\r\n",
    "            yield Count.curr\r\n",
    "\r\n",
    "def iterate_reg_types(X_train, X_test, y_train, y_test, counter, verbose):\r\n",
    "    mse_lmm, sigmas, n_epochs_lmm, time_lmm = reg_nn(X_train, X_test, y_train, y_test, n_cats, reg_type='lmm', verbose=verbose)\r\n",
    "    print(' finished lmm, mse: %.2f' % mse_lmm)\r\n",
    "    gc.collect()\r\n",
    "    mse_ohe, _, n_epochs_ohe, time_ohe = reg_nn(X_train, X_test, y_train, y_test, n_cats, reg_type='ohe', verbose=verbose)\r\n",
    "    print(' finished ohe, mse: %.2f' % mse_ohe)\r\n",
    "    gc.collect()\r\n",
    "    mse_ig, _, n_epochs_ig, time_ig = reg_nn(X_train, X_test, y_train, y_test, n_cats, reg_type='ignore', verbose=verbose)\r\n",
    "    print(' finished ignore, mse: %.2f' % mse_ig)\r\n",
    "    gc.collect()\r\n",
    "    mse_em, _, n_epochs_em, time_em = reg_nn(X_train, X_test, y_train, y_test, n_cats, reg_type='embed', verbose=verbose)\r\n",
    "    print(' finished embed, mse: %.2f' % mse_em)\r\n",
    "    gc.collect()\r\n",
    "    # mse_me, sigmas_me, n_epochs_me, time_me = reg_nn(X_train, X_test, y_train, y_test, n_cats, reg_type='menet', verbose=verbose)\r\n",
    "    # print(' finished menet, mse: %.2f' % mse_me)\r\n",
    "    res.loc[next(counter)] = [i, 'lmm', mse_lmm, sigmas[0], sigmas[1][0], sigmas[1][1], n_epochs_lmm, time_lmm]\r\n",
    "    res.loc[next(counter)] = [i, 'ohe', mse_ohe, np.nan, np.nan, np.nan, n_epochs_ohe, time_ohe]\r\n",
    "    res.loc[next(counter)] = [i, 'ignore', mse_ig, np.nan, np.nan, np.nan, n_epochs_ig, time_ig]\r\n",
    "    res.loc[next(counter)] = [i, 'embed', mse_em, np.nan, np.nan, np.nan, n_epochs_em, time_em]\r\n",
    "    # res.loc[next(counter)] = [i, 'menet', mse_me, sigmas_me[0], np.nan, n_epochs_me, time_me]\r\n",
    "\r\n",
    "kf = KFold(n_splits=5, shuffle=True, random_state=42)\r\n",
    "counter = Count().gen()\r\n",
    "x_cols = [col for col in X.columns if col != 'z0']"
   ],
   "outputs": [],
   "metadata": {}
  },
  {
   "cell_type": "code",
   "execution_count": 29,
   "source": [
    "for i, (train_index, test_index) in enumerate(kf.split(X, y)):\r\n",
    "    print('iteration %d' % i)\r\n",
    "    X_train, X_test, y_train, y_test = X.loc[train_index], X.loc[test_index], y[train_index], y[test_index]\r\n",
    "    # scaler = StandardScaler()\r\n",
    "    # y_train = scaler.fit_transform(y_train.values.reshape(-1, 1)).reshape(X_train.shape[0])\r\n",
    "    # y_test = scaler.transform(y_test.values.reshape(-1, 1)).reshape(X_test.shape[0])\r\n",
    "    y_train = pd.Series(y_train, index=X_train.index)\r\n",
    "    y_test = pd.Series(y_test, index=X_test.index)\r\n",
    "    iterate_reg_types(X_train, X_test, y_train, y_test, counter, verbose=True)"
   ],
   "outputs": [],
   "metadata": {}
  },
  {
   "cell_type": "code",
   "execution_count": 28,
   "source": [
    "res"
   ],
   "outputs": [],
   "metadata": {}
  },
  {
   "cell_type": "code",
   "execution_count": null,
   "source": [
    "res.to_csv('../results/res_airbnb_spatial.csv')"
   ],
   "outputs": [],
   "metadata": {}
  }
 ]
}