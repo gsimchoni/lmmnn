{
 "metadata": {
  "language_info": {
   "codemirror_mode": {
    "name": "ipython",
    "version": 3
   },
   "file_extension": ".py",
   "mimetype": "text/x-python",
   "name": "python",
   "nbconvert_exporter": "python",
   "pygments_lexer": "ipython3",
   "version": "3.8.7"
  },
  "orig_nbformat": 2,
  "kernelspec": {
   "name": "python3",
   "display_name": "Python 3.8.7 64-bit"
  },
  "interpreter": {
   "hash": "853417d72ad81a5e50a8613ae15c38dd8101027062a267a28f225259147f3710"
  }
 },
 "nbformat": 4,
 "nbformat_minor": 2,
 "cells": [
  {
   "cell_type": "code",
   "execution_count": 1,
   "source": [
    "import os\r\n",
    "import sys\r\n",
    "module_path = os.path.abspath(os.path.join('..'))\r\n",
    "if module_path not in sys.path:\r\n",
    "    sys.path.append(module_path)"
   ],
   "outputs": [],
   "metadata": {}
  },
  {
   "cell_type": "code",
   "execution_count": 2,
   "source": [
    "import time\r\n",
    "import numpy as np\r\n",
    "import pandas as pd\r\n",
    "\r\n",
    "from sklearn.model_selection import KFold\r\n",
    "\r\n",
    "from lmmnn.nn import reg_nn_ohe_or_ignore, reg_nn_lmm, reg_nn_embed, reg_nn_menet\r\n",
    "from lmmnn.simulation import Count"
   ],
   "outputs": [],
   "metadata": {}
  },
  {
   "cell_type": "code",
   "execution_count": 3,
   "source": [
    "# Note: data_cleaned_train_comments_X.csv is the result of an ETL process described in Kalehbasti et. al. (2019), see our paper.\r\n",
    "# We followed the script in their Github repo exactly.\r\n",
    "path = 'C:/Users/gsimchoni/AirBnbPricePrediction/Data/'\r\n",
    "X_train = pd.read_csv(path + 'data_cleaned_train_comments_X.csv')\r\n",
    "y_train = pd.read_csv(path + 'data_cleaned_train_y.csv').values\r\n",
    "y_train = y_train.reshape(len(y_train), )\r\n",
    "\r\n",
    "X_val = pd.read_csv(path + 'data_cleaned_val_comments_X.csv')\r\n",
    "y_val = pd.read_csv(path + 'data_cleaned_val_y.csv').values\r\n",
    "y_val = y_val.reshape(len(y_val), )\r\n",
    "\r\n",
    "X_test = pd.read_csv(path + 'data_cleaned_test_comments_X.csv')\r\n",
    "y_test = pd.read_csv(path + 'data_cleaned_test_y.csv').values\r\n",
    "y_test = y_test.reshape(len(y_test), )"
   ],
   "outputs": [],
   "metadata": {}
  },
  {
   "cell_type": "code",
   "execution_count": 4,
   "source": [
    "coeffs = np.load(path + 'selected_coefs.npy')\r\n",
    "col_set = set()\r\n",
    "\r\n",
    "for i in range(len(coeffs)):\r\n",
    "        if (coeffs[i]):\r\n",
    "            col_set.add(X_train.columns[i])\r\n",
    "X_train = X_train[list(col_set | set(['host_id']))]\r\n",
    "X_val = X_val[list(col_set | set(['host_id']))]\r\n",
    "X_test = X_test[list(col_set | set(['host_id']))]\r\n",
    "\r\n",
    "X = pd.concat([X_train, X_val, X_test], ignore_index=True)\r\n",
    "y = np.concatenate([y_train, y_val, y_test])"
   ],
   "outputs": [],
   "metadata": {}
  },
  {
   "cell_type": "code",
   "execution_count": 5,
   "source": [
    "print(X.shape)\r\n",
    "print(y.shape)"
   ],
   "outputs": [
    {
     "output_type": "stream",
     "name": "stdout",
     "text": [
      "(49976, 197)\n",
      "(49976,)\n"
     ]
    }
   ],
   "metadata": {}
  },
  {
   "cell_type": "code",
   "execution_count": 6,
   "source": [
    "# relevant Adam params taken from original paper\r\n",
    "NUM_ITERATIONS = 1000\r\n",
    "BATCH_SIZE = 256\r\n",
    "LEARNING_RATE = 0.001\r\n",
    "DECAY_RATE = 0.0001\r\n",
    "\r\n",
    "# original paper Adam configuration:\r\n",
    "# adam = Adam(lr=LEARNING_RATE, beta_1=0.9, beta_2=0.999, epsilon=None, decay=DECAY_RATE, amsgrad=False)\r\n",
    "\r\n",
    "# some other params\r\n",
    "mode = 'intercepts'\r\n",
    "n_sig2bs = 1\r\n",
    "est_cors = []\r\n",
    "n_neurons = [20, 5]\r\n",
    "dropout = None\r\n",
    "activation = 'relu'"
   ],
   "outputs": [],
   "metadata": {}
  },
  {
   "cell_type": "code",
   "execution_count": 7,
   "source": [
    "n_cats = max([X_train['host_id'].max(), X_val['host_id'].max(), X_test['host_id'].max()]) + 1"
   ],
   "outputs": [],
   "metadata": {}
  },
  {
   "cell_type": "code",
   "execution_count": 8,
   "source": [
    "len(col_set)"
   ],
   "outputs": [
    {
     "output_type": "execute_result",
     "data": {
      "text/plain": [
       "196"
      ]
     },
     "metadata": {},
     "execution_count": 8
    }
   ],
   "metadata": {}
  },
  {
   "cell_type": "code",
   "execution_count": 9,
   "source": [
    "col_set"
   ],
   "outputs": [
    {
     "output_type": "execute_result",
     "data": {
      "text/plain": [
       "{'24-hour_check-in',\n",
       " 'Accessible-height_bed',\n",
       " 'Accessible-height_toilet',\n",
       " 'Air_conditioning',\n",
       " 'Apartment',\n",
       " 'Arverne.1',\n",
       " 'Astoria.1',\n",
       " 'Baby_bath',\n",
       " 'Babysitter_recommendations',\n",
       " 'Bathtub',\n",
       " 'Bay Ridge',\n",
       " 'Bed_linens',\n",
       " 'Bensonhurst',\n",
       " 'Boerum Hill',\n",
       " 'Borough Park',\n",
       " 'Boutique hotel',\n",
       " 'Breakfast',\n",
       " 'Bronx',\n",
       " 'Bronx.1',\n",
       " 'Brooklyn ',\n",
       " 'Brooklyn Heights',\n",
       " 'Brooklyn.1',\n",
       " 'Bushwick.1',\n",
       " 'Buzzer/wireless_intercom',\n",
       " 'Cable_TV',\n",
       " 'Carbon_monoxide_detector',\n",
       " 'Carroll Gardens',\n",
       " 'Cat(s)',\n",
       " 'Chelsea',\n",
       " 'Children’s_books_and_toys',\n",
       " 'Clinton Hill',\n",
       " 'Cobble Hill',\n",
       " 'Coffee_maker',\n",
       " 'Cooking_basics',\n",
       " 'Crib',\n",
       " 'Cypress Hills',\n",
       " 'DUMBO',\n",
       " 'Dishes_and_silverware',\n",
       " 'Dishwasher',\n",
       " 'Doorman',\n",
       " 'Downtown Brooklyn',\n",
       " 'Dryer',\n",
       " 'East Flatbush',\n",
       " 'East Harlem',\n",
       " 'East Village',\n",
       " 'Elevator',\n",
       " 'Elmhurst.1',\n",
       " 'Entire home/apt',\n",
       " 'Essentials',\n",
       " 'Ethernet_connection',\n",
       " 'Extra_pillows_and_blankets',\n",
       " 'Family/kid_friendly',\n",
       " 'Financial District',\n",
       " 'Fire_extinguisher',\n",
       " 'First_aid_kit',\n",
       " 'Flat_path_to_front_door',\n",
       " 'Flatbush',\n",
       " 'Flatiron District',\n",
       " 'Forest Hills.1',\n",
       " 'Fort Greene',\n",
       " 'Free_parking_on_premises',\n",
       " 'Free_street_parking',\n",
       " 'Game_console',\n",
       " 'Garden_or_backyard',\n",
       " 'Gowanus',\n",
       " 'Gramercy',\n",
       " 'Gravesend',\n",
       " 'Greenpoint',\n",
       " 'Greenwich Village',\n",
       " 'Guest suite',\n",
       " 'Gym',\n",
       " 'Hair_dryer',\n",
       " 'Handheld_shower_head',\n",
       " 'Hangers',\n",
       " 'Harlem.1',\n",
       " 'Heating',\n",
       " \"Hell's Kitchen\",\n",
       " 'High_chair',\n",
       " 'Host_greets_you',\n",
       " 'Hot_tub',\n",
       " 'Hot_water',\n",
       " 'Hotel',\n",
       " 'House',\n",
       " 'Indoor_fireplace',\n",
       " 'Internet',\n",
       " 'Inwood',\n",
       " 'Iron',\n",
       " 'Kensington',\n",
       " 'Keypad',\n",
       " 'Kitchen',\n",
       " 'Laptop_friendly_workspace',\n",
       " 'Little Italy',\n",
       " 'Lock_on_bedroom_door',\n",
       " 'Lockbox',\n",
       " 'Loft',\n",
       " 'Long Island City.1',\n",
       " 'Long_term_stays_allowed',\n",
       " 'Lower East Side',\n",
       " 'Luggage_dropoff_allowed',\n",
       " 'Manhattan',\n",
       " 'Microwave',\n",
       " 'Midtown',\n",
       " 'Midwood',\n",
       " 'Morningside Heights',\n",
       " 'NoHo',\n",
       " 'Nolita',\n",
       " 'Other',\n",
       " 'Oven',\n",
       " 'Pack_’n_Play/travel_crib',\n",
       " 'Paid_parking_off_premises',\n",
       " 'Paid_parking_on_premises',\n",
       " 'Park Slope',\n",
       " 'Patio_or_balcony',\n",
       " 'Pets_allowed',\n",
       " 'Pets_live_on_this_property',\n",
       " 'Pocket_wifi',\n",
       " 'Pool',\n",
       " 'Private_entrance',\n",
       " 'Private_living_room',\n",
       " 'Prospect Heights',\n",
       " 'Prospect-Lefferts Gardens',\n",
       " 'Queens',\n",
       " 'Queens.1',\n",
       " 'Real Bed',\n",
       " 'Refrigerator',\n",
       " 'Rego Park.1',\n",
       " 'Resort',\n",
       " 'Ridgewood.1',\n",
       " 'Riverdale',\n",
       " 'Rockaway Beach.1',\n",
       " 'Room-darkening_shades',\n",
       " 'Roosevelt Island',\n",
       " 'Safety_card',\n",
       " 'Self_check-in',\n",
       " 'Serviced apartment',\n",
       " 'Shampoo',\n",
       " 'Shared room',\n",
       " 'Smart_lock',\n",
       " 'Smoke_detector',\n",
       " 'Smoking_allowed',\n",
       " 'SoHo',\n",
       " 'South Slope',\n",
       " 'Springfield Gardens.1',\n",
       " 'Stair_gates',\n",
       " 'Staten Island',\n",
       " 'Staten Island.1',\n",
       " 'Stove',\n",
       " 'Suitable_for_events',\n",
       " 'Sunset Park',\n",
       " 'TV',\n",
       " 'Theater District',\n",
       " 'Townhouse',\n",
       " 'Tribeca',\n",
       " 'Upper West Side',\n",
       " 'Wakefield',\n",
       " 'Washer',\n",
       " 'Washington Heights',\n",
       " 'Well-lit_path_to_entrance',\n",
       " 'West Village',\n",
       " 'Wheelchair_accessible',\n",
       " 'Wifi',\n",
       " 'Williamsburg.1',\n",
       " 'Window_guards',\n",
       " 'Woodhaven.1',\n",
       " 'Woodside.1',\n",
       " 'a few days or more',\n",
       " 'accommodates',\n",
       " 'bedrooms',\n",
       " 'cleaning_fee',\n",
       " 'extra_people',\n",
       " 'facebook_verification',\n",
       " 'flexible',\n",
       " 'google_verification',\n",
       " 'government_id_verification',\n",
       " 'guests_included',\n",
       " 'host_has_profile_pic',\n",
       " 'host_is_superhost',\n",
       " 'host_since',\n",
       " 'identity_manual_verification',\n",
       " 'instant_bookable',\n",
       " 'longitude',\n",
       " 'number_of_reviews',\n",
       " 'review_scores_checkin',\n",
       " 'review_scores_cleanliness',\n",
       " 'review_scores_communication',\n",
       " 'review_scores_location',\n",
       " 'review_scores_rating',\n",
       " 'review_scores_value',\n",
       " 'reviews_per_month',\n",
       " 'reviews_verification',\n",
       " 'security_deposit',\n",
       " 'strict_14_with_grace_period',\n",
       " 'within a day',\n",
       " 'within a few hours',\n",
       " 'within an hour',\n",
       " 'work_email_verification'}"
      ]
     },
     "metadata": {},
     "execution_count": 9
    }
   ],
   "metadata": {}
  },
  {
   "cell_type": "code",
   "execution_count": 10,
   "source": [
    "X.rename(columns={'host_id': 'z0'}, inplace=True)"
   ],
   "outputs": [],
   "metadata": {}
  },
  {
   "cell_type": "code",
   "execution_count": 11,
   "source": [
    "def reg_nn(X_train, X_test, y_train, y_test, n_cats, batch=30, epochs=100, patience=10, reg_type='ohe', verbose=False):\r\n",
    "    start = time.time()\r\n",
    "    if reg_type == 'ohe':\r\n",
    "        y_pred, sigmas, _, n_epochs = reg_nn_ohe_or_ignore(X_train, X_test, y_train, y_test, [n_cats], x_cols,\r\n",
    "        batch, epochs, patience, n_neurons, dropout, activation, mode, n_sig2bs, est_cors, verbose)\r\n",
    "    elif reg_type == 'lmm':\r\n",
    "        y_pred, sigmas, _, n_epochs = reg_nn_lmm(X_train, X_test, y_train, y_test, [n_cats], x_cols,\r\n",
    "        batch, epochs, patience, n_neurons, dropout, activation, mode, n_sig2bs, est_cors, None, verbose)\r\n",
    "    elif reg_type == 'ignore':\r\n",
    "        y_pred, sigmas, _, n_epochs = reg_nn_ohe_or_ignore(X_train, X_test, y_train, y_test, [n_cats], x_cols,\r\n",
    "        batch, epochs, patience, n_neurons, dropout, activation, mode, n_sig2bs, est_cors, verbose, ignore_RE=True)\r\n",
    "    elif reg_type == 'embed':\r\n",
    "        y_pred, sigmas, _, n_epochs = reg_nn_embed(X_train, X_test, y_train, y_test, [n_cats], x_cols,\r\n",
    "        batch, epochs, patience, n_neurons, dropout, activation, mode, n_sig2bs, est_cors, verbose)\r\n",
    "    elif reg_type == 'menet':\r\n",
    "        y_pred, sigmas, _, n_epochs = reg_nn_menet(X_train, X_test, y_train, y_test, n_cats, x_cols, batch, epochs, patience,\r\n",
    "            n_neurons, dropout, activation, n_sig2bs, est_cors, verbose)\r\n",
    "    else:\r\n",
    "      raise ValueError(reg_type + 'is an unknown reg_type')\r\n",
    "    end = time.time()\r\n",
    "    mse = np.mean((y_pred - y_test)**2)\r\n",
    "    return mse, sigmas, n_epochs, end - start"
   ],
   "outputs": [],
   "metadata": {}
  },
  {
   "cell_type": "code",
   "execution_count": 12,
   "source": [
    "res = pd.DataFrame(columns=['experiment', 'exp_type', 'mse', 'sigma_e_est', 'sigma_b0_est', 'n_epoch', 'time'])\r\n",
    "kf = KFold(n_splits=5, shuffle=True, random_state=40)\r\n",
    "# kf = KFold(n_splits=5)\r\n",
    "counter = Count().gen()\r\n",
    "x_cols = [col for col in X.columns if col != 'z0']"
   ],
   "outputs": [],
   "metadata": {}
  },
  {
   "cell_type": "code",
   "execution_count": 13,
   "source": [
    "def iterate_reg_types(X_train, X_test, y_train, y_test, counter, verbose):\r\n",
    "    mse_lmm, sigmas, n_epochs_lmm, time_lmm = reg_nn(X_train, X_test, y_train, y_test, n_cats, reg_type='lmm', verbose=verbose)\r\n",
    "    print(' finished lmm, mse: %.2f' % mse_lmm)\r\n",
    "    mse_ohe, _, n_epochs_ohe, time_ohe = reg_nn(X_train, X_test, y_train, y_test, n_cats, reg_type='ohe', verbose=verbose)\r\n",
    "    print(' finished ohe, mse: %.2f' % mse_ohe)\r\n",
    "    mse_ig, _, n_epochs_ig, time_ig = reg_nn(X_train, X_test, y_train, y_test, n_cats, reg_type='ignore', verbose=verbose)\r\n",
    "    print(' finished ignore, mse: %.2f' % mse_ig)\r\n",
    "    mse_em, _, n_epochs_em, time_em = reg_nn(X_train, X_test, y_train, y_test, n_cats, reg_type='embed', verbose=verbose)\r\n",
    "    print(' finished embed, mse: %.2f' % mse_em)\r\n",
    "    mse_me, sigmas_me, n_epochs_me, time_me = reg_nn(X_train, X_test, y_train, y_test, n_cats, reg_type='menet', verbose=verbose)\r\n",
    "    print(' finished menet, mse: %.2f' % mse_me)\r\n",
    "    res.loc[next(counter)] = [i, 'lmm', mse_lmm, sigmas[0], sigmas[1][0], n_epochs_lmm, time_lmm]\r\n",
    "    res.loc[next(counter)] = [i, 'ohe', mse_ohe, np.nan, np.nan, n_epochs_ohe, time_ohe]\r\n",
    "    res.loc[next(counter)] = [i, 'ignore', mse_ig, np.nan, np.nan, n_epochs_ig, time_ig]\r\n",
    "    res.loc[next(counter)] = [i, 'embed', mse_em, np.nan, np.nan, n_epochs_em, time_em]\r\n",
    "    res.loc[next(counter)] = [i, 'menet', mse_me, sigmas_me[0], np.nan, n_epochs_me, time_me]"
   ],
   "outputs": [],
   "metadata": {}
  },
  {
   "cell_type": "code",
   "execution_count": 15,
   "source": [
    "for i, (train_index, test_index) in enumerate(kf.split(X, y)):\r\n",
    "    print('iteration %d' % i)\r\n",
    "    X_train, X_test, y_train, y_test = X.loc[train_index], X.loc[test_index], y[train_index], y[test_index]\r\n",
    "    # scaler = StandardScaler()\r\n",
    "    # y_train = scaler.fit_transform(y_train.values.reshape(-1, 1)).reshape(X_train.shape[0])\r\n",
    "    # y_test = scaler.transform(y_test.values.reshape(-1, 1)).reshape(X_test.shape[0])\r\n",
    "    y_train = pd.Series(y_train, index=X_train.index)\r\n",
    "    y_test = pd.Series(y_test, index=X_test.index)\r\n",
    "    iterate_reg_types(X_train, X_test, y_train, y_test, counter, verbose=True)"
   ],
   "outputs": [],
   "metadata": {}
  },
  {
   "cell_type": "code",
   "execution_count": 17,
   "source": [
    "res"
   ],
   "outputs": [],
   "metadata": {}
  },
  {
   "cell_type": "code",
   "execution_count": null,
   "source": [
    "res.to_csv('../results/res_airbnb.csv')"
   ],
   "outputs": [],
   "metadata": {}
  }
 ]
}