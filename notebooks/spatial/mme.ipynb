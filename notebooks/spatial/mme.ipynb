{
 "cells": [
  {
   "cell_type": "code",
   "execution_count": null,
   "metadata": {},
   "outputs": [],
   "source": [
    "import os\n",
    "import sys\n",
    "module_path = os.path.abspath(os.path.join('../..'))\n",
    "if module_path not in sys.path:\n",
    "    sys.path.append(module_path)"
   ]
  },
  {
   "cell_type": "code",
   "execution_count": null,
   "metadata": {},
   "outputs": [],
   "source": [
    "import time\n",
    "import gc\n",
    "import numpy as np\n",
    "import pandas as pd\n",
    "import matplotlib.pyplot as plt\n",
    "from scipy.spatial.distance import pdist, squareform\n",
    "\n",
    "from sklearn.model_selection import KFold\n",
    "from sklearn.preprocessing import StandardScaler\n",
    "\n",
    "from lmmnn.nn import reg_nn_ohe_or_ignore, reg_nn_embed, reg_nn_lmm, reg_nn_svdkl, reg_nn_cnn\n",
    "from lmmnn.simulation import Count\n",
    "\n",
    "import tensorflow.keras.backend as K"
   ]
  },
  {
   "cell_type": "code",
   "execution_count": null,
   "metadata": {},
   "outputs": [],
   "source": [
    "n = 5000\n",
    "a = 2\n",
    "\n",
    "A = np.matrix([np.random.randn(n) + np.random.randn(1)*a for i in range(n)])\n",
    "A = A*np.transpose(A)\n",
    "D_half = np.diag(np.diag(A)**(-0.5))\n",
    "G = np.array(D_half*A*D_half)\n",
    "\n",
    "sig2b = 0.8\n",
    "sig2e = 1.0\n",
    "b = np.random.multivariate_normal(np.zeros(n), G * sig2b)\n",
    "e = np.random.normal(0, np.sqrt(sig2e), n)\n",
    "y = b + e\n",
    "\n",
    "y_df = pd.DataFrame({'y': y, 'b_true': b})"
   ]
  },
  {
   "cell_type": "code",
   "execution_count": null,
   "metadata": {},
   "outputs": [],
   "source": [
    "print(G.shape)\n",
    "print(G[:5, :5])"
   ]
  },
  {
   "cell_type": "code",
   "execution_count": null,
   "metadata": {},
   "outputs": [],
   "source": [
    "y_df['z0'] = np.arange(y_df.shape[0])\n",
    "y_df.head()"
   ]
  },
  {
   "cell_type": "code",
   "execution_count": null,
   "metadata": {},
   "outputs": [],
   "source": [
    "mode = 'mme'\n",
    "batch = 100\n",
    "epochs = 500\n",
    "patience = 10\n",
    "qs = []\n",
    "q_spatial = len(y_df['z0'].unique())\n",
    "n_neurons = [10]\n",
    "dropout = []\n",
    "activation = 'relu'\n",
    "Z_non_linear = False # will currently only work with g(Z) = Z\n",
    "Z_embed_dim_pct = 10\n",
    "n_sig2bs = 0\n",
    "n_sig2bs_spatial = 1\n",
    "est_cors = []\n",
    "time2measure_dict = None\n",
    "spatial_embed_neurons = None \n",
    "# spatial_embed_neurons = [100, 50, 20, 10, 20, 50, 100] # uncomment for LMMNN-E\n",
    "verbose = False\n",
    "log_params = False\n",
    "idx = None\n",
    "shuffle = False\n",
    "resolution = 100"
   ]
  },
  {
   "cell_type": "code",
   "execution_count": null,
   "metadata": {},
   "outputs": [],
   "source": [
    "def reg_nn(X_train, X_test, y_train, y_test, reg_type, b_true):\n",
    "    start = time.time()\n",
    "    if reg_type == 'lmmnn':\n",
    "        b_hat, sigmas, _, _, n_epochs = reg_nn_lmm(\n",
    "            X_train, X_test, y_train, y_test, qs, q_spatial, x_cols, batch, epochs, patience,\n",
    "            n_neurons, dropout, activation, mode,\n",
    "            n_sig2bs, n_sig2bs_spatial, est_cors, G, spatial_embed_neurons,\n",
    "            verbose, Z_non_linear, Z_embed_dim_pct, log_params, idx, shuffle, b_true = b_true)\n",
    "    else:\n",
    "        raise ValueError(reg_type + 'is an unknown reg_type')\n",
    "    end = time.time()\n",
    "    K.clear_session()\n",
    "    gc.collect()\n",
    "    mse = np.mean((b_hat - y_df['y'])**2)\n",
    "    plt.scatter(y_df['y'], b_hat, alpha = 0.5)\n",
    "    plt.show()\n",
    "    return mse, sigmas, n_epochs, end - start"
   ]
  },
  {
   "cell_type": "code",
   "execution_count": null,
   "metadata": {},
   "outputs": [],
   "source": [
    "res = pd.DataFrame(columns=['experiment', 'exp_type', 'mse', 'sigma_e_est', 'sigma_b0_est', 'n_epoch', 'time'])\n",
    "counter = 0\n",
    "\n",
    "def iterate_reg_types(X_train, X_test, y_train, y_test, b_true):\n",
    "    mse_lmm, sigmas, n_epochs_lmm, time_lmm = reg_nn(X_train, X_test, y_train, y_test, reg_type='lmmnn', b_true=b_true)\n",
    "    print(' finished lmmnn, mse: %.4f' % (mse_lmm))\n",
    "    res.loc[next(counter)] = [i, 'lmmnn', mse_lmm, sigmas[0], sigmas[2][0], n_epochs_lmm, time_lmm]\n",
    "\n",
    "kf = KFold(n_splits=5, shuffle=True, random_state=42)\n",
    "counter = Count().gen()\n",
    "X, y = y_df.drop(['b_true', 'y'], axis=1), y_df['y']\n",
    "x_cols = [col for col in X.columns if col not in ['z0']]\n",
    "b_true = y_df['b_true'].values\n",
    "for i, (train_index, test_index) in enumerate(kf.split(X, y)):\n",
    "    print('iteration %d' % i)\n",
    "    X_train, X_test, y_train, y_test = X.loc[train_index].copy(), X.loc[test_index].copy(), y[train_index], y[test_index]\n",
    "    iterate_reg_types(X_train, X_test, y_train, y_test, b_true)"
   ]
  },
  {
   "cell_type": "code",
   "execution_count": null,
   "metadata": {},
   "outputs": [],
   "source": [
    "res"
   ]
  },
  {
   "cell_type": "code",
   "execution_count": null,
   "metadata": {},
   "outputs": [],
   "source": [
    "# res.to_csv('../../results/res_mme.csv')"
   ]
  }
 ],
 "metadata": {
  "kernelspec": {
   "display_name": "Python 3",
   "language": "python",
   "name": "python3"
  },
  "language_info": {
   "codemirror_mode": {
    "name": "ipython",
    "version": 3
   },
   "file_extension": ".py",
   "mimetype": "text/x-python",
   "name": "python",
   "nbconvert_exporter": "python",
   "pygments_lexer": "ipython3",
   "version": "3.8.7"
  },
  "orig_nbformat": 4
 },
 "nbformat": 4,
 "nbformat_minor": 2
}
