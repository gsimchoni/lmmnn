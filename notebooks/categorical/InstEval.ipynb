{
 "cells": [
  {
   "cell_type": "code",
   "execution_count": null,
   "metadata": {},
   "outputs": [],
   "source": [
    "import os\n",
    "import sys\n",
    "module_path = os.path.abspath(os.path.join('../..'))\n",
    "if module_path not in sys.path:\n",
    "    sys.path.append(module_path)"
   ]
  },
  {
   "cell_type": "code",
   "execution_count": null,
   "metadata": {},
   "outputs": [],
   "source": [
    "import time\n",
    "import gc\n",
    "import numpy as np\n",
    "import pandas as pd\n",
    "import matplotlib.pyplot as plt\n",
    "import seaborn as sns\n",
    "\n",
    "from sklearn.model_selection import KFold\n",
    "from sklearn.preprocessing import StandardScaler\n",
    "\n",
    "from lmmnn.nn import reg_nn_ohe_or_ignore, reg_nn_embed, reg_nn_lmm\n",
    "from lmmnn.simulation import Count\n",
    "\n",
    "import tensorflow.keras.backend as K"
   ]
  },
  {
   "cell_type": "code",
   "execution_count": null,
   "metadata": {},
   "outputs": [],
   "source": [
    "# code from:\n",
    "def load_insteval():\n",
    "  \"\"\"Loads the InstEval data set.\n",
    "\n",
    "  It contains 73,421 university lecture evaluations by students at ETH\n",
    "  Zurich with a total of 2,972 students, 2,160 professors and\n",
    "  lecturers, and several student, lecture, and lecturer attributes.\n",
    "  Implementation is built from the `observations` Python package.\n",
    "\n",
    "  Returns:\n",
    "    Tuple of np.ndarray `x_train` with 73,421 rows and 7 columns and\n",
    "    dictionary `metadata` of column headers (feature names).\n",
    "  \"\"\"\n",
    "  url = ('https://raw.github.com/vincentarelbundock/Rdatasets/master/csv/'\n",
    "         'lme4/InstEval.csv')\n",
    "  with requests.Session() as s:\n",
    "    download = s.get(url)\n",
    "    f = download.content.decode().splitlines()\n",
    "\n",
    "  iterator = csv.reader(f)\n",
    "  columns = next(iterator)[1:]\n",
    "  x_train = np.array([row[1:] for row in iterator], dtype=np.int16)\n",
    "  metadata = {'columns': columns}\n",
    "  return x_train, metadata"
   ]
  },
  {
   "cell_type": "code",
   "execution_count": null,
   "metadata": {},
   "outputs": [],
   "source": [
    "data, metadata = load_insteval()\n",
    "data = pd.DataFrame(data, columns=metadata['columns'])\n",
    "data = data.rename(columns={'s': 'students',\n",
    "                            'd': 'instructors',\n",
    "                            'dept': 'departments',\n",
    "                            'y': 'ratings'})\n",
    "data['students'] -= 1  # start index by 0\n",
    "# Remap categories to start from 0 and end at max(category).\n",
    "data['instructors'] = data['instructors'].astype('category').cat.codes\n",
    "data['departments'] = data['departments'].astype('category').cat.codes\n",
    "\n",
    "print(data.shape)\n",
    "data.head()"
   ]
  },
  {
   "cell_type": "code",
   "execution_count": null,
   "metadata": {},
   "outputs": [],
   "source": [
    "data['ratings'].plot(kind='hist', bins = 5)\n",
    "plt.show()"
   ]
  },
  {
   "cell_type": "code",
   "execution_count": null,
   "metadata": {},
   "outputs": [],
   "source": [
    "print(len(data['students'].unique()))\n",
    "print(data['students'].max())"
   ]
  },
  {
   "cell_type": "code",
   "execution_count": null,
   "metadata": {},
   "outputs": [],
   "source": [
    "n_cat_students = max(data['students']) + 1\n",
    "n_cat_instructors = max(data['instructors']) + 1\n",
    "n_cat_departments = max(data['departments']) + 1\n",
    "\n",
    "print(\"Number of students:\", n_cat_students)\n",
    "print(\"Number of instructors:\", n_cat_instructors)\n",
    "print(\"Number of departments:\", n_cat_departments)"
   ]
  },
  {
   "cell_type": "code",
   "execution_count": null,
   "metadata": {},
   "outputs": [],
   "source": [
    "data.rename(columns={'students': 'z0',\n",
    "                     'departments': 'z2',\n",
    "                    'instructors': 'z1'}, inplace=True)"
   ]
  },
  {
   "cell_type": "code",
   "execution_count": null,
   "metadata": {},
   "outputs": [],
   "source": [
    "mode = 'intercepts'\n",
    "n_sig2bs = 3\n",
    "n_sig2bs_spatial = 0\n",
    "est_cors = []\n",
    "n_neurons = [10, 3]\n",
    "activation = 'relu'\n",
    "dropout = []\n",
    "spatial_embedded_neurons = []\n",
    "n_cats = [n_cat_students, n_cat_instructors, n_cat_departments]\n",
    "dist_matrix = None\n",
    "q_spatial = None\n",
    "x_cols = x_cols = ['studage', 'lectage', 'service']"
   ]
  },
  {
   "cell_type": "code",
   "execution_count": null,
   "metadata": {},
   "outputs": [],
   "source": [
    "def reg_nn(X_train, X_test, y_train, y_test, n_cats, batch=200, epochs=200, patience=5, reg_type='ohe', verbose=False):\n",
    "    start = time.time()\n",
    "    if reg_type == 'ohe':\n",
    "        y_pred, sigmas, _, _, n_epochs = reg_nn_ohe_or_ignore(X_train, X_test, y_train, y_test, n_cats, x_cols, batch, epochs, patience,\n",
    "                                                           n_neurons, dropout, activation,\n",
    "                                                           mode, n_sig2bs, n_sig2bs_spatial, est_cors, verbose)\n",
    "    elif reg_type == 'lmm':\n",
    "        y_pred, sigmas, _, _, n_epochs = reg_nn_lmm(X_train, X_test, y_train, y_test, n_cats, q_spatial, x_cols, batch, epochs, patience,\n",
    "                                                 n_neurons, dropout, activation,\n",
    "                                                 mode=mode, n_sig2bs=n_sig2bs, n_sig2bs_spatial=n_sig2bs_spatial,\n",
    "                                                 est_cors=est_cors, dist_matrix=dist_matrix,\n",
    "                                                 spatial_embed_neurons=spatial_embedded_neurons, verbose=verbose, log_params=False)\n",
    "    elif reg_type == 'ignore':\n",
    "        y_pred, sigmas, _, _, n_epochs = reg_nn_ohe_or_ignore(X_train, X_test, y_train, y_test, n_cats, x_cols, batch, epochs, patience,\n",
    "                                                           n_neurons, dropout, activation,\n",
    "                                                           mode, n_sig2bs, n_sig2bs_spatial, est_cors, verbose, ignore_RE=True)\n",
    "    elif reg_type == 'embed':\n",
    "        y_pred, sigmas, _, _, n_epochs = reg_nn_embed(X_train, X_test, y_train, y_test, n_cats, q_spatial, x_cols, batch, epochs, patience,\n",
    "                                                   n_neurons, dropout, activation,\n",
    "                                                   mode, n_sig2bs, n_sig2bs_spatial, est_cors, verbose)\n",
    "    else:\n",
    "      raise ValueError(reg_type + 'is an unknown reg_type')\n",
    "    end = time.time()\n",
    "    gc.collect()\n",
    "    y_pred = np.clip(y_pred, 1, 5)\n",
    "    mse = np.mean((y_pred - y_test)**2)\n",
    "    sns.boxplot(x='y_test', y='y_pred', data=pd.DataFrame({'y_test': y_test, 'y_pred': y_pred}), boxprops=dict(alpha=0.5))\n",
    "    plt.show()\n",
    "    return mse, sigmas, n_epochs, end - start"
   ]
  },
  {
   "cell_type": "code",
   "execution_count": null,
   "metadata": {},
   "outputs": [],
   "source": [
    "res = pd.DataFrame(columns=['experiment', 'exp_type', 'mse', 'sigma_e_est',\n",
    "                            'sigma_b0_est', 'sigma_b1_est', 'sigma_b2_est',\n",
    "                            'n_epoch', 'time'])\n",
    "counter = Count().gen()\n",
    "\n",
    "def iterate_reg_types(X_train, X_test, y_train, y_test, verbose):\n",
    "    mse_lmm, sigmas, n_epochs_lmm, time_lmm = reg_nn(X_train, X_test, y_train, y_test, n_cats, reg_type='lmm', verbose=verbose)\n",
    "    print(' finished lmm, mse: %.2f' % (mse_lmm))\n",
    "    # mse_ohe, _, n_epochs_ohe, time_ohe = reg_nn(X_train, X_test, y_train, y_test, n_cats, reg_type='ohe', verbose=verbose)\n",
    "    # print(' finished ohe, mse: %.2f' % (mse_ohe))\n",
    "    mse_ig, _, n_epochs_ig, time_ig = reg_nn(X_train, X_test, y_train, y_test, n_cats, reg_type='ignore', verbose=verbose)\n",
    "    print(' finished ignore, mse: %.2f' % (mse_ig))\n",
    "    mse_em, _, n_epochs_em, time_em = reg_nn(X_train, X_test, y_train, y_test, n_cats, reg_type='embed', verbose=verbose)\n",
    "    print(' finished embed, mse: %.2f' % (mse_em))\n",
    "    res.loc[next(counter)] = [i, 'lmm', mse_lmm, sigmas[0], sigmas[1][0], sigmas[1][1], sigmas[1][2],\n",
    "                              n_epochs_lmm, time_lmm]\n",
    "    # res.loc[next(counter)] = [i, 'ohe', mse_ohe, np.nan, np.nan, np.nan, np.nan, n_epochs_ohe, time_ohe]\n",
    "    res.loc[next(counter)] = [i, 'ignore', mse_ig, np.nan, np.nan, np.nan, np.nan, n_epochs_ig, time_ig]\n",
    "    res.loc[next(counter)] = [i, 'embed', mse_em, np.nan, np.nan, np.nan, np.nan, n_epochs_em, time_em]\n",
    "\n",
    "kf = KFold(n_splits=5, shuffle=True, random_state=42)\n",
    "X, y = data.drop('ratings', axis=1), data['ratings']"
   ]
  },
  {
   "cell_type": "code",
   "execution_count": null,
   "metadata": {},
   "outputs": [],
   "source": [
    "for i, (train_index, test_index) in enumerate(kf.split(X, y)):\n",
    "    print('iteration %d' % i)\n",
    "    X_train, X_test, y_train, y_test = X.loc[train_index].copy(), X.loc[test_index].copy(), y[train_index], y[test_index]\n",
    "    iterate_reg_types(X_train, X_test, y_train, y_test, True)"
   ]
  },
  {
   "cell_type": "code",
   "execution_count": null,
   "metadata": {},
   "outputs": [],
   "source": [
    "res"
   ]
  },
  {
   "cell_type": "code",
   "execution_count": null,
   "metadata": {},
   "outputs": [],
   "source": [
    "res.to_csv('../../results/res_insteval.csv')"
   ]
  }
 ],
 "metadata": {
  "language_info": {
   "name": "python"
  },
  "orig_nbformat": 4
 },
 "nbformat": 4,
 "nbformat_minor": 2
}
