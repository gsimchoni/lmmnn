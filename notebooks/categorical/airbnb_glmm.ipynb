{
  "cells": [
    {
      "cell_type": "code",
      "execution_count": null,
      "metadata": {
        "id": "AO1sM5T3KcUP"
      },
      "outputs": [],
      "source": [
        "import os\n",
        "import sys\n",
        "module_path = os.path.abspath(os.path.join('../..'))\n",
        "if module_path not in sys.path:\n",
        "    sys.path.append(module_path)"
      ]
    },
    {
      "cell_type": "code",
      "execution_count": null,
      "metadata": {
        "id": "nBpJvrxeKcUS"
      },
      "outputs": [],
      "source": [
        "import time\n",
        "import gc\n",
        "import numpy as np\n",
        "import pandas as pd\n",
        "import matplotlib.pyplot as plt\n",
        "import seaborn as sns\n",
        "\n",
        "from sklearn.model_selection import KFold\n",
        "from sklearn.preprocessing import StandardScaler\n",
        "from sklearn.metrics import roc_auc_score\n",
        "\n",
        "from lmmnn.nn import reg_nn_ohe_or_ignore, reg_nn_embed, reg_nn_lmm\n",
        "from lmmnn.simulation import Count\n",
        "\n",
        "import tensorflow.keras.backend as K\n",
        "import tensorflow as tf"
      ]
    },
    {
      "cell_type": "code",
      "execution_count": null,
      "metadata": {
        "id": "rPcnCSwLKcUT"
      },
      "outputs": [],
      "source": [
        "# Note: data_cleaned_train_comments_X.csv is the result of an ETL process described in Kalehbasti et. al. (2019), see our paper.\n",
        "# We followed the script in their Github repo exactly.\n",
        "path = '../../AirBnbPricePrediction/Data'\n",
        "X_train = pd.read_csv(path + 'data_cleaned_train_comments_X.csv')\n",
        "y_train = pd.read_csv(path + 'data_cleaned_train_y.csv').values\n",
        "y_train = y_train.reshape(len(y_train), )\n",
        "\n",
        "X_val = pd.read_csv(path + 'data_cleaned_val_comments_X.csv')\n",
        "y_val = pd.read_csv(path + 'data_cleaned_val_y.csv').values\n",
        "y_val = y_val.reshape(len(y_val), )\n",
        "\n",
        "X_test = pd.read_csv(path + 'data_cleaned_test_comments_X.csv')\n",
        "y_test = pd.read_csv(path + 'data_cleaned_test_y.csv').values\n",
        "y_test = y_test.reshape(len(y_test), )"
      ]
    },
    {
      "cell_type": "code",
      "execution_count": null,
      "metadata": {
        "id": "FQxh9Eh4XVdX"
      },
      "outputs": [],
      "source": [
        "coeffs = np.load(path + 'selected_coefs.npy')\n",
        "col_set = set()\n",
        "\n",
        "for i in range(len(coeffs)):\n",
        "    if coeffs[i]:\n",
        "        col_set.add(X_train.columns[i])\n",
        "X_train = X_train[list(col_set | set(['longitude', 'latitude', 'host_id']))]\n",
        "X_val = X_val[list(col_set | set(['longitude', 'latitude', 'host_id']))]\n",
        "X_test = X_test[list(col_set | set(['longitude', 'latitude', 'host_id']))]\n",
        "\n",
        "X = pd.concat([X_train, X_val, X_test], ignore_index=True)\n",
        "y = np.concatenate([y_train, y_val, y_test])"
      ]
    },
    {
      "cell_type": "code",
      "execution_count": null,
      "metadata": {
        "colab": {
          "base_uri": "https://localhost:8080/",
          "height": 342
        },
        "id": "6VW7wJEXXdlZ",
        "outputId": "202a0909-371d-4a4e-91a0-5ce931d2283e"
      },
      "outputs": [],
      "source": [
        "print(len(col_set))\n",
        "print(X.shape)\n",
        "print(y.shape)\n",
        "X.head()"
      ]
    },
    {
      "cell_type": "code",
      "execution_count": null,
      "metadata": {
        "colab": {
          "base_uri": "https://localhost:8080/"
        },
        "id": "GIZPWDnrBA5N",
        "outputId": "a9f854c1-3c45-4e69-be90-615c75a9af17"
      },
      "outputs": [],
      "source": [
        "'Air_conditioning' in col_set"
      ]
    },
    {
      "cell_type": "code",
      "execution_count": null,
      "metadata": {
        "id": "kWjE5U2ZFWar"
      },
      "outputs": [],
      "source": [
        "# define y as the binary air conditioning and attach previous y (log(price)) to X\n",
        "X['price'] = y\n",
        "y = X['Air_conditioning']\n",
        "X.drop(['Air_conditioning'], axis=1, inplace=True)"
      ]
    },
    {
      "cell_type": "code",
      "execution_count": null,
      "metadata": {
        "colab": {
          "base_uri": "https://localhost:8080/"
        },
        "id": "gYMJEqZsF3T7",
        "outputId": "fdb1abff-1d59-48f4-adcc-19c7431e5067"
      },
      "outputs": [],
      "source": [
        "y.value_counts()"
      ]
    },
    {
      "cell_type": "code",
      "execution_count": null,
      "metadata": {
        "id": "gMlH4Vs6KcUX"
      },
      "outputs": [],
      "source": [
        "X.rename(columns={'host_id': 'z0'}, inplace=True)"
      ]
    },
    {
      "cell_type": "code",
      "execution_count": null,
      "metadata": {
        "colab": {
          "base_uri": "https://localhost:8080/"
        },
        "id": "Ql_bTjO5xWYu",
        "outputId": "2d1748ca-aecb-419b-e243-02868bb212db"
      },
      "outputs": [],
      "source": [
        "[col for col in X.columns if col.startswith('z')]"
      ]
    },
    {
      "cell_type": "code",
      "execution_count": null,
      "metadata": {
        "id": "GPsfw3qKKcUY"
      },
      "outputs": [],
      "source": [
        "batch = 100\n",
        "epochs = 500\n",
        "patience = 10\n",
        "qs = [len(X['z0'].unique())]\n",
        "q_spatial = None\n",
        "n_neurons = [10, 3]\n",
        "dropout = []\n",
        "activation = 'relu'\n",
        "Z_non_linear = False\n",
        "Z_embed_dim_pct = 10\n",
        "mode = 'glmm'\n",
        "n_sig2bs = 1\n",
        "n_sig2bs_spatial = 0\n",
        "est_cors = []\n",
        "time2measure_dict = None\n",
        "spatial_embed_neurons = None\n",
        "resultion = None\n",
        "verbose = True\n",
        "log_params = False\n",
        "idx = None\n",
        "shuffle = False\n",
        "resolution = 100\n",
        "dist_matrix = None"
      ]
    },
    {
      "cell_type": "code",
      "execution_count": null,
      "metadata": {
        "id": "RdFsdFpcKcUZ"
      },
      "outputs": [],
      "source": [
        "def reg_nn(X_train, X_test, y_train, y_test, reg_type):\n",
        "    start = time.time()\n",
        "    if reg_type == 'ohe':\n",
        "        y_pred, sigmas, _, _, n_epochs = reg_nn_ohe_or_ignore(\n",
        "            X_train, X_test, y_train, y_test, qs, x_cols, batch, epochs, patience,\n",
        "            n_neurons, dropout, activation, mode, n_sig2bs, n_sig2bs_spatial, est_cors, verbose)\n",
        "    elif reg_type == 'lmm':\n",
        "        y_pred, sigmas, _, _, n_epochs = reg_nn_lmm(\n",
        "            X_train, X_test, y_train, y_test, qs, q_spatial, x_cols, batch, epochs, patience,\n",
        "            n_neurons, dropout, activation, mode,\n",
        "            n_sig2bs, n_sig2bs_spatial, est_cors, dist_matrix, spatial_embed_neurons,\n",
        "            verbose, Z_non_linear, Z_embed_dim_pct, log_params, idx, shuffle)\n",
        "    elif reg_type == 'ignore':\n",
        "        y_pred, sigmas, _, _, n_epochs = reg_nn_ohe_or_ignore(\n",
        "            X_train, X_test, y_train, y_test, qs, x_cols, batch, epochs, patience,\n",
        "            n_neurons, dropout, activation, mode, n_sig2bs, n_sig2bs_spatial, est_cors, verbose, ignore_RE=True)\n",
        "    elif reg_type == 'embed':\n",
        "        y_pred, sigmas, _, _, n_epochs = reg_nn_embed(\n",
        "            X_train, X_test, y_train, y_test, qs, q_spatial, x_cols, batch, epochs, patience,\n",
        "            n_neurons, dropout, activation, mode, n_sig2bs, n_sig2bs_spatial, est_cors, verbose)\n",
        "    else:\n",
        "        raise ValueError(reg_type + 'is an unknown reg_type')\n",
        "    end = time.time()\n",
        "    K.clear_session()\n",
        "    gc.collect()\n",
        "    auc = roc_auc_score(y_test, y_pred)\n",
        "    # plt.scatter(y_test, y_pred, alpha = 0.5)\n",
        "    sns.boxplot(x='y_test', y='y_pred', data=pd.DataFrame({'y_test': y_test, 'y_pred': y_pred}), boxprops=dict(alpha=0.5))\n",
        "    plt.show()\n",
        "    return auc, sigmas, n_epochs, end - start"
      ]
    },
    {
      "cell_type": "code",
      "execution_count": null,
      "metadata": {
        "colab": {
          "base_uri": "https://localhost:8080/",
          "height": 1000
        },
        "id": "cttv5-2gKcUZ",
        "outputId": "f3b5c1ae-4e2e-4c4b-c62d-591ed8380c8b"
      },
      "outputs": [],
      "source": [
        "res = pd.DataFrame(columns=['experiment', 'exp_type', 'auc', 'sigma_b_est', 'n_epoch', 'time'])\n",
        "counter = 0\n",
        "\n",
        "def iterate_reg_types(X_train, X_test, y_train, y_test):\n",
        "    auc_lmm, sigmas, n_epochs_lmm, time_lmm = reg_nn(X_train, X_test, y_train, y_test, reg_type='lmm')\n",
        "    print(' finished lmmnn, auc: %.4f' % (auc_lmm))\n",
        "    # auc_ig, _, n_epochs_ig, time_ig = reg_nn(X_train, X_test, y_train, y_test, reg_type='ignore')\n",
        "    # print(' finished ignore, auc: %.4f' % (auc_ig))\n",
        "    # auc_em, _, n_epochs_em, time_em = reg_nn(X_train, X_test, y_train, y_test, reg_type='embed')\n",
        "    # print(' finished embed, auc: %.4f' % (auc_em))\n",
        "    res.loc[next(counter)] = [i, 'lmm', auc_lmm, sigmas[1][0], n_epochs_lmm, time_lmm]\n",
        "    # res.loc[next(counter)] = [i, 'ignore', auc_ig, np.nan, n_epochs_ig, time_ig]\n",
        "    # res.loc[next(counter)] = [i, 'embed', auc_em, np.nan,  n_epochs_em, time_em]\n",
        "\n",
        "kf = KFold(n_splits=5, shuffle=True, random_state=42)\n",
        "counter = Count().gen()\n",
        "\n",
        "x_cols = [col for col in X.columns if col not in ['z0']]\n",
        "x_cols_to_scale = ['price']\n",
        "\n",
        "for i, (train_index, test_index) in enumerate(kf.split(X, y)):\n",
        "    print('iteration %d' % i)\n",
        "    X_train, X_test, y_train, y_test = X.loc[train_index].copy(), X.loc[test_index].copy(), y[train_index], y[test_index]\n",
        "    y_train = pd.Series(y_train, index=X_train.index)\n",
        "    y_test = pd.Series(y_test, index=X_test.index)\n",
        "    scaler = StandardScaler()\n",
        "    X_train[x_cols_to_scale] = scaler.fit_transform(X_train[x_cols_to_scale])\n",
        "    X_test[x_cols_to_scale] = scaler.transform(X_test[x_cols_to_scale])\n",
        "    iterate_reg_types(X_train, X_test, y_train, y_test)"
      ]
    },
    {
      "cell_type": "code",
      "execution_count": null,
      "metadata": {
        "colab": {
          "base_uri": "https://localhost:8080/",
          "height": 363
        },
        "id": "dBgE2HjmIB0y",
        "outputId": "c0f7de3b-a157-4b32-e1f8-2ee8117c14d8"
      },
      "outputs": [],
      "source": [
        "res"
      ]
    },
    {
      "cell_type": "code",
      "execution_count": null,
      "metadata": {
        "colab": {
          "base_uri": "https://localhost:8080/"
        },
        "id": "VHRiUkjNGdAB",
        "outputId": "cb1e3e15-efd5-4487-f9fc-da1041e431e4"
      },
      "outputs": [],
      "source": [
        "res.groupby('exp_type')['auc'].mean()"
      ]
    },
    {
      "cell_type": "code",
      "execution_count": null,
      "metadata": {
        "id": "uCiaCmsOKcUa"
      },
      "outputs": [],
      "source": [
        "res.to_csv('../../results/res_airbnb_glmm.csv')"
      ]
    }
  ],
  "metadata": {
    "colab": {
      "machine_shape": "hm",
      "provenance": []
    },
    "interpreter": {
      "hash": "853417d72ad81a5e50a8613ae15c38dd8101027062a267a28f225259147f3710"
    },
    "kernelspec": {
      "display_name": "Python 3.8.7 64-bit",
      "name": "python3"
    },
    "language_info": {
      "codemirror_mode": {
        "name": "ipython",
        "version": 3
      },
      "file_extension": ".py",
      "mimetype": "text/x-python",
      "name": "python",
      "nbconvert_exporter": "python",
      "pygments_lexer": "ipython3",
      "version": "3.8.7"
    }
  },
  "nbformat": 4,
  "nbformat_minor": 0
}
