{
 "cells": [
  {
   "cell_type": "code",
   "execution_count": null,
   "metadata": {},
   "outputs": [],
   "source": [
    "import os\n",
    "import sys\n",
    "module_path = os.path.abspath(os.path.join('../..'))\n",
    "if module_path not in sys.path:\n",
    "    sys.path.append(module_path)"
   ]
  },
  {
   "cell_type": "code",
   "execution_count": null,
   "metadata": {},
   "outputs": [],
   "source": [
    "import time\n",
    "import gc\n",
    "import numpy as np\n",
    "import pandas as pd\n",
    "import matplotlib.pyplot as plt\n",
    "\n",
    "from sklearn.model_selection import KFold\n",
    "from sklearn.preprocessing import StandardScaler\n",
    "\n",
    "from lmmnn.nn import reg_nn_ohe_or_ignore, reg_nn_embed, reg_nn_lmm\n",
    "from lmmnn.simulation import Count\n",
    "\n",
    "import tensorflow.keras.backend as K"
   ]
  },
  {
   "cell_type": "code",
   "execution_count": null,
   "metadata": {},
   "outputs": [],
   "source": [
    "# After downloading the UK Biobank relevant data, run the ukb_blood_cancer.R ETL, here tryiglycerin is the predicted feature\n",
    "ukb = pd.read_csv('ukb_triglyc_cancer.csv')\n",
    "cols_to_keep = ['blood_triglyc', 'treatment_id', 'operation_id', 'diagnosis_id', 'cancer_id', 'histology_id',\n",
    "  'weight', 'height_standing', 'gender', 'age', 'smoking', 'nap', 'sleepiness', 'dozing', 'tobacco',\n",
    "  'skin_color', 'facial_aging', 'alive_father', 'alive_mother', 'hand_grip_left', 'hand_grip_right']\n",
    "\n",
    "ukb = ukb[cols_to_keep]\n",
    "print(ukb.shape)\n",
    "ukb.head()"
   ]
  },
  {
   "cell_type": "code",
   "execution_count": null,
   "metadata": {},
   "outputs": [],
   "source": [
    "ukb['blood_triglyc'].plot(kind='hist', bins = 50)\n",
    "plt.show()"
   ]
  },
  {
   "cell_type": "code",
   "execution_count": null,
   "metadata": {},
   "outputs": [],
   "source": [
    "print(len(ukb['operation_id'].unique()))\n",
    "print(ukb['operation_id'].max())"
   ]
  },
  {
   "cell_type": "code",
   "execution_count": null,
   "metadata": {},
   "outputs": [],
   "source": [
    "n_cats_treatment = len(ukb['treatment_id'].unique())\n",
    "n_cats_operation = len(ukb['operation_id'].unique())\n",
    "n_cats_diagnosis = len(ukb['diagnosis_id'].unique())\n",
    "n_cats_cancer = len(ukb['cancer_id'].unique())\n",
    "n_cats_histology = len(ukb['histology_id'].unique())\n",
    "\n",
    "print(f'no. of treatments: {n_cats_treatment}')\n",
    "print(f'no. of operations: {n_cats_operation}')\n",
    "print(f'no. of diagnoses: {n_cats_diagnosis}')\n",
    "print(f'no. of cancer types: {n_cats_cancer}')\n",
    "print(f'no. of cancer tumor histology: {n_cats_histology}')"
   ]
  },
  {
   "cell_type": "code",
   "execution_count": null,
   "metadata": {},
   "outputs": [],
   "source": [
    "ukb.rename(columns={'treatment_id': 'z0',\n",
    "                    'operation_id': 'z1',\n",
    "                    'diagnosis_id': 'z2',\n",
    "                    'cancer_id': 'z3',\n",
    "                    'histology_id': 'z4'}, inplace=True)"
   ]
  },
  {
   "cell_type": "code",
   "execution_count": null,
   "metadata": {},
   "outputs": [],
   "source": [
    "mode = 'intercepts'\n",
    "n_sig2bs = 5\n",
    "n_sig2bs_spatial = 0\n",
    "q_spatial = None\n",
    "est_cors = []\n",
    "n_neurons = [10, 3]\n",
    "activation = 'relu'\n",
    "dropout = []\n",
    "spatial_embedded_neurons = []\n",
    "n_cats = [n_cats_treatment, n_cats_operation, n_cats_diagnosis, n_cats_cancer, n_cats_histology]\n",
    "dist_matrix = None"
   ]
  },
  {
   "cell_type": "code",
   "execution_count": null,
   "metadata": {},
   "outputs": [],
   "source": [
    "def reg_nn(X_train, X_test, y_train, y_test, n_cats, batch=100, epochs=100, patience=10, reg_type='ohe', verbose=False):\n",
    "    start = time.time()\n",
    "    if reg_type == 'ohe':\n",
    "        y_pred, sigmas, _, _, n_epochs = reg_nn_ohe_or_ignore(X_train, X_test, y_train, y_test, n_cats, x_cols, batch, epochs, patience,\n",
    "                                                           n_neurons, dropout, activation,\n",
    "                                                           mode, n_sig2bs, n_sig2bs_spatial, est_cors, verbose)\n",
    "    elif reg_type == 'lmm':\n",
    "        y_pred, sigmas, _, _, n_epochs = reg_nn_lmm(X_train, X_test, y_train, y_test, n_cats, q_spatial, x_cols, batch, epochs, patience,\n",
    "                                                 n_neurons, dropout, activation,\n",
    "                                                 mode=mode, n_sig2bs=n_sig2bs, n_sig2bs_spatial=n_sig2bs_spatial,\n",
    "                                                 est_cors=est_cors, dist_matrix=dist_matrix,\n",
    "                                                 spatial_embed_neurons=spatial_embedded_neurons, verbose=verbose, log_params=False)\n",
    "    elif reg_type == 'ignore':\n",
    "        y_pred, sigmas, _, _, n_epochs = reg_nn_ohe_or_ignore(X_train, X_test, y_train, y_test, n_cats, x_cols, batch, epochs, patience,\n",
    "                                                           n_neurons, dropout, activation,\n",
    "                                                           mode, n_sig2bs, n_sig2bs_spatial, est_cors, verbose, ignore_RE=True)\n",
    "    elif reg_type == 'embed':\n",
    "        y_pred, sigmas, _, _, n_epochs = reg_nn_embed(X_train, X_test, y_train, y_test, n_cats, q_spatial, x_cols, batch, epochs, patience,\n",
    "                                                   n_neurons, dropout, activation,\n",
    "                                                   mode, n_sig2bs, n_sig2bs_spatial, est_cors, verbose)\n",
    "    else:\n",
    "      raise ValueError(reg_type + 'is an unknown reg_type')\n",
    "    end = time.time()\n",
    "    gc.collect()\n",
    "    K.clear_session()\n",
    "    mse = np.mean((y_pred - y_test)**2)\n",
    "    plt.scatter(y_test, y_pred, alpha=0.5)\n",
    "    plt.show()\n",
    "    return mse, sigmas, n_epochs, end - start"
   ]
  },
  {
   "cell_type": "code",
   "execution_count": null,
   "metadata": {},
   "outputs": [],
   "source": [
    "res = pd.DataFrame(columns=['experiment', 'exp_type', 'mse', 'sigma_e_est',\n",
    "                            'sigma_b0_est', 'sigma_b1_est', 'sigma_b2_est', 'sigma_b3_est', 'sigma_b4_est',\n",
    "                            'n_epoch', 'time'])\n",
    "counter = Count().gen()\n",
    "\n",
    "def iterate_reg_types(X_train, X_test, y_train, y_test, verbose):\n",
    "    mse_lmm, sigmas, n_epochs_lmm, time_lmm = reg_nn(X_train, X_test, y_train, y_test, n_cats, reg_type='lmm', verbose=verbose)\n",
    "    print(' finished lmm, mse: %.2f' % (mse_lmm))\n",
    "    mse_ohe, _, n_epochs_ohe, time_ohe = reg_nn(X_train, X_test, y_train, y_test, n_cats, reg_type='ohe', verbose=verbose)\n",
    "    print(' finished ohe, mse: %.2f' % (mse_ohe))\n",
    "    mse_ig, _, n_epochs_ig, time_ig = reg_nn(X_train, X_test, y_train, y_test, n_cats, reg_type='ignore', verbose=verbose)\n",
    "    print(' finished ignore, mse: %.2f' % (mse_ig))\n",
    "    mse_em, _, n_epochs_em, time_em = reg_nn(X_train, X_test, y_train, y_test, n_cats, reg_type='embed', verbose=verbose)\n",
    "    print(' finished embed, mse: %.2f' % (mse_em))\n",
    "    res.loc[next(counter)] = [i, 'lmm', mse_lmm, sigmas[0], sigmas[1][0], sigmas[1][1], sigmas[1][2],\n",
    "                              sigmas[1][3], sigmas[1][4], n_epochs_lmm, time_lmm]\n",
    "    res.loc[next(counter)] = [i, 'ohe', mse_ohe, np.nan, np.nan, np.nan, np.nan, np.nan, np.nan, n_epochs_ohe, time_ohe]\n",
    "    res.loc[next(counter)] = [i, 'ignore', mse_ig, np.nan, np.nan, np.nan, np.nan, np.nan, np.nan, n_epochs_ig, time_ig]\n",
    "    res.loc[next(counter)] = [i, 'embed', mse_em, np.nan, np.nan, np.nan, np.nan, np.nan, np.nan, n_epochs_em, time_em]\n",
    "\n",
    "kf = KFold(n_splits=5, shuffle=True, random_state=42)\n",
    "X, y = ukb.drop('blood_triglyc', axis=1), ukb['blood_triglyc']\n",
    "x_cols = [col for col in X.columns if col not in ['z0', 'z1', 'z2', 'z3', 'z4']]"
   ]
  },
  {
   "cell_type": "code",
   "execution_count": null,
   "metadata": {},
   "outputs": [],
   "source": [
    "for i, (train_index, test_index) in enumerate(kf.split(X, y)):\n",
    "    print('iteration %d' % i)\n",
    "    X_train, X_test, y_train, y_test = X.loc[train_index], X.loc[test_index], y[train_index], y[test_index]\n",
    "    scaler = StandardScaler()\n",
    "    y_train = scaler.fit_transform(y_train.values.reshape(-1, 1)).reshape(X_train.shape[0])\n",
    "    y_test = scaler.transform(y_test.values.reshape(-1, 1)).reshape(X_test.shape[0])\n",
    "    y_train = pd.Series(y_train, index=X_train.index)\n",
    "    y_test = pd.Series(y_test, index=X_test.index)\n",
    "    scaler = StandardScaler()\n",
    "    X_train[x_cols] = scaler.fit_transform(X_train[x_cols])\n",
    "    X_test[x_cols] = scaler.transform(X_test[x_cols])\n",
    "    iterate_reg_types(X_train, X_test, y_train, y_test, True)"
   ]
  },
  {
   "cell_type": "code",
   "execution_count": null,
   "metadata": {},
   "outputs": [],
   "source": [
    "res"
   ]
  },
  {
   "cell_type": "code",
   "execution_count": null,
   "metadata": {},
   "outputs": [],
   "source": [
    "res.to_csv('../../results/res_ukb_blood_triglyc.csv')"
   ]
  }
 ],
 "metadata": {
  "language_info": {
   "name": "python"
  },
  "orig_nbformat": 4
 },
 "nbformat": 4,
 "nbformat_minor": 2
}
