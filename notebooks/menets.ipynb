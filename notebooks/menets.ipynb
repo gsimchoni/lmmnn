{
 "metadata": {
  "language_info": {
   "codemirror_mode": {
    "name": "ipython",
    "version": 3
   },
   "file_extension": ".py",
   "mimetype": "text/x-python",
   "name": "python",
   "nbconvert_exporter": "python",
   "pygments_lexer": "ipython3",
   "version": "3.8.7"
  },
  "orig_nbformat": 2,
  "kernelspec": {
   "name": "python387jvsc74a57bd0853417d72ad81a5e50a8613ae15c38dd8101027062a267a28f225259147f3710",
   "display_name": "Python 3.8.7 64-bit"
  }
 },
 "nbformat": 4,
 "nbformat_minor": 2,
 "cells": [
  {
   "cell_type": "code",
   "execution_count": 1,
   "metadata": {},
   "outputs": [],
   "source": [
    "import os\n",
    "import sys\n",
    "module_path = os.path.abspath(os.path.join('..'))\n",
    "if module_path not in sys.path:\n",
    "    sys.path.append(module_path)"
   ]
  },
  {
   "cell_type": "code",
   "execution_count": 2,
   "metadata": {},
   "outputs": [],
   "source": [
    "import numpy as np\n",
    "import pandas as pd\n",
    "import matplotlib.pyplot as plt\n",
    "\n",
    "from sklearn.linear_model import LinearRegression\n",
    "from lmmnn.utils import generate_data"
   ]
  },
  {
   "cell_type": "code",
   "execution_count": 20,
   "metadata": {},
   "outputs": [],
   "source": [
    "import tensorflow as tf\n",
    "from tensorflow.keras.models import Sequential\n",
    "from tensorflow.keras.layers import Dense, Dropout\n",
    "from tensorflow.keras.callbacks import EarlyStopping\n",
    "import tensorflow.keras.backend as K"
   ]
  },
  {
   "cell_type": "code",
   "execution_count": 4,
   "metadata": {},
   "outputs": [],
   "source": [
    "def get_model(input_dim, patience):\n",
    "    model = Sequential()\n",
    "    model.add(Dense(100, input_dim=input_dim, activation='relu'))\n",
    "    model.add(Dropout(0.25))\n",
    "    model.add(Dense(50, activation='relu'))\n",
    "    model.add(Dropout(0.25))\n",
    "    model.add(Dense(25, activation='relu'))\n",
    "    model.add(Dropout(0.25))\n",
    "    model.add(Dense(12, activation='relu'))\n",
    "    model.add(Dense(1))\n",
    "    model.compile(loss='mse', optimizer='adam')\n",
    "    callbacks = [EarlyStopping(monitor='val_loss', patience=patience)]\n",
    "    return model, callbacks"
   ]
  },
  {
   "cell_type": "code",
   "execution_count": 28,
   "metadata": {},
   "outputs": [],
   "source": [
    "max_iterations = 100\n",
    "n_clusters = 10\n",
    "sig2e = 1.0\n",
    "sig2b = 1.0\n",
    "N = 1000\n",
    "params = {\n",
    "    'n_fixed_effects': 10,\n",
    "    'n_per_cat': 3,\n",
    "    'fixed_intercept': 1,\n",
    "    'X_non_linear': True,\n",
    "    'Z_non_linear': False,\n",
    "    'Z_embed_dim_pct': 10,\n",
    "    'patience': 10\n",
    "}"
   ]
  },
  {
   "cell_type": "code",
   "execution_count": 6,
   "metadata": {},
   "outputs": [],
   "source": [
    "X_train, X_test, y_train, y_test, x_cols = generate_data(n_clusters, sig2e, sig2b, N, params)"
   ]
  },
  {
   "cell_type": "code",
   "execution_count": 7,
   "metadata": {},
   "outputs": [
    {
     "output_type": "execute_result",
     "data": {
      "text/plain": [
       "(800, 11)"
      ]
     },
     "metadata": {},
     "execution_count": 7
    }
   ],
   "source": [
    "X_train.shape"
   ]
  },
  {
   "cell_type": "code",
   "execution_count": 8,
   "metadata": {},
   "outputs": [
    {
     "output_type": "execute_result",
     "data": {
      "text/plain": [
       "['X0', 'X1', 'X2', 'X3', 'X4', 'X5', 'X6', 'X7', 'X8', 'X9']"
      ]
     },
     "metadata": {},
     "execution_count": 8
    }
   ],
   "source": [
    "x_cols"
   ]
  },
  {
   "cell_type": "code",
   "execution_count": 9,
   "metadata": {},
   "outputs": [],
   "source": [
    "cnt_clusters = X_train.groupby('z').size().values"
   ]
  },
  {
   "cell_type": "code",
   "execution_count": 10,
   "metadata": {},
   "outputs": [],
   "source": [
    "X = X_train[x_cols].values\n",
    "# Z = X\n",
    "clusters = X_train['z'].values\n",
    "y = y_train.values\n",
    "n_obs = X.shape[0]"
   ]
  },
  {
   "cell_type": "code",
   "execution_count": 12,
   "metadata": {},
   "outputs": [],
   "source": [
    "nll_history = np.zeros(max_iterations)\n",
    "maps2ind = [list(np.where(clusters == i)[0]) for i in range(n_clusters)]\n",
    "# b_hat_history = list()\n",
    "# lf_history = list()"
   ]
  },
  {
   "cell_type": "code",
   "execution_count": 13,
   "metadata": {},
   "outputs": [],
   "source": [
    "model, callbacks = get_model(params['n_fixed_effects'], params['patience'])"
   ]
  },
  {
   "cell_type": "code",
   "execution_count": 22,
   "metadata": {},
   "outputs": [],
   "source": [
    "f = K.function([model.layers[0].input], [model.layers[-2].output])"
   ]
  },
  {
   "cell_type": "code",
   "execution_count": 25,
   "metadata": {},
   "outputs": [
    {
     "output_type": "execute_result",
     "data": {
      "text/plain": [
       "(800, 12)"
      ]
     },
     "metadata": {},
     "execution_count": 25
    }
   ],
   "source": [
    "f(X)[0].shape"
   ]
  },
  {
   "cell_type": "code",
   "execution_count": 26,
   "metadata": {},
   "outputs": [],
   "source": [
    "Z = f(X)[0]"
   ]
  },
  {
   "cell_type": "code",
   "execution_count": 27,
   "metadata": {},
   "outputs": [],
   "source": [
    "q = Z.shape[1]\n",
    "D_hat = np.eye(q)\n",
    "sig2e_hat = 1\n",
    "b_hat_df = np.zeros((n_clusters, q))"
   ]
  },
  {
   "cell_type": "code",
   "execution_count": 29,
   "metadata": {},
   "outputs": [
    {
     "output_type": "stream",
     "name": "stdout",
     "text": [
      "iteration: 0\n",
      "iteration: 1\n",
      "iteration: 2\n",
      "iteration: 3\n",
      "iteration: 4\n",
      "iteration: 5\n",
      "iteration: 6\n",
      "iteration: 7\n",
      "iteration: 8\n",
      "iteration: 9\n",
      "iteration: 10\n",
      "iteration: 11\n",
      "iteration: 12\n",
      "iteration: 13\n",
      "iteration: 14\n",
      "iteration: 15\n",
      "iteration: 16\n",
      "iteration: 17\n",
      "iteration: 18\n",
      "iteration: 19\n",
      "iteration: 20\n",
      "iteration: 21\n",
      "iteration: 22\n",
      "iteration: 23\n",
      "iteration: 24\n",
      "iteration: 25\n",
      "iteration: 26\n",
      "iteration: 27\n",
      "iteration: 28\n",
      "iteration: 29\n",
      "iteration: 30\n",
      "iteration: 31\n",
      "iteration: 32\n",
      "iteration: 33\n",
      "iteration: 34\n",
      "iteration: 35\n",
      "iteration: 36\n",
      "iteration: 37\n",
      "iteration: 38\n",
      "iteration: 39\n",
      "iteration: 40\n",
      "iteration: 41\n",
      "iteration: 42\n",
      "iteration: 43\n",
      "iteration: 44\n",
      "iteration: 45\n",
      "iteration: 46\n",
      "iteration: 47\n",
      "iteration: 48\n",
      "iteration: 49\n",
      "iteration: 50\n",
      "iteration: 51\n",
      "iteration: 52\n",
      "iteration: 53\n",
      "iteration: 54\n",
      "iteration: 55\n",
      "iteration: 56\n",
      "iteration: 57\n",
      "iteration: 58\n",
      "iteration: 59\n",
      "iteration: 60\n",
      "iteration: 61\n",
      "iteration: 62\n",
      "iteration: 63\n",
      "iteration: 64\n",
      "iteration: 65\n",
      "iteration: 66\n",
      "iteration: 67\n",
      "iteration: 68\n",
      "iteration: 69\n",
      "iteration: 70\n",
      "iteration: 71\n",
      "iteration: 72\n",
      "iteration: 73\n",
      "iteration: 74\n",
      "iteration: 75\n",
      "iteration: 76\n",
      "iteration: 77\n",
      "iteration: 78\n",
      "iteration: 79\n",
      "iteration: 80\n",
      "iteration: 81\n",
      "iteration: 82\n",
      "iteration: 83\n",
      "iteration: 84\n",
      "iteration: 85\n",
      "iteration: 86\n",
      "iteration: 87\n",
      "iteration: 88\n",
      "iteration: 89\n",
      "iteration: 90\n",
      "iteration: 91\n",
      "iteration: 92\n",
      "iteration: 93\n",
      "iteration: 94\n",
      "iteration: 95\n",
      "iteration: 96\n",
      "iteration: 97\n",
      "iteration: 98\n",
      "iteration: 99\n"
     ]
    }
   ],
   "source": [
    "for iteration in range(max_iterations):\n",
    "    print(f'iteration: {iteration}')\n",
    "    y_star = np.zeros(y.shape)\n",
    "    for cluster_id in range(n_clusters):\n",
    "        indices_i = maps2ind[cluster_id]\n",
    "        b_hat_i = b_hat_df[cluster_id, :]\n",
    "        y_star_i = y[indices_i] - Z[indices_i, :] @ b_hat_i\n",
    "        y_star[indices_i] = y_star_i\n",
    "    # lf = LinearRegression().fit(X, y_star)\n",
    "    # f_hat = lf.predict(X)\n",
    "    model.fit(X, y_star, batch_size = 30, epochs=1, verbose=0)\n",
    "    Z = f(X)[0]\n",
    "    f_hat = model.predict(X, verbose=0).reshape(X.shape[0])\n",
    "    sig2e_hat_sum = 0\n",
    "    D_hat_sum = 0\n",
    "    for cluster_id in range(n_clusters):\n",
    "        indices_i = maps2ind[cluster_id]\n",
    "        n_i = cnt_clusters[cluster_id]\n",
    "        f_hat_i = f_hat[indices_i]\n",
    "        y_i = y[indices_i]\n",
    "        Z_i = Z[indices_i, :]\n",
    "        V_hat_i = Z_i @ D_hat @ np.transpose(Z_i) + sig2e_hat * np.eye(n_i)\n",
    "        V_hat_inv_i =  np.linalg.inv(V_hat_i)\n",
    "        b_hat_i = D_hat @ np.transpose(Z_i) @ V_hat_inv_i @ (y_i - f_hat_i)\n",
    "        eps_hat_i = y_i - f_hat_i - Z_i @ b_hat_i\n",
    "        b_hat_df[cluster_id, :] = b_hat_i\n",
    "        sig2e_hat_sum = sig2e_hat_sum + np.transpose(eps_hat_i) @ eps_hat_i + sig2e_hat * (n_i - sig2e_hat * np.trace(V_hat_inv_i))\n",
    "        D_hat_sum = D_hat_sum + b_hat_i @ np.transpose(b_hat_i) + (D_hat - D_hat @ np.transpose(Z_i) @ V_hat_inv_i @ Z_i @ D_hat)\n",
    "    sig2e_hat = sig2e_hat_sum / n_obs\n",
    "    D_hat = D_hat_sum / n_clusters\n",
    "    # b_hat_history.append(b_hat_df)\n",
    "    nll = 0\n",
    "    for cluster_id in range(n_clusters):\n",
    "        indices_i = maps2ind[cluster_id]\n",
    "        n_i = cnt_clusters[cluster_id]\n",
    "        y_i = y[indices_i]\n",
    "        Z_i = Z[indices_i, :]\n",
    "        I_i = np.eye(n_i)\n",
    "        f_hat_i = f_hat[indices_i]\n",
    "        R_hat_i = sig2e_hat * I_i\n",
    "        b_hat_i = b_hat_df[cluster_id, :]\n",
    "        nll = nll + np.transpose(y_i - f_hat_i - Z_i @ b_hat_i) @ np.linalg.inv(R_hat_i) @ (y_i - f_hat_i - Z_i @ b_hat_i) + \\\n",
    "            b_hat_i @ np.linalg.inv(D_hat) @ b_hat_i + np.log(np.linalg.det(D_hat)) + np.log(np.linalg.det(R_hat_i))\n",
    "    nll_history[iteration] = nll"
   ]
  },
  {
   "cell_type": "code",
   "execution_count": 30,
   "metadata": {},
   "outputs": [
    {
     "output_type": "display_data",
     "data": {
      "text/plain": "<Figure size 432x288 with 1 Axes>",
      "image/svg+xml": "<?xml version=\"1.0\" encoding=\"utf-8\" standalone=\"no\"?>\r\n<!DOCTYPE svg PUBLIC \"-//W3C//DTD SVG 1.1//EN\"\r\n  \"http://www.w3.org/Graphics/SVG/1.1/DTD/svg11.dtd\">\r\n<!-- Created with matplotlib (https://matplotlib.org/) -->\r\n<svg height=\"262.19625pt\" version=\"1.1\" viewBox=\"0 0 395.328125 262.19625\" width=\"395.328125pt\" xmlns=\"http://www.w3.org/2000/svg\" xmlns:xlink=\"http://www.w3.org/1999/xlink\">\r\n <metadata>\r\n  <rdf:RDF xmlns:cc=\"http://creativecommons.org/ns#\" xmlns:dc=\"http://purl.org/dc/elements/1.1/\" xmlns:rdf=\"http://www.w3.org/1999/02/22-rdf-syntax-ns#\">\r\n   <cc:Work>\r\n    <dc:type rdf:resource=\"http://purl.org/dc/dcmitype/StillImage\"/>\r\n    <dc:date>2021-05-04T10:20:28.214166</dc:date>\r\n    <dc:format>image/svg+xml</dc:format>\r\n    <dc:creator>\r\n     <cc:Agent>\r\n      <dc:title>Matplotlib v3.3.3, https://matplotlib.org/</dc:title>\r\n     </cc:Agent>\r\n    </dc:creator>\r\n   </cc:Work>\r\n  </rdf:RDF>\r\n </metadata>\r\n <defs>\r\n  <style type=\"text/css\">*{stroke-linecap:butt;stroke-linejoin:round;}</style>\r\n </defs>\r\n <g id=\"figure_1\">\r\n  <g id=\"patch_1\">\r\n   <path d=\"M 0 262.19625 \r\nL 395.328125 262.19625 \r\nL 395.328125 0 \r\nL 0 0 \r\nz\r\n\" style=\"fill:none;\"/>\r\n  </g>\r\n  <g id=\"axes_1\">\r\n   <g id=\"patch_2\">\r\n    <path d=\"M 53.328125 224.64 \r\nL 388.128125 224.64 \r\nL 388.128125 7.2 \r\nL 53.328125 7.2 \r\nz\r\n\" style=\"fill:#ffffff;\"/>\r\n   </g>\r\n   <g id=\"matplotlib.axis_1\">\r\n    <g id=\"xtick_1\">\r\n     <g id=\"line2d_1\">\r\n      <defs>\r\n       <path d=\"M 0 0 \r\nL 0 3.5 \r\n\" id=\"m5533676324\" style=\"stroke:#000000;stroke-width:0.8;\"/>\r\n      </defs>\r\n      <g>\r\n       <use style=\"stroke:#000000;stroke-width:0.8;\" x=\"68.546307\" xlink:href=\"#m5533676324\" y=\"224.64\"/>\r\n      </g>\r\n     </g>\r\n     <g id=\"text_1\">\r\n      <!-- 0 -->\r\n      <g transform=\"translate(65.365057 239.238437)scale(0.1 -0.1)\">\r\n       <defs>\r\n        <path d=\"M 31.78125 66.40625 \r\nQ 24.171875 66.40625 20.328125 58.90625 \r\nQ 16.5 51.421875 16.5 36.375 \r\nQ 16.5 21.390625 20.328125 13.890625 \r\nQ 24.171875 6.390625 31.78125 6.390625 \r\nQ 39.453125 6.390625 43.28125 13.890625 \r\nQ 47.125 21.390625 47.125 36.375 \r\nQ 47.125 51.421875 43.28125 58.90625 \r\nQ 39.453125 66.40625 31.78125 66.40625 \r\nz\r\nM 31.78125 74.21875 \r\nQ 44.046875 74.21875 50.515625 64.515625 \r\nQ 56.984375 54.828125 56.984375 36.375 \r\nQ 56.984375 17.96875 50.515625 8.265625 \r\nQ 44.046875 -1.421875 31.78125 -1.421875 \r\nQ 19.53125 -1.421875 13.0625 8.265625 \r\nQ 6.59375 17.96875 6.59375 36.375 \r\nQ 6.59375 54.828125 13.0625 64.515625 \r\nQ 19.53125 74.21875 31.78125 74.21875 \r\nz\r\n\" id=\"DejaVuSans-48\"/>\r\n       </defs>\r\n       <use xlink:href=\"#DejaVuSans-48\"/>\r\n      </g>\r\n     </g>\r\n    </g>\r\n    <g id=\"xtick_2\">\r\n     <g id=\"line2d_2\">\r\n      <g>\r\n       <use style=\"stroke:#000000;stroke-width:0.8;\" x=\"129.541024\" xlink:href=\"#m5533676324\" y=\"224.64\"/>\r\n      </g>\r\n     </g>\r\n     <g id=\"text_2\">\r\n      <!-- 100 -->\r\n      <g transform=\"translate(119.997274 239.238437)scale(0.1 -0.1)\">\r\n       <defs>\r\n        <path d=\"M 12.40625 8.296875 \r\nL 28.515625 8.296875 \r\nL 28.515625 63.921875 \r\nL 10.984375 60.40625 \r\nL 10.984375 69.390625 \r\nL 28.421875 72.90625 \r\nL 38.28125 72.90625 \r\nL 38.28125 8.296875 \r\nL 54.390625 8.296875 \r\nL 54.390625 0 \r\nL 12.40625 0 \r\nz\r\n\" id=\"DejaVuSans-49\"/>\r\n       </defs>\r\n       <use xlink:href=\"#DejaVuSans-49\"/>\r\n       <use x=\"63.623047\" xlink:href=\"#DejaVuSans-48\"/>\r\n       <use x=\"127.246094\" xlink:href=\"#DejaVuSans-48\"/>\r\n      </g>\r\n     </g>\r\n    </g>\r\n    <g id=\"xtick_3\">\r\n     <g id=\"line2d_3\">\r\n      <g>\r\n       <use style=\"stroke:#000000;stroke-width:0.8;\" x=\"190.53574\" xlink:href=\"#m5533676324\" y=\"224.64\"/>\r\n      </g>\r\n     </g>\r\n     <g id=\"text_3\">\r\n      <!-- 200 -->\r\n      <g transform=\"translate(180.99199 239.238437)scale(0.1 -0.1)\">\r\n       <defs>\r\n        <path d=\"M 19.1875 8.296875 \r\nL 53.609375 8.296875 \r\nL 53.609375 0 \r\nL 7.328125 0 \r\nL 7.328125 8.296875 \r\nQ 12.9375 14.109375 22.625 23.890625 \r\nQ 32.328125 33.6875 34.8125 36.53125 \r\nQ 39.546875 41.84375 41.421875 45.53125 \r\nQ 43.3125 49.21875 43.3125 52.78125 \r\nQ 43.3125 58.59375 39.234375 62.25 \r\nQ 35.15625 65.921875 28.609375 65.921875 \r\nQ 23.96875 65.921875 18.8125 64.3125 \r\nQ 13.671875 62.703125 7.8125 59.421875 \r\nL 7.8125 69.390625 \r\nQ 13.765625 71.78125 18.9375 73 \r\nQ 24.125 74.21875 28.421875 74.21875 \r\nQ 39.75 74.21875 46.484375 68.546875 \r\nQ 53.21875 62.890625 53.21875 53.421875 \r\nQ 53.21875 48.921875 51.53125 44.890625 \r\nQ 49.859375 40.875 45.40625 35.40625 \r\nQ 44.1875 33.984375 37.640625 27.21875 \r\nQ 31.109375 20.453125 19.1875 8.296875 \r\nz\r\n\" id=\"DejaVuSans-50\"/>\r\n       </defs>\r\n       <use xlink:href=\"#DejaVuSans-50\"/>\r\n       <use x=\"63.623047\" xlink:href=\"#DejaVuSans-48\"/>\r\n       <use x=\"127.246094\" xlink:href=\"#DejaVuSans-48\"/>\r\n      </g>\r\n     </g>\r\n    </g>\r\n    <g id=\"xtick_4\">\r\n     <g id=\"line2d_4\">\r\n      <g>\r\n       <use style=\"stroke:#000000;stroke-width:0.8;\" x=\"251.530457\" xlink:href=\"#m5533676324\" y=\"224.64\"/>\r\n      </g>\r\n     </g>\r\n     <g id=\"text_4\">\r\n      <!-- 300 -->\r\n      <g transform=\"translate(241.986707 239.238437)scale(0.1 -0.1)\">\r\n       <defs>\r\n        <path d=\"M 40.578125 39.3125 \r\nQ 47.65625 37.796875 51.625 33 \r\nQ 55.609375 28.21875 55.609375 21.1875 \r\nQ 55.609375 10.40625 48.1875 4.484375 \r\nQ 40.765625 -1.421875 27.09375 -1.421875 \r\nQ 22.515625 -1.421875 17.65625 -0.515625 \r\nQ 12.796875 0.390625 7.625 2.203125 \r\nL 7.625 11.71875 \r\nQ 11.71875 9.328125 16.59375 8.109375 \r\nQ 21.484375 6.890625 26.8125 6.890625 \r\nQ 36.078125 6.890625 40.9375 10.546875 \r\nQ 45.796875 14.203125 45.796875 21.1875 \r\nQ 45.796875 27.640625 41.28125 31.265625 \r\nQ 36.765625 34.90625 28.71875 34.90625 \r\nL 20.21875 34.90625 \r\nL 20.21875 43.015625 \r\nL 29.109375 43.015625 \r\nQ 36.375 43.015625 40.234375 45.921875 \r\nQ 44.09375 48.828125 44.09375 54.296875 \r\nQ 44.09375 59.90625 40.109375 62.90625 \r\nQ 36.140625 65.921875 28.71875 65.921875 \r\nQ 24.65625 65.921875 20.015625 65.03125 \r\nQ 15.375 64.15625 9.8125 62.3125 \r\nL 9.8125 71.09375 \r\nQ 15.4375 72.65625 20.34375 73.4375 \r\nQ 25.25 74.21875 29.59375 74.21875 \r\nQ 40.828125 74.21875 47.359375 69.109375 \r\nQ 53.90625 64.015625 53.90625 55.328125 \r\nQ 53.90625 49.265625 50.4375 45.09375 \r\nQ 46.96875 40.921875 40.578125 39.3125 \r\nz\r\n\" id=\"DejaVuSans-51\"/>\r\n       </defs>\r\n       <use xlink:href=\"#DejaVuSans-51\"/>\r\n       <use x=\"63.623047\" xlink:href=\"#DejaVuSans-48\"/>\r\n       <use x=\"127.246094\" xlink:href=\"#DejaVuSans-48\"/>\r\n      </g>\r\n     </g>\r\n    </g>\r\n    <g id=\"xtick_5\">\r\n     <g id=\"line2d_5\">\r\n      <g>\r\n       <use style=\"stroke:#000000;stroke-width:0.8;\" x=\"312.525174\" xlink:href=\"#m5533676324\" y=\"224.64\"/>\r\n      </g>\r\n     </g>\r\n     <g id=\"text_5\">\r\n      <!-- 400 -->\r\n      <g transform=\"translate(302.981424 239.238437)scale(0.1 -0.1)\">\r\n       <defs>\r\n        <path d=\"M 37.796875 64.3125 \r\nL 12.890625 25.390625 \r\nL 37.796875 25.390625 \r\nz\r\nM 35.203125 72.90625 \r\nL 47.609375 72.90625 \r\nL 47.609375 25.390625 \r\nL 58.015625 25.390625 \r\nL 58.015625 17.1875 \r\nL 47.609375 17.1875 \r\nL 47.609375 0 \r\nL 37.796875 0 \r\nL 37.796875 17.1875 \r\nL 4.890625 17.1875 \r\nL 4.890625 26.703125 \r\nz\r\n\" id=\"DejaVuSans-52\"/>\r\n       </defs>\r\n       <use xlink:href=\"#DejaVuSans-52\"/>\r\n       <use x=\"63.623047\" xlink:href=\"#DejaVuSans-48\"/>\r\n       <use x=\"127.246094\" xlink:href=\"#DejaVuSans-48\"/>\r\n      </g>\r\n     </g>\r\n    </g>\r\n    <g id=\"xtick_6\">\r\n     <g id=\"line2d_6\">\r\n      <g>\r\n       <use style=\"stroke:#000000;stroke-width:0.8;\" x=\"373.51989\" xlink:href=\"#m5533676324\" y=\"224.64\"/>\r\n      </g>\r\n     </g>\r\n     <g id=\"text_6\">\r\n      <!-- 500 -->\r\n      <g transform=\"translate(363.97614 239.238437)scale(0.1 -0.1)\">\r\n       <defs>\r\n        <path d=\"M 10.796875 72.90625 \r\nL 49.515625 72.90625 \r\nL 49.515625 64.59375 \r\nL 19.828125 64.59375 \r\nL 19.828125 46.734375 \r\nQ 21.96875 47.46875 24.109375 47.828125 \r\nQ 26.265625 48.1875 28.421875 48.1875 \r\nQ 40.625 48.1875 47.75 41.5 \r\nQ 54.890625 34.8125 54.890625 23.390625 \r\nQ 54.890625 11.625 47.5625 5.09375 \r\nQ 40.234375 -1.421875 26.90625 -1.421875 \r\nQ 22.3125 -1.421875 17.546875 -0.640625 \r\nQ 12.796875 0.140625 7.71875 1.703125 \r\nL 7.71875 11.625 \r\nQ 12.109375 9.234375 16.796875 8.0625 \r\nQ 21.484375 6.890625 26.703125 6.890625 \r\nQ 35.15625 6.890625 40.078125 11.328125 \r\nQ 45.015625 15.765625 45.015625 23.390625 \r\nQ 45.015625 31 40.078125 35.4375 \r\nQ 35.15625 39.890625 26.703125 39.890625 \r\nQ 22.75 39.890625 18.8125 39.015625 \r\nQ 14.890625 38.140625 10.796875 36.28125 \r\nz\r\n\" id=\"DejaVuSans-53\"/>\r\n       </defs>\r\n       <use xlink:href=\"#DejaVuSans-53\"/>\r\n       <use x=\"63.623047\" xlink:href=\"#DejaVuSans-48\"/>\r\n       <use x=\"127.246094\" xlink:href=\"#DejaVuSans-48\"/>\r\n      </g>\r\n     </g>\r\n    </g>\r\n    <g id=\"text_7\">\r\n     <!-- epochs -->\r\n     <g transform=\"translate(202.895313 252.916562)scale(0.1 -0.1)\">\r\n      <defs>\r\n       <path d=\"M 56.203125 29.59375 \r\nL 56.203125 25.203125 \r\nL 14.890625 25.203125 \r\nQ 15.484375 15.921875 20.484375 11.0625 \r\nQ 25.484375 6.203125 34.421875 6.203125 \r\nQ 39.59375 6.203125 44.453125 7.46875 \r\nQ 49.3125 8.734375 54.109375 11.28125 \r\nL 54.109375 2.78125 \r\nQ 49.265625 0.734375 44.1875 -0.34375 \r\nQ 39.109375 -1.421875 33.890625 -1.421875 \r\nQ 20.796875 -1.421875 13.15625 6.1875 \r\nQ 5.515625 13.8125 5.515625 26.8125 \r\nQ 5.515625 40.234375 12.765625 48.109375 \r\nQ 20.015625 56 32.328125 56 \r\nQ 43.359375 56 49.78125 48.890625 \r\nQ 56.203125 41.796875 56.203125 29.59375 \r\nz\r\nM 47.21875 32.234375 \r\nQ 47.125 39.59375 43.09375 43.984375 \r\nQ 39.0625 48.390625 32.421875 48.390625 \r\nQ 24.90625 48.390625 20.390625 44.140625 \r\nQ 15.875 39.890625 15.1875 32.171875 \r\nz\r\n\" id=\"DejaVuSans-101\"/>\r\n       <path d=\"M 18.109375 8.203125 \r\nL 18.109375 -20.796875 \r\nL 9.078125 -20.796875 \r\nL 9.078125 54.6875 \r\nL 18.109375 54.6875 \r\nL 18.109375 46.390625 \r\nQ 20.953125 51.265625 25.265625 53.625 \r\nQ 29.59375 56 35.59375 56 \r\nQ 45.5625 56 51.78125 48.09375 \r\nQ 58.015625 40.1875 58.015625 27.296875 \r\nQ 58.015625 14.40625 51.78125 6.484375 \r\nQ 45.5625 -1.421875 35.59375 -1.421875 \r\nQ 29.59375 -1.421875 25.265625 0.953125 \r\nQ 20.953125 3.328125 18.109375 8.203125 \r\nz\r\nM 48.6875 27.296875 \r\nQ 48.6875 37.203125 44.609375 42.84375 \r\nQ 40.53125 48.484375 33.40625 48.484375 \r\nQ 26.265625 48.484375 22.1875 42.84375 \r\nQ 18.109375 37.203125 18.109375 27.296875 \r\nQ 18.109375 17.390625 22.1875 11.75 \r\nQ 26.265625 6.109375 33.40625 6.109375 \r\nQ 40.53125 6.109375 44.609375 11.75 \r\nQ 48.6875 17.390625 48.6875 27.296875 \r\nz\r\n\" id=\"DejaVuSans-112\"/>\r\n       <path d=\"M 30.609375 48.390625 \r\nQ 23.390625 48.390625 19.1875 42.75 \r\nQ 14.984375 37.109375 14.984375 27.296875 \r\nQ 14.984375 17.484375 19.15625 11.84375 \r\nQ 23.34375 6.203125 30.609375 6.203125 \r\nQ 37.796875 6.203125 41.984375 11.859375 \r\nQ 46.1875 17.53125 46.1875 27.296875 \r\nQ 46.1875 37.015625 41.984375 42.703125 \r\nQ 37.796875 48.390625 30.609375 48.390625 \r\nz\r\nM 30.609375 56 \r\nQ 42.328125 56 49.015625 48.375 \r\nQ 55.71875 40.765625 55.71875 27.296875 \r\nQ 55.71875 13.875 49.015625 6.21875 \r\nQ 42.328125 -1.421875 30.609375 -1.421875 \r\nQ 18.84375 -1.421875 12.171875 6.21875 \r\nQ 5.515625 13.875 5.515625 27.296875 \r\nQ 5.515625 40.765625 12.171875 48.375 \r\nQ 18.84375 56 30.609375 56 \r\nz\r\n\" id=\"DejaVuSans-111\"/>\r\n       <path d=\"M 48.78125 52.59375 \r\nL 48.78125 44.1875 \r\nQ 44.96875 46.296875 41.140625 47.34375 \r\nQ 37.3125 48.390625 33.40625 48.390625 \r\nQ 24.65625 48.390625 19.8125 42.84375 \r\nQ 14.984375 37.3125 14.984375 27.296875 \r\nQ 14.984375 17.28125 19.8125 11.734375 \r\nQ 24.65625 6.203125 33.40625 6.203125 \r\nQ 37.3125 6.203125 41.140625 7.25 \r\nQ 44.96875 8.296875 48.78125 10.40625 \r\nL 48.78125 2.09375 \r\nQ 45.015625 0.34375 40.984375 -0.53125 \r\nQ 36.96875 -1.421875 32.421875 -1.421875 \r\nQ 20.0625 -1.421875 12.78125 6.34375 \r\nQ 5.515625 14.109375 5.515625 27.296875 \r\nQ 5.515625 40.671875 12.859375 48.328125 \r\nQ 20.21875 56 33.015625 56 \r\nQ 37.15625 56 41.109375 55.140625 \r\nQ 45.0625 54.296875 48.78125 52.59375 \r\nz\r\n\" id=\"DejaVuSans-99\"/>\r\n       <path d=\"M 54.890625 33.015625 \r\nL 54.890625 0 \r\nL 45.90625 0 \r\nL 45.90625 32.71875 \r\nQ 45.90625 40.484375 42.875 44.328125 \r\nQ 39.84375 48.1875 33.796875 48.1875 \r\nQ 26.515625 48.1875 22.3125 43.546875 \r\nQ 18.109375 38.921875 18.109375 30.90625 \r\nL 18.109375 0 \r\nL 9.078125 0 \r\nL 9.078125 75.984375 \r\nL 18.109375 75.984375 \r\nL 18.109375 46.1875 \r\nQ 21.34375 51.125 25.703125 53.5625 \r\nQ 30.078125 56 35.796875 56 \r\nQ 45.21875 56 50.046875 50.171875 \r\nQ 54.890625 44.34375 54.890625 33.015625 \r\nz\r\n\" id=\"DejaVuSans-104\"/>\r\n       <path d=\"M 44.28125 53.078125 \r\nL 44.28125 44.578125 \r\nQ 40.484375 46.53125 36.375 47.5 \r\nQ 32.28125 48.484375 27.875 48.484375 \r\nQ 21.1875 48.484375 17.84375 46.4375 \r\nQ 14.5 44.390625 14.5 40.28125 \r\nQ 14.5 37.15625 16.890625 35.375 \r\nQ 19.28125 33.59375 26.515625 31.984375 \r\nL 29.59375 31.296875 \r\nQ 39.15625 29.25 43.1875 25.515625 \r\nQ 47.21875 21.78125 47.21875 15.09375 \r\nQ 47.21875 7.46875 41.1875 3.015625 \r\nQ 35.15625 -1.421875 24.609375 -1.421875 \r\nQ 20.21875 -1.421875 15.453125 -0.5625 \r\nQ 10.6875 0.296875 5.421875 2 \r\nL 5.421875 11.28125 \r\nQ 10.40625 8.6875 15.234375 7.390625 \r\nQ 20.0625 6.109375 24.8125 6.109375 \r\nQ 31.15625 6.109375 34.5625 8.28125 \r\nQ 37.984375 10.453125 37.984375 14.40625 \r\nQ 37.984375 18.0625 35.515625 20.015625 \r\nQ 33.0625 21.96875 24.703125 23.78125 \r\nL 21.578125 24.515625 \r\nQ 13.234375 26.265625 9.515625 29.90625 \r\nQ 5.8125 33.546875 5.8125 39.890625 \r\nQ 5.8125 47.609375 11.28125 51.796875 \r\nQ 16.75 56 26.8125 56 \r\nQ 31.78125 56 36.171875 55.265625 \r\nQ 40.578125 54.546875 44.28125 53.078125 \r\nz\r\n\" id=\"DejaVuSans-115\"/>\r\n      </defs>\r\n      <use xlink:href=\"#DejaVuSans-101\"/>\r\n      <use x=\"61.523438\" xlink:href=\"#DejaVuSans-112\"/>\r\n      <use x=\"125\" xlink:href=\"#DejaVuSans-111\"/>\r\n      <use x=\"186.181641\" xlink:href=\"#DejaVuSans-99\"/>\r\n      <use x=\"241.162109\" xlink:href=\"#DejaVuSans-104\"/>\r\n      <use x=\"304.541016\" xlink:href=\"#DejaVuSans-115\"/>\r\n     </g>\r\n    </g>\r\n   </g>\r\n   <g id=\"matplotlib.axis_2\">\r\n    <g id=\"ytick_1\">\r\n     <g id=\"line2d_7\">\r\n      <defs>\r\n       <path d=\"M 0 0 \r\nL -3.5 0 \r\n\" id=\"m1ff40b305b\" style=\"stroke:#000000;stroke-width:0.8;\"/>\r\n      </defs>\r\n      <g>\r\n       <use style=\"stroke:#000000;stroke-width:0.8;\" x=\"53.328125\" xlink:href=\"#m1ff40b305b\" y=\"214.756364\"/>\r\n      </g>\r\n     </g>\r\n     <g id=\"text_8\">\r\n      <!-- 0 -->\r\n      <g transform=\"translate(39.965625 218.555582)scale(0.1 -0.1)\">\r\n       <use xlink:href=\"#DejaVuSans-48\"/>\r\n      </g>\r\n     </g>\r\n    </g>\r\n    <g id=\"ytick_2\">\r\n     <g id=\"line2d_8\">\r\n      <g>\r\n       <use style=\"stroke:#000000;stroke-width:0.8;\" x=\"53.328125\" xlink:href=\"#m1ff40b305b\" y=\"189.505746\"/>\r\n      </g>\r\n     </g>\r\n     <g id=\"text_9\">\r\n      <!-- 250 -->\r\n      <g transform=\"translate(27.240625 193.304965)scale(0.1 -0.1)\">\r\n       <use xlink:href=\"#DejaVuSans-50\"/>\r\n       <use x=\"63.623047\" xlink:href=\"#DejaVuSans-53\"/>\r\n       <use x=\"127.246094\" xlink:href=\"#DejaVuSans-48\"/>\r\n      </g>\r\n     </g>\r\n    </g>\r\n    <g id=\"ytick_3\">\r\n     <g id=\"line2d_9\">\r\n      <g>\r\n       <use style=\"stroke:#000000;stroke-width:0.8;\" x=\"53.328125\" xlink:href=\"#m1ff40b305b\" y=\"164.255129\"/>\r\n      </g>\r\n     </g>\r\n     <g id=\"text_10\">\r\n      <!-- 500 -->\r\n      <g transform=\"translate(27.240625 168.054348)scale(0.1 -0.1)\">\r\n       <use xlink:href=\"#DejaVuSans-53\"/>\r\n       <use x=\"63.623047\" xlink:href=\"#DejaVuSans-48\"/>\r\n       <use x=\"127.246094\" xlink:href=\"#DejaVuSans-48\"/>\r\n      </g>\r\n     </g>\r\n    </g>\r\n    <g id=\"ytick_4\">\r\n     <g id=\"line2d_10\">\r\n      <g>\r\n       <use style=\"stroke:#000000;stroke-width:0.8;\" x=\"53.328125\" xlink:href=\"#m1ff40b305b\" y=\"139.004512\"/>\r\n      </g>\r\n     </g>\r\n     <g id=\"text_11\">\r\n      <!-- 750 -->\r\n      <g transform=\"translate(27.240625 142.80373)scale(0.1 -0.1)\">\r\n       <defs>\r\n        <path d=\"M 8.203125 72.90625 \r\nL 55.078125 72.90625 \r\nL 55.078125 68.703125 \r\nL 28.609375 0 \r\nL 18.3125 0 \r\nL 43.21875 64.59375 \r\nL 8.203125 64.59375 \r\nz\r\n\" id=\"DejaVuSans-55\"/>\r\n       </defs>\r\n       <use xlink:href=\"#DejaVuSans-55\"/>\r\n       <use x=\"63.623047\" xlink:href=\"#DejaVuSans-53\"/>\r\n       <use x=\"127.246094\" xlink:href=\"#DejaVuSans-48\"/>\r\n      </g>\r\n     </g>\r\n    </g>\r\n    <g id=\"ytick_5\">\r\n     <g id=\"line2d_11\">\r\n      <g>\r\n       <use style=\"stroke:#000000;stroke-width:0.8;\" x=\"53.328125\" xlink:href=\"#m1ff40b305b\" y=\"113.753894\"/>\r\n      </g>\r\n     </g>\r\n     <g id=\"text_12\">\r\n      <!-- 1000 -->\r\n      <g transform=\"translate(20.878125 117.553113)scale(0.1 -0.1)\">\r\n       <use xlink:href=\"#DejaVuSans-49\"/>\r\n       <use x=\"63.623047\" xlink:href=\"#DejaVuSans-48\"/>\r\n       <use x=\"127.246094\" xlink:href=\"#DejaVuSans-48\"/>\r\n       <use x=\"190.869141\" xlink:href=\"#DejaVuSans-48\"/>\r\n      </g>\r\n     </g>\r\n    </g>\r\n    <g id=\"ytick_6\">\r\n     <g id=\"line2d_12\">\r\n      <g>\r\n       <use style=\"stroke:#000000;stroke-width:0.8;\" x=\"53.328125\" xlink:href=\"#m1ff40b305b\" y=\"88.503277\"/>\r\n      </g>\r\n     </g>\r\n     <g id=\"text_13\">\r\n      <!-- 1250 -->\r\n      <g transform=\"translate(20.878125 92.302496)scale(0.1 -0.1)\">\r\n       <use xlink:href=\"#DejaVuSans-49\"/>\r\n       <use x=\"63.623047\" xlink:href=\"#DejaVuSans-50\"/>\r\n       <use x=\"127.246094\" xlink:href=\"#DejaVuSans-53\"/>\r\n       <use x=\"190.869141\" xlink:href=\"#DejaVuSans-48\"/>\r\n      </g>\r\n     </g>\r\n    </g>\r\n    <g id=\"ytick_7\">\r\n     <g id=\"line2d_13\">\r\n      <g>\r\n       <use style=\"stroke:#000000;stroke-width:0.8;\" x=\"53.328125\" xlink:href=\"#m1ff40b305b\" y=\"63.25266\"/>\r\n      </g>\r\n     </g>\r\n     <g id=\"text_14\">\r\n      <!-- 1500 -->\r\n      <g transform=\"translate(20.878125 67.051878)scale(0.1 -0.1)\">\r\n       <use xlink:href=\"#DejaVuSans-49\"/>\r\n       <use x=\"63.623047\" xlink:href=\"#DejaVuSans-53\"/>\r\n       <use x=\"127.246094\" xlink:href=\"#DejaVuSans-48\"/>\r\n       <use x=\"190.869141\" xlink:href=\"#DejaVuSans-48\"/>\r\n      </g>\r\n     </g>\r\n    </g>\r\n    <g id=\"ytick_8\">\r\n     <g id=\"line2d_14\">\r\n      <g>\r\n       <use style=\"stroke:#000000;stroke-width:0.8;\" x=\"53.328125\" xlink:href=\"#m1ff40b305b\" y=\"38.002042\"/>\r\n      </g>\r\n     </g>\r\n     <g id=\"text_15\">\r\n      <!-- 1750 -->\r\n      <g transform=\"translate(20.878125 41.801261)scale(0.1 -0.1)\">\r\n       <use xlink:href=\"#DejaVuSans-49\"/>\r\n       <use x=\"63.623047\" xlink:href=\"#DejaVuSans-55\"/>\r\n       <use x=\"127.246094\" xlink:href=\"#DejaVuSans-53\"/>\r\n       <use x=\"190.869141\" xlink:href=\"#DejaVuSans-48\"/>\r\n      </g>\r\n     </g>\r\n    </g>\r\n    <g id=\"ytick_9\">\r\n     <g id=\"line2d_15\">\r\n      <g>\r\n       <use style=\"stroke:#000000;stroke-width:0.8;\" x=\"53.328125\" xlink:href=\"#m1ff40b305b\" y=\"12.751425\"/>\r\n      </g>\r\n     </g>\r\n     <g id=\"text_16\">\r\n      <!-- 2000 -->\r\n      <g transform=\"translate(20.878125 16.550644)scale(0.1 -0.1)\">\r\n       <use xlink:href=\"#DejaVuSans-50\"/>\r\n       <use x=\"63.623047\" xlink:href=\"#DejaVuSans-48\"/>\r\n       <use x=\"127.246094\" xlink:href=\"#DejaVuSans-48\"/>\r\n       <use x=\"190.869141\" xlink:href=\"#DejaVuSans-48\"/>\r\n      </g>\r\n     </g>\r\n    </g>\r\n    <g id=\"text_17\">\r\n     <!-- NLL -->\r\n     <g transform=\"translate(14.798438 125.2325)rotate(-90)scale(0.1 -0.1)\">\r\n      <defs>\r\n       <path d=\"M 9.8125 72.90625 \r\nL 23.09375 72.90625 \r\nL 55.421875 11.921875 \r\nL 55.421875 72.90625 \r\nL 64.984375 72.90625 \r\nL 64.984375 0 \r\nL 51.703125 0 \r\nL 19.390625 60.984375 \r\nL 19.390625 0 \r\nL 9.8125 0 \r\nz\r\n\" id=\"DejaVuSans-78\"/>\r\n       <path d=\"M 9.8125 72.90625 \r\nL 19.671875 72.90625 \r\nL 19.671875 8.296875 \r\nL 55.171875 8.296875 \r\nL 55.171875 0 \r\nL 9.8125 0 \r\nz\r\n\" id=\"DejaVuSans-76\"/>\r\n      </defs>\r\n      <use xlink:href=\"#DejaVuSans-78\"/>\r\n      <use x=\"74.804688\" xlink:href=\"#DejaVuSans-76\"/>\r\n      <use x=\"130.517578\" xlink:href=\"#DejaVuSans-76\"/>\r\n     </g>\r\n    </g>\r\n   </g>\r\n   <g id=\"line2d_16\">\r\n    <path clip-path=\"url(#paaf4f16cc9)\" d=\"M 68.546307 17.083636 \r\nL 69.156254 34.795475 \r\nL 69.766201 37.779271 \r\nL 70.986095 41.875773 \r\nL 71.596043 44.438133 \r\nL 72.815937 51.070236 \r\nL 73.425884 54.418584 \r\nL 74.035831 54.363433 \r\nL 74.645778 58.193992 \r\nL 75.255726 59.671973 \r\nL 75.865673 61.49581 \r\nL 76.47562 65.818072 \r\nL 77.085567 66.746136 \r\nL 77.695514 67.917366 \r\nL 78.305461 69.938783 \r\nL 78.915409 70.981889 \r\nL 79.525356 71.618571 \r\nL 80.135303 74.349673 \r\nL 81.355197 76.989822 \r\nL 81.965144 79.68477 \r\nL 82.575092 79.259696 \r\nL 83.185039 80.783467 \r\nL 83.794986 82.843686 \r\nL 84.404933 82.467106 \r\nL 85.01488 88.125138 \r\nL 85.624827 87.289153 \r\nL 86.234775 89.730612 \r\nL 86.844722 91.707407 \r\nL 87.454669 92.402576 \r\nL 88.064616 97.170872 \r\nL 88.674563 97.237935 \r\nL 89.28451 99.253951 \r\nL 89.894458 100.500438 \r\nL 90.504405 103.192626 \r\nL 91.114352 106.436244 \r\nL 91.724299 105.27074 \r\nL 92.334246 109.816573 \r\nL 92.944194 112.692709 \r\nL 93.554141 113.559701 \r\nL 94.164088 116.990529 \r\nL 94.774035 118.540301 \r\nL 95.383982 121.982748 \r\nL 95.993929 120.054081 \r\nL 96.603877 124.161505 \r\nL 97.213824 124.315814 \r\nL 98.433718 126.693312 \r\nL 99.653612 132.011139 \r\nL 100.26356 133.613767 \r\nL 100.873507 132.572899 \r\nL 101.483454 132.44896 \r\nL 102.093401 136.691916 \r\nL 102.703348 137.063482 \r\nL 103.313295 141.577988 \r\nL 103.923243 137.165691 \r\nL 104.53319 141.437499 \r\nL 105.143137 141.861347 \r\nL 105.753084 144.322073 \r\nL 106.363031 138.286977 \r\nL 106.972978 143.546346 \r\nL 107.582926 146.516806 \r\nL 108.192873 144.675862 \r\nL 110.022714 151.177982 \r\nL 110.632661 151.727809 \r\nL 111.242609 153.170489 \r\nL 111.852556 149.99213 \r\nL 113.07245 156.274471 \r\nL 113.682397 157.012496 \r\nL 114.292344 154.580129 \r\nL 114.902292 153.983956 \r\nL 115.512239 157.740858 \r\nL 116.122186 159.217213 \r\nL 116.732133 157.331292 \r\nL 117.34208 159.105243 \r\nL 117.952027 160.426835 \r\nL 118.561975 163.360903 \r\nL 119.171922 156.254185 \r\nL 119.781869 161.741672 \r\nL 120.391816 164.805091 \r\nL 121.001763 165.353929 \r\nL 121.61171 164.903824 \r\nL 122.221658 163.001156 \r\nL 122.831605 163.679278 \r\nL 123.441552 167.018232 \r\nL 124.051499 167.699223 \r\nL 124.661446 163.208785 \r\nL 125.271393 168.041161 \r\nL 125.881341 163.248156 \r\nL 126.491288 168.527247 \r\nL 127.101235 170.013675 \r\nL 127.711182 169.327337 \r\nL 128.321129 172.046859 \r\nL 128.931076 173.445855 \r\nL 129.541024 214.756364 \r\nL 372.909943 214.756364 \r\nL 372.909943 214.756364 \r\n\" style=\"fill:none;stroke:#1f77b4;stroke-linecap:square;stroke-width:1.5;\"/>\r\n   </g>\r\n   <g id=\"patch_3\">\r\n    <path d=\"M 53.328125 224.64 \r\nL 53.328125 7.2 \r\n\" style=\"fill:none;stroke:#000000;stroke-linecap:square;stroke-linejoin:miter;stroke-width:0.8;\"/>\r\n   </g>\r\n   <g id=\"patch_4\">\r\n    <path d=\"M 388.128125 224.64 \r\nL 388.128125 7.2 \r\n\" style=\"fill:none;stroke:#000000;stroke-linecap:square;stroke-linejoin:miter;stroke-width:0.8;\"/>\r\n   </g>\r\n   <g id=\"patch_5\">\r\n    <path d=\"M 53.328125 224.64 \r\nL 388.128125 224.64 \r\n\" style=\"fill:none;stroke:#000000;stroke-linecap:square;stroke-linejoin:miter;stroke-width:0.8;\"/>\r\n   </g>\r\n   <g id=\"patch_6\">\r\n    <path d=\"M 53.328125 7.2 \r\nL 388.128125 7.2 \r\n\" style=\"fill:none;stroke:#000000;stroke-linecap:square;stroke-linejoin:miter;stroke-width:0.8;\"/>\r\n   </g>\r\n  </g>\r\n </g>\r\n <defs>\r\n  <clipPath id=\"paaf4f16cc9\">\r\n   <rect height=\"217.44\" width=\"334.8\" x=\"53.328125\" y=\"7.2\"/>\r\n  </clipPath>\r\n </defs>\r\n</svg>\r\n",
      "image/png": "[encoded data removed]"
     },
     "metadata": {
      "needs_background": "light"
     }
    }
   ],
   "source": [
    "plt.plot(nll_history)\n",
    "plt.ylabel('NLL')\n",
    "plt.xlabel('epochs')\n",
    "plt.show()"
   ]
  },
  {
   "cell_type": "code",
   "execution_count": 31,
   "metadata": {},
   "outputs": [],
   "source": [
    "X2 = X_test[x_cols].values\n",
    "Z2 = f(X2)[0]\n",
    "clusters2 = X_test['z'].values\n",
    "y2 = y_test.values"
   ]
  },
  {
   "cell_type": "code",
   "execution_count": 32,
   "metadata": {},
   "outputs": [],
   "source": [
    "# y_hat_fix = lf.predict(X2)\n",
    "y_hat_fix = model.predict(X2).reshape(X2.shape[0])\n",
    "y_hat = y_hat_fix"
   ]
  },
  {
   "cell_type": "code",
   "execution_count": 33,
   "metadata": {},
   "outputs": [],
   "source": [
    "for cluster_id in range(n_clusters):\n",
    "    indices_i = np.where(clusters2 == cluster_id)[0]\n",
    "    if len(indices_i) == 0:\n",
    "        continue\n",
    "    b_i = b_hat_df[cluster_id, :]\n",
    "    Z_i = Z2[indices_i, :]\n",
    "    y_hat[indices_i] = y_hat[indices_i] + Z_i @ b_i"
   ]
  },
  {
   "cell_type": "code",
   "execution_count": 34,
   "metadata": {},
   "outputs": [],
   "source": [
    "lim_min, lim_max = np.min([np.min(y2), np.min(y_hat)]), np.max([np.max(y2), np.max(y_hat)])"
   ]
  },
  {
   "cell_type": "code",
   "execution_count": 35,
   "metadata": {},
   "outputs": [
    {
     "output_type": "display_data",
     "data": {
      "text/plain": "<Figure size 432x288 with 1 Axes>",
      "image/svg+xml": "<?xml version=\"1.0\" encoding=\"utf-8\" standalone=\"no\"?>\r\n<!DOCTYPE svg PUBLIC \"-//W3C//DTD SVG 1.1//EN\"\r\n  \"http://www.w3.org/Graphics/SVG/1.1/DTD/svg11.dtd\">\r\n<!-- Created with matplotlib (https://matplotlib.org/) -->\r\n<svg height=\"264.513007pt\" version=\"1.1\" viewBox=\"0 0 267.260312 264.513007\" width=\"267.260312pt\" xmlns=\"http://www.w3.org/2000/svg\" xmlns:xlink=\"http://www.w3.org/1999/xlink\">\r\n <metadata>\r\n  <rdf:RDF xmlns:cc=\"http://creativecommons.org/ns#\" xmlns:dc=\"http://purl.org/dc/elements/1.1/\" xmlns:rdf=\"http://www.w3.org/1999/02/22-rdf-syntax-ns#\">\r\n   <cc:Work>\r\n    <dc:type rdf:resource=\"http://purl.org/dc/dcmitype/StillImage\"/>\r\n    <dc:date>2021-05-04T10:21:01.712640</dc:date>\r\n    <dc:format>image/svg+xml</dc:format>\r\n    <dc:creator>\r\n     <cc:Agent>\r\n      <dc:title>Matplotlib v3.3.3, https://matplotlib.org/</dc:title>\r\n     </cc:Agent>\r\n    </dc:creator>\r\n   </cc:Work>\r\n  </rdf:RDF>\r\n </metadata>\r\n <defs>\r\n  <style type=\"text/css\">*{stroke-linecap:butt;stroke-linejoin:round;}</style>\r\n </defs>\r\n <g id=\"figure_1\">\r\n  <g id=\"patch_1\">\r\n   <path d=\"M 0 264.513007 \r\nL 267.260312 264.513007 \r\nL 267.260312 0 \r\nL 0 0 \r\nz\r\n\" style=\"fill:none;\"/>\r\n  </g>\r\n  <g id=\"axes_1\">\r\n   <g id=\"patch_2\">\r\n    <path d=\"M 42.620312 226.956757 \r\nL 260.060313 226.956757 \r\nL 260.060313 9.516757 \r\nL 42.620312 9.516757 \r\nz\r\n\" style=\"fill:#ffffff;\"/>\r\n   </g>\r\n   <g id=\"PathCollection_1\">\r\n    <defs>\r\n     <path d=\"M 0 3 \r\nC 0.795609 3 1.55874 2.683901 2.12132 2.12132 \r\nC 2.683901 1.55874 3 0.795609 3 0 \r\nC 3 -0.795609 2.683901 -1.55874 2.12132 -2.12132 \r\nC 1.55874 -2.683901 0.795609 -3 0 -3 \r\nC -0.795609 -3 -1.55874 -2.683901 -2.12132 -2.12132 \r\nC -2.683901 -1.55874 -3 -0.795609 -3 0 \r\nC -3 0.795609 -2.683901 1.55874 -2.12132 2.12132 \r\nC -1.55874 2.683901 -0.795609 3 0 3 \r\nz\r\n\" id=\"m834b1cfc3f\" style=\"stroke:#1f77b4;\"/>\r\n    </defs>\r\n    <g clip-path=\"url(#pebc06b74e5)\">\r\n     <use style=\"fill:#1f77b4;stroke:#1f77b4;\" x=\"180.9301\" xlink:href=\"#m834b1cfc3f\" y=\"92.587765\"/>\r\n     <use style=\"fill:#1f77b4;stroke:#1f77b4;\" x=\"176.504897\" xlink:href=\"#m834b1cfc3f\" y=\"106.198678\"/>\r\n     <use style=\"fill:#1f77b4;stroke:#1f77b4;\" x=\"222.111213\" xlink:href=\"#m834b1cfc3f\" y=\"80.436561\"/>\r\n     <use style=\"fill:#1f77b4;stroke:#1f77b4;\" x=\"125.854995\" xlink:href=\"#m834b1cfc3f\" y=\"119.341554\"/>\r\n     <use style=\"fill:#1f77b4;stroke:#1f77b4;\" x=\"131.642085\" xlink:href=\"#m834b1cfc3f\" y=\"145.086801\"/>\r\n     <use style=\"fill:#1f77b4;stroke:#1f77b4;\" x=\"183.839816\" xlink:href=\"#m834b1cfc3f\" y=\"125.26377\"/>\r\n     <use style=\"fill:#1f77b4;stroke:#1f77b4;\" x=\"149.377068\" xlink:href=\"#m834b1cfc3f\" y=\"106.701862\"/>\r\n     <use style=\"fill:#1f77b4;stroke:#1f77b4;\" x=\"185.913571\" xlink:href=\"#m834b1cfc3f\" y=\"70.401382\"/>\r\n     <use style=\"fill:#1f77b4;stroke:#1f77b4;\" x=\"145.01088\" xlink:href=\"#m834b1cfc3f\" y=\"98.170202\"/>\r\n     <use style=\"fill:#1f77b4;stroke:#1f77b4;\" x=\"228.633317\" xlink:href=\"#m834b1cfc3f\" y=\"49.850272\"/>\r\n     <use style=\"fill:#1f77b4;stroke:#1f77b4;\" x=\"169.35051\" xlink:href=\"#m834b1cfc3f\" y=\"96.371533\"/>\r\n     <use style=\"fill:#1f77b4;stroke:#1f77b4;\" x=\"167.136733\" xlink:href=\"#m834b1cfc3f\" y=\"112.574714\"/>\r\n     <use style=\"fill:#1f77b4;stroke:#1f77b4;\" x=\"144.986292\" xlink:href=\"#m834b1cfc3f\" y=\"111.27444\"/>\r\n     <use style=\"fill:#1f77b4;stroke:#1f77b4;\" x=\"197.826417\" xlink:href=\"#m834b1cfc3f\" y=\"71.492339\"/>\r\n     <use style=\"fill:#1f77b4;stroke:#1f77b4;\" x=\"166.790975\" xlink:href=\"#m834b1cfc3f\" y=\"106.42959\"/>\r\n     <use style=\"fill:#1f77b4;stroke:#1f77b4;\" x=\"178.065776\" xlink:href=\"#m834b1cfc3f\" y=\"106.223201\"/>\r\n     <use style=\"fill:#1f77b4;stroke:#1f77b4;\" x=\"137.03342\" xlink:href=\"#m834b1cfc3f\" y=\"109.97537\"/>\r\n     <use style=\"fill:#1f77b4;stroke:#1f77b4;\" x=\"156.359342\" xlink:href=\"#m834b1cfc3f\" y=\"106.131451\"/>\r\n     <use style=\"fill:#1f77b4;stroke:#1f77b4;\" x=\"107.147294\" xlink:href=\"#m834b1cfc3f\" y=\"168.069572\"/>\r\n     <use style=\"fill:#1f77b4;stroke:#1f77b4;\" x=\"247.490068\" xlink:href=\"#m834b1cfc3f\" y=\"84.857945\"/>\r\n     <use style=\"fill:#1f77b4;stroke:#1f77b4;\" x=\"167.486829\" xlink:href=\"#m834b1cfc3f\" y=\"89.780147\"/>\r\n     <use style=\"fill:#1f77b4;stroke:#1f77b4;\" x=\"96.904065\" xlink:href=\"#m834b1cfc3f\" y=\"128.928078\"/>\r\n     <use style=\"fill:#1f77b4;stroke:#1f77b4;\" x=\"151.152734\" xlink:href=\"#m834b1cfc3f\" y=\"101.19992\"/>\r\n     <use style=\"fill:#1f77b4;stroke:#1f77b4;\" x=\"42.620312\" xlink:href=\"#m834b1cfc3f\" y=\"180.569655\"/>\r\n     <use style=\"fill:#1f77b4;stroke:#1f77b4;\" x=\"148.956794\" xlink:href=\"#m834b1cfc3f\" y=\"154.056324\"/>\r\n     <use style=\"fill:#1f77b4;stroke:#1f77b4;\" x=\"153.479015\" xlink:href=\"#m834b1cfc3f\" y=\"111.008043\"/>\r\n     <use style=\"fill:#1f77b4;stroke:#1f77b4;\" x=\"195.331456\" xlink:href=\"#m834b1cfc3f\" y=\"96.079623\"/>\r\n     <use style=\"fill:#1f77b4;stroke:#1f77b4;\" x=\"191.262553\" xlink:href=\"#m834b1cfc3f\" y=\"102.972111\"/>\r\n     <use style=\"fill:#1f77b4;stroke:#1f77b4;\" x=\"136.705186\" xlink:href=\"#m834b1cfc3f\" y=\"108.739865\"/>\r\n     <use style=\"fill:#1f77b4;stroke:#1f77b4;\" x=\"184.537681\" xlink:href=\"#m834b1cfc3f\" y=\"79.063437\"/>\r\n     <use style=\"fill:#1f77b4;stroke:#1f77b4;\" x=\"167.603161\" xlink:href=\"#m834b1cfc3f\" y=\"106.047361\"/>\r\n     <use style=\"fill:#1f77b4;stroke:#1f77b4;\" x=\"147.476566\" xlink:href=\"#m834b1cfc3f\" y=\"118.735946\"/>\r\n     <use style=\"fill:#1f77b4;stroke:#1f77b4;\" x=\"162.982523\" xlink:href=\"#m834b1cfc3f\" y=\"115.033904\"/>\r\n     <use style=\"fill:#1f77b4;stroke:#1f77b4;\" x=\"170.69675\" xlink:href=\"#m834b1cfc3f\" y=\"115.404272\"/>\r\n     <use style=\"fill:#1f77b4;stroke:#1f77b4;\" x=\"183.746569\" xlink:href=\"#m834b1cfc3f\" y=\"92.341934\"/>\r\n     <use style=\"fill:#1f77b4;stroke:#1f77b4;\" x=\"154.572028\" xlink:href=\"#m834b1cfc3f\" y=\"123.204595\"/>\r\n     <use style=\"fill:#1f77b4;stroke:#1f77b4;\" x=\"128.625869\" xlink:href=\"#m834b1cfc3f\" y=\"150.192242\"/>\r\n     <use style=\"fill:#1f77b4;stroke:#1f77b4;\" x=\"142.580147\" xlink:href=\"#m834b1cfc3f\" y=\"112.403453\"/>\r\n     <use style=\"fill:#1f77b4;stroke:#1f77b4;\" x=\"198.235105\" xlink:href=\"#m834b1cfc3f\" y=\"100.964028\"/>\r\n     <use style=\"fill:#1f77b4;stroke:#1f77b4;\" x=\"185.154821\" xlink:href=\"#m834b1cfc3f\" y=\"65.895798\"/>\r\n     <use style=\"fill:#1f77b4;stroke:#1f77b4;\" x=\"135.422696\" xlink:href=\"#m834b1cfc3f\" y=\"127.074595\"/>\r\n     <use style=\"fill:#1f77b4;stroke:#1f77b4;\" x=\"167.605423\" xlink:href=\"#m834b1cfc3f\" y=\"111.888197\"/>\r\n     <use style=\"fill:#1f77b4;stroke:#1f77b4;\" x=\"189.111611\" xlink:href=\"#m834b1cfc3f\" y=\"104.415685\"/>\r\n     <use style=\"fill:#1f77b4;stroke:#1f77b4;\" x=\"179.950642\" xlink:href=\"#m834b1cfc3f\" y=\"71.118798\"/>\r\n     <use style=\"fill:#1f77b4;stroke:#1f77b4;\" x=\"169.167403\" xlink:href=\"#m834b1cfc3f\" y=\"101.862639\"/>\r\n     <use style=\"fill:#1f77b4;stroke:#1f77b4;\" x=\"237.116108\" xlink:href=\"#m834b1cfc3f\" y=\"76.274915\"/>\r\n     <use style=\"fill:#1f77b4;stroke:#1f77b4;\" x=\"156.785741\" xlink:href=\"#m834b1cfc3f\" y=\"111.278944\"/>\r\n     <use style=\"fill:#1f77b4;stroke:#1f77b4;\" x=\"174.315731\" xlink:href=\"#m834b1cfc3f\" y=\"104.636108\"/>\r\n     <use style=\"fill:#1f77b4;stroke:#1f77b4;\" x=\"158.554356\" xlink:href=\"#m834b1cfc3f\" y=\"101.145256\"/>\r\n     <use style=\"fill:#1f77b4;stroke:#1f77b4;\" x=\"120.488754\" xlink:href=\"#m834b1cfc3f\" y=\"131.291783\"/>\r\n     <use style=\"fill:#1f77b4;stroke:#1f77b4;\" x=\"136.358897\" xlink:href=\"#m834b1cfc3f\" y=\"126.521847\"/>\r\n     <use style=\"fill:#1f77b4;stroke:#1f77b4;\" x=\"217.010577\" xlink:href=\"#m834b1cfc3f\" y=\"81.535378\"/>\r\n     <use style=\"fill:#1f77b4;stroke:#1f77b4;\" x=\"179.865187\" xlink:href=\"#m834b1cfc3f\" y=\"82.98984\"/>\r\n     <use style=\"fill:#1f77b4;stroke:#1f77b4;\" x=\"121.765117\" xlink:href=\"#m834b1cfc3f\" y=\"127.317263\"/>\r\n     <use style=\"fill:#1f77b4;stroke:#1f77b4;\" x=\"216.372699\" xlink:href=\"#m834b1cfc3f\" y=\"84.248172\"/>\r\n     <use style=\"fill:#1f77b4;stroke:#1f77b4;\" x=\"148.340591\" xlink:href=\"#m834b1cfc3f\" y=\"95.56686\"/>\r\n     <use style=\"fill:#1f77b4;stroke:#1f77b4;\" x=\"205.330081\" xlink:href=\"#m834b1cfc3f\" y=\"106.55529\"/>\r\n     <use style=\"fill:#1f77b4;stroke:#1f77b4;\" x=\"214.494199\" xlink:href=\"#m834b1cfc3f\" y=\"79.068026\"/>\r\n     <use style=\"fill:#1f77b4;stroke:#1f77b4;\" x=\"157.876536\" xlink:href=\"#m834b1cfc3f\" y=\"98.991781\"/>\r\n     <use style=\"fill:#1f77b4;stroke:#1f77b4;\" x=\"118.911064\" xlink:href=\"#m834b1cfc3f\" y=\"108.946385\"/>\r\n     <use style=\"fill:#1f77b4;stroke:#1f77b4;\" x=\"124.386675\" xlink:href=\"#m834b1cfc3f\" y=\"104.152672\"/>\r\n     <use style=\"fill:#1f77b4;stroke:#1f77b4;\" x=\"146.463745\" xlink:href=\"#m834b1cfc3f\" y=\"110.517154\"/>\r\n     <use style=\"fill:#1f77b4;stroke:#1f77b4;\" x=\"179.866355\" xlink:href=\"#m834b1cfc3f\" y=\"96.873893\"/>\r\n     <use style=\"fill:#1f77b4;stroke:#1f77b4;\" x=\"116.560938\" xlink:href=\"#m834b1cfc3f\" y=\"154.151758\"/>\r\n     <use style=\"fill:#1f77b4;stroke:#1f77b4;\" x=\"143.351024\" xlink:href=\"#m834b1cfc3f\" y=\"97.4138\"/>\r\n     <use style=\"fill:#1f77b4;stroke:#1f77b4;\" x=\"110.493407\" xlink:href=\"#m834b1cfc3f\" y=\"156.138331\"/>\r\n     <use style=\"fill:#1f77b4;stroke:#1f77b4;\" x=\"184.87102\" xlink:href=\"#m834b1cfc3f\" y=\"112.274458\"/>\r\n     <use style=\"fill:#1f77b4;stroke:#1f77b4;\" x=\"140.280932\" xlink:href=\"#m834b1cfc3f\" y=\"101.014558\"/>\r\n     <use style=\"fill:#1f77b4;stroke:#1f77b4;\" x=\"202.160802\" xlink:href=\"#m834b1cfc3f\" y=\"33.52034\"/>\r\n     <use style=\"fill:#1f77b4;stroke:#1f77b4;\" x=\"103.456228\" xlink:href=\"#m834b1cfc3f\" y=\"142.895323\"/>\r\n     <use style=\"fill:#1f77b4;stroke:#1f77b4;\" x=\"187.328232\" xlink:href=\"#m834b1cfc3f\" y=\"83.259721\"/>\r\n     <use style=\"fill:#1f77b4;stroke:#1f77b4;\" x=\"136.893392\" xlink:href=\"#m834b1cfc3f\" y=\"134.93479\"/>\r\n     <use style=\"fill:#1f77b4;stroke:#1f77b4;\" x=\"98.506086\" xlink:href=\"#m834b1cfc3f\" y=\"140.496113\"/>\r\n     <use style=\"fill:#1f77b4;stroke:#1f77b4;\" x=\"159.401636\" xlink:href=\"#m834b1cfc3f\" y=\"116.948118\"/>\r\n     <use style=\"fill:#1f77b4;stroke:#1f77b4;\" x=\"135.543154\" xlink:href=\"#m834b1cfc3f\" y=\"115.258116\"/>\r\n     <use style=\"fill:#1f77b4;stroke:#1f77b4;\" x=\"185.103126\" xlink:href=\"#m834b1cfc3f\" y=\"82.345221\"/>\r\n     <use style=\"fill:#1f77b4;stroke:#1f77b4;\" x=\"182.434369\" xlink:href=\"#m834b1cfc3f\" y=\"120.867105\"/>\r\n     <use style=\"fill:#1f77b4;stroke:#1f77b4;\" x=\"193.136261\" xlink:href=\"#m834b1cfc3f\" y=\"95.051965\"/>\r\n     <use style=\"fill:#1f77b4;stroke:#1f77b4;\" x=\"76.05962\" xlink:href=\"#m834b1cfc3f\" y=\"155.769774\"/>\r\n     <use style=\"fill:#1f77b4;stroke:#1f77b4;\" x=\"174.403751\" xlink:href=\"#m834b1cfc3f\" y=\"97.206235\"/>\r\n     <use style=\"fill:#1f77b4;stroke:#1f77b4;\" x=\"118.976019\" xlink:href=\"#m834b1cfc3f\" y=\"121.938594\"/>\r\n     <use style=\"fill:#1f77b4;stroke:#1f77b4;\" x=\"182.01255\" xlink:href=\"#m834b1cfc3f\" y=\"89.837265\"/>\r\n     <use style=\"fill:#1f77b4;stroke:#1f77b4;\" x=\"182.830754\" xlink:href=\"#m834b1cfc3f\" y=\"102.536924\"/>\r\n     <use style=\"fill:#1f77b4;stroke:#1f77b4;\" x=\"127.401626\" xlink:href=\"#m834b1cfc3f\" y=\"125.190468\"/>\r\n     <use style=\"fill:#1f77b4;stroke:#1f77b4;\" x=\"182.459183\" xlink:href=\"#m834b1cfc3f\" y=\"95.889472\"/>\r\n     <use style=\"fill:#1f77b4;stroke:#1f77b4;\" x=\"180.993267\" xlink:href=\"#m834b1cfc3f\" y=\"90.561207\"/>\r\n     <use style=\"fill:#1f77b4;stroke:#1f77b4;\" x=\"168.978063\" xlink:href=\"#m834b1cfc3f\" y=\"112.471795\"/>\r\n     <use style=\"fill:#1f77b4;stroke:#1f77b4;\" x=\"201.364717\" xlink:href=\"#m834b1cfc3f\" y=\"79.379194\"/>\r\n     <use style=\"fill:#1f77b4;stroke:#1f77b4;\" x=\"151.507105\" xlink:href=\"#m834b1cfc3f\" y=\"129.998044\"/>\r\n     <use style=\"fill:#1f77b4;stroke:#1f77b4;\" x=\"155.008461\" xlink:href=\"#m834b1cfc3f\" y=\"98.562923\"/>\r\n     <use style=\"fill:#1f77b4;stroke:#1f77b4;\" x=\"140.916058\" xlink:href=\"#m834b1cfc3f\" y=\"124.803428\"/>\r\n     <use style=\"fill:#1f77b4;stroke:#1f77b4;\" x=\"107.881824\" xlink:href=\"#m834b1cfc3f\" y=\"182.286067\"/>\r\n     <use style=\"fill:#1f77b4;stroke:#1f77b4;\" x=\"164.408228\" xlink:href=\"#m834b1cfc3f\" y=\"118.239996\"/>\r\n     <use style=\"fill:#1f77b4;stroke:#1f77b4;\" x=\"213.055294\" xlink:href=\"#m834b1cfc3f\" y=\"82.686682\"/>\r\n     <use style=\"fill:#1f77b4;stroke:#1f77b4;\" x=\"158.38635\" xlink:href=\"#m834b1cfc3f\" y=\"141.002447\"/>\r\n     <use style=\"fill:#1f77b4;stroke:#1f77b4;\" x=\"208.714839\" xlink:href=\"#m834b1cfc3f\" y=\"90.115054\"/>\r\n     <use style=\"fill:#1f77b4;stroke:#1f77b4;\" x=\"136.548452\" xlink:href=\"#m834b1cfc3f\" y=\"131.19051\"/>\r\n     <use style=\"fill:#1f77b4;stroke:#1f77b4;\" x=\"152.834797\" xlink:href=\"#m834b1cfc3f\" y=\"110.704814\"/>\r\n     <use style=\"fill:#1f77b4;stroke:#1f77b4;\" x=\"211.272696\" xlink:href=\"#m834b1cfc3f\" y=\"36.992247\"/>\r\n     <use style=\"fill:#1f77b4;stroke:#1f77b4;\" x=\"132.922795\" xlink:href=\"#m834b1cfc3f\" y=\"109.400745\"/>\r\n     <use style=\"fill:#1f77b4;stroke:#1f77b4;\" x=\"164.755936\" xlink:href=\"#m834b1cfc3f\" y=\"108.971031\"/>\r\n     <use style=\"fill:#1f77b4;stroke:#1f77b4;\" x=\"194.305927\" xlink:href=\"#m834b1cfc3f\" y=\"83.055518\"/>\r\n     <use style=\"fill:#1f77b4;stroke:#1f77b4;\" x=\"165.877876\" xlink:href=\"#m834b1cfc3f\" y=\"110.149631\"/>\r\n     <use style=\"fill:#1f77b4;stroke:#1f77b4;\" x=\"178.995328\" xlink:href=\"#m834b1cfc3f\" y=\"72.246922\"/>\r\n     <use style=\"fill:#1f77b4;stroke:#1f77b4;\" x=\"80.228067\" xlink:href=\"#m834b1cfc3f\" y=\"155.469678\"/>\r\n     <use style=\"fill:#1f77b4;stroke:#1f77b4;\" x=\"179.926217\" xlink:href=\"#m834b1cfc3f\" y=\"103.633714\"/>\r\n     <use style=\"fill:#1f77b4;stroke:#1f77b4;\" x=\"159.357717\" xlink:href=\"#m834b1cfc3f\" y=\"101.379763\"/>\r\n     <use style=\"fill:#1f77b4;stroke:#1f77b4;\" x=\"144.871467\" xlink:href=\"#m834b1cfc3f\" y=\"126.653627\"/>\r\n     <use style=\"fill:#1f77b4;stroke:#1f77b4;\" x=\"88.949033\" xlink:href=\"#m834b1cfc3f\" y=\"140.668225\"/>\r\n     <use style=\"fill:#1f77b4;stroke:#1f77b4;\" x=\"213.901842\" xlink:href=\"#m834b1cfc3f\" y=\"94.161052\"/>\r\n     <use style=\"fill:#1f77b4;stroke:#1f77b4;\" x=\"161.176738\" xlink:href=\"#m834b1cfc3f\" y=\"97.890495\"/>\r\n     <use style=\"fill:#1f77b4;stroke:#1f77b4;\" x=\"140.376987\" xlink:href=\"#m834b1cfc3f\" y=\"111.287156\"/>\r\n     <use style=\"fill:#1f77b4;stroke:#1f77b4;\" x=\"139.123378\" xlink:href=\"#m834b1cfc3f\" y=\"109.861727\"/>\r\n     <use style=\"fill:#1f77b4;stroke:#1f77b4;\" x=\"216.77092\" xlink:href=\"#m834b1cfc3f\" y=\"104.489271\"/>\r\n     <use style=\"fill:#1f77b4;stroke:#1f77b4;\" x=\"97.006869\" xlink:href=\"#m834b1cfc3f\" y=\"163.168336\"/>\r\n     <use style=\"fill:#1f77b4;stroke:#1f77b4;\" x=\"186.79532\" xlink:href=\"#m834b1cfc3f\" y=\"109.593853\"/>\r\n     <use style=\"fill:#1f77b4;stroke:#1f77b4;\" x=\"160.429814\" xlink:href=\"#m834b1cfc3f\" y=\"106.568928\"/>\r\n     <use style=\"fill:#1f77b4;stroke:#1f77b4;\" x=\"211.479953\" xlink:href=\"#m834b1cfc3f\" y=\"87.635583\"/>\r\n     <use style=\"fill:#1f77b4;stroke:#1f77b4;\" x=\"152.125638\" xlink:href=\"#m834b1cfc3f\" y=\"108.176837\"/>\r\n     <use style=\"fill:#1f77b4;stroke:#1f77b4;\" x=\"177.062783\" xlink:href=\"#m834b1cfc3f\" y=\"97.941272\"/>\r\n     <use style=\"fill:#1f77b4;stroke:#1f77b4;\" x=\"165.494848\" xlink:href=\"#m834b1cfc3f\" y=\"118.467728\"/>\r\n     <use style=\"fill:#1f77b4;stroke:#1f77b4;\" x=\"115.913041\" xlink:href=\"#m834b1cfc3f\" y=\"151.125664\"/>\r\n     <use style=\"fill:#1f77b4;stroke:#1f77b4;\" x=\"143.346113\" xlink:href=\"#m834b1cfc3f\" y=\"102.994162\"/>\r\n     <use style=\"fill:#1f77b4;stroke:#1f77b4;\" x=\"135.275943\" xlink:href=\"#m834b1cfc3f\" y=\"108.506964\"/>\r\n     <use style=\"fill:#1f77b4;stroke:#1f77b4;\" x=\"197.831925\" xlink:href=\"#m834b1cfc3f\" y=\"84.837078\"/>\r\n     <use style=\"fill:#1f77b4;stroke:#1f77b4;\" x=\"131.717839\" xlink:href=\"#m834b1cfc3f\" y=\"151.219574\"/>\r\n     <use style=\"fill:#1f77b4;stroke:#1f77b4;\" x=\"131.223171\" xlink:href=\"#m834b1cfc3f\" y=\"104.131523\"/>\r\n     <use style=\"fill:#1f77b4;stroke:#1f77b4;\" x=\"134.649342\" xlink:href=\"#m834b1cfc3f\" y=\"97.190748\"/>\r\n     <use style=\"fill:#1f77b4;stroke:#1f77b4;\" x=\"98.184437\" xlink:href=\"#m834b1cfc3f\" y=\"180.052982\"/>\r\n     <use style=\"fill:#1f77b4;stroke:#1f77b4;\" x=\"108.313683\" xlink:href=\"#m834b1cfc3f\" y=\"139.925321\"/>\r\n     <use style=\"fill:#1f77b4;stroke:#1f77b4;\" x=\"168.932966\" xlink:href=\"#m834b1cfc3f\" y=\"89.893447\"/>\r\n     <use style=\"fill:#1f77b4;stroke:#1f77b4;\" x=\"159.237702\" xlink:href=\"#m834b1cfc3f\" y=\"123.694613\"/>\r\n     <use style=\"fill:#1f77b4;stroke:#1f77b4;\" x=\"110.679406\" xlink:href=\"#m834b1cfc3f\" y=\"149.181873\"/>\r\n     <use style=\"fill:#1f77b4;stroke:#1f77b4;\" x=\"169.675422\" xlink:href=\"#m834b1cfc3f\" y=\"123.063613\"/>\r\n     <use style=\"fill:#1f77b4;stroke:#1f77b4;\" x=\"149.937009\" xlink:href=\"#m834b1cfc3f\" y=\"112.492952\"/>\r\n     <use style=\"fill:#1f77b4;stroke:#1f77b4;\" x=\"125.217205\" xlink:href=\"#m834b1cfc3f\" y=\"162.917756\"/>\r\n     <use style=\"fill:#1f77b4;stroke:#1f77b4;\" x=\"154.511832\" xlink:href=\"#m834b1cfc3f\" y=\"115.720346\"/>\r\n     <use style=\"fill:#1f77b4;stroke:#1f77b4;\" x=\"186.679905\" xlink:href=\"#m834b1cfc3f\" y=\"79.464368\"/>\r\n     <use style=\"fill:#1f77b4;stroke:#1f77b4;\" x=\"151.512141\" xlink:href=\"#m834b1cfc3f\" y=\"108.726117\"/>\r\n     <use style=\"fill:#1f77b4;stroke:#1f77b4;\" x=\"185.448221\" xlink:href=\"#m834b1cfc3f\" y=\"110.418875\"/>\r\n     <use style=\"fill:#1f77b4;stroke:#1f77b4;\" x=\"142.550983\" xlink:href=\"#m834b1cfc3f\" y=\"100.050468\"/>\r\n     <use style=\"fill:#1f77b4;stroke:#1f77b4;\" x=\"169.628919\" xlink:href=\"#m834b1cfc3f\" y=\"99.060953\"/>\r\n     <use style=\"fill:#1f77b4;stroke:#1f77b4;\" x=\"204.043487\" xlink:href=\"#m834b1cfc3f\" y=\"97.854151\"/>\r\n     <use style=\"fill:#1f77b4;stroke:#1f77b4;\" x=\"135.412102\" xlink:href=\"#m834b1cfc3f\" y=\"130.351797\"/>\r\n     <use style=\"fill:#1f77b4;stroke:#1f77b4;\" x=\"260.060313\" xlink:href=\"#m834b1cfc3f\" y=\"57.200318\"/>\r\n     <use style=\"fill:#1f77b4;stroke:#1f77b4;\" x=\"178.906895\" xlink:href=\"#m834b1cfc3f\" y=\"97.049557\"/>\r\n     <use style=\"fill:#1f77b4;stroke:#1f77b4;\" x=\"172.309129\" xlink:href=\"#m834b1cfc3f\" y=\"87.685937\"/>\r\n     <use style=\"fill:#1f77b4;stroke:#1f77b4;\" x=\"123.602363\" xlink:href=\"#m834b1cfc3f\" y=\"111.401545\"/>\r\n     <use style=\"fill:#1f77b4;stroke:#1f77b4;\" x=\"173.241563\" xlink:href=\"#m834b1cfc3f\" y=\"108.743357\"/>\r\n     <use style=\"fill:#1f77b4;stroke:#1f77b4;\" x=\"162.770603\" xlink:href=\"#m834b1cfc3f\" y=\"124.516969\"/>\r\n     <use style=\"fill:#1f77b4;stroke:#1f77b4;\" x=\"179.773089\" xlink:href=\"#m834b1cfc3f\" y=\"103.06737\"/>\r\n     <use style=\"fill:#1f77b4;stroke:#1f77b4;\" x=\"153.022892\" xlink:href=\"#m834b1cfc3f\" y=\"119.448442\"/>\r\n     <use style=\"fill:#1f77b4;stroke:#1f77b4;\" x=\"169.924697\" xlink:href=\"#m834b1cfc3f\" y=\"99.025791\"/>\r\n     <use style=\"fill:#1f77b4;stroke:#1f77b4;\" x=\"163.507966\" xlink:href=\"#m834b1cfc3f\" y=\"121.53976\"/>\r\n     <use style=\"fill:#1f77b4;stroke:#1f77b4;\" x=\"217.143835\" xlink:href=\"#m834b1cfc3f\" y=\"86.727109\"/>\r\n     <use style=\"fill:#1f77b4;stroke:#1f77b4;\" x=\"158.819895\" xlink:href=\"#m834b1cfc3f\" y=\"125.812741\"/>\r\n     <use style=\"fill:#1f77b4;stroke:#1f77b4;\" x=\"124.90628\" xlink:href=\"#m834b1cfc3f\" y=\"116.201854\"/>\r\n     <use style=\"fill:#1f77b4;stroke:#1f77b4;\" x=\"248.281082\" xlink:href=\"#m834b1cfc3f\" y=\"62.909046\"/>\r\n     <use style=\"fill:#1f77b4;stroke:#1f77b4;\" x=\"196.054555\" xlink:href=\"#m834b1cfc3f\" y=\"89.048887\"/>\r\n     <use style=\"fill:#1f77b4;stroke:#1f77b4;\" x=\"170.032916\" xlink:href=\"#m834b1cfc3f\" y=\"100.405695\"/>\r\n     <use style=\"fill:#1f77b4;stroke:#1f77b4;\" x=\"188.282061\" xlink:href=\"#m834b1cfc3f\" y=\"83.751256\"/>\r\n     <use style=\"fill:#1f77b4;stroke:#1f77b4;\" x=\"142.271595\" xlink:href=\"#m834b1cfc3f\" y=\"112.534205\"/>\r\n     <use style=\"fill:#1f77b4;stroke:#1f77b4;\" x=\"189.624497\" xlink:href=\"#m834b1cfc3f\" y=\"94.178863\"/>\r\n     <use style=\"fill:#1f77b4;stroke:#1f77b4;\" x=\"141.827256\" xlink:href=\"#m834b1cfc3f\" y=\"106.188339\"/>\r\n     <use style=\"fill:#1f77b4;stroke:#1f77b4;\" x=\"163.802495\" xlink:href=\"#m834b1cfc3f\" y=\"124.054594\"/>\r\n     <use style=\"fill:#1f77b4;stroke:#1f77b4;\" x=\"134.683328\" xlink:href=\"#m834b1cfc3f\" y=\"100.947007\"/>\r\n     <use style=\"fill:#1f77b4;stroke:#1f77b4;\" x=\"118.047368\" xlink:href=\"#m834b1cfc3f\" y=\"156.486823\"/>\r\n     <use style=\"fill:#1f77b4;stroke:#1f77b4;\" x=\"143.748297\" xlink:href=\"#m834b1cfc3f\" y=\"133.843826\"/>\r\n     <use style=\"fill:#1f77b4;stroke:#1f77b4;\" x=\"149.115398\" xlink:href=\"#m834b1cfc3f\" y=\"106.983333\"/>\r\n     <use style=\"fill:#1f77b4;stroke:#1f77b4;\" x=\"162.425214\" xlink:href=\"#m834b1cfc3f\" y=\"130.807389\"/>\r\n     <use style=\"fill:#1f77b4;stroke:#1f77b4;\" x=\"246.169075\" xlink:href=\"#m834b1cfc3f\" y=\"61.29695\"/>\r\n     <use style=\"fill:#1f77b4;stroke:#1f77b4;\" x=\"152.563987\" xlink:href=\"#m834b1cfc3f\" y=\"105.062185\"/>\r\n     <use style=\"fill:#1f77b4;stroke:#1f77b4;\" x=\"155.032813\" xlink:href=\"#m834b1cfc3f\" y=\"110.462636\"/>\r\n     <use style=\"fill:#1f77b4;stroke:#1f77b4;\" x=\"201.175514\" xlink:href=\"#m834b1cfc3f\" y=\"93.220361\"/>\r\n     <use style=\"fill:#1f77b4;stroke:#1f77b4;\" x=\"96.796559\" xlink:href=\"#m834b1cfc3f\" y=\"157.174353\"/>\r\n     <use style=\"fill:#1f77b4;stroke:#1f77b4;\" x=\"152.044099\" xlink:href=\"#m834b1cfc3f\" y=\"115.351433\"/>\r\n     <use style=\"fill:#1f77b4;stroke:#1f77b4;\" x=\"152.628429\" xlink:href=\"#m834b1cfc3f\" y=\"125.855712\"/>\r\n     <use style=\"fill:#1f77b4;stroke:#1f77b4;\" x=\"145.760595\" xlink:href=\"#m834b1cfc3f\" y=\"137.77717\"/>\r\n     <use style=\"fill:#1f77b4;stroke:#1f77b4;\" x=\"180.171596\" xlink:href=\"#m834b1cfc3f\" y=\"101.9887\"/>\r\n     <use style=\"fill:#1f77b4;stroke:#1f77b4;\" x=\"161.645211\" xlink:href=\"#m834b1cfc3f\" y=\"110.035077\"/>\r\n     <use style=\"fill:#1f77b4;stroke:#1f77b4;\" x=\"150.05455\" xlink:href=\"#m834b1cfc3f\" y=\"153.377707\"/>\r\n     <use style=\"fill:#1f77b4;stroke:#1f77b4;\" x=\"125.574309\" xlink:href=\"#m834b1cfc3f\" y=\"113.632327\"/>\r\n     <use style=\"fill:#1f77b4;stroke:#1f77b4;\" x=\"140.757367\" xlink:href=\"#m834b1cfc3f\" y=\"109.938468\"/>\r\n     <use style=\"fill:#1f77b4;stroke:#1f77b4;\" x=\"118.68917\" xlink:href=\"#m834b1cfc3f\" y=\"114.148198\"/>\r\n     <use style=\"fill:#1f77b4;stroke:#1f77b4;\" x=\"185.490022\" xlink:href=\"#m834b1cfc3f\" y=\"67.68014\"/>\r\n     <use style=\"fill:#1f77b4;stroke:#1f77b4;\" x=\"148.943743\" xlink:href=\"#m834b1cfc3f\" y=\"125.030757\"/>\r\n     <use style=\"fill:#1f77b4;stroke:#1f77b4;\" x=\"141.147571\" xlink:href=\"#m834b1cfc3f\" y=\"105.996962\"/>\r\n     <use style=\"fill:#1f77b4;stroke:#1f77b4;\" x=\"172.581872\" xlink:href=\"#m834b1cfc3f\" y=\"102.975619\"/>\r\n     <use style=\"fill:#1f77b4;stroke:#1f77b4;\" x=\"135.324674\" xlink:href=\"#m834b1cfc3f\" y=\"108.042557\"/>\r\n     <use style=\"fill:#1f77b4;stroke:#1f77b4;\" x=\"169.513093\" xlink:href=\"#m834b1cfc3f\" y=\"92.444591\"/>\r\n     <use style=\"fill:#1f77b4;stroke:#1f77b4;\" x=\"154.741401\" xlink:href=\"#m834b1cfc3f\" y=\"98.860079\"/>\r\n     <use style=\"fill:#1f77b4;stroke:#1f77b4;\" x=\"134.689832\" xlink:href=\"#m834b1cfc3f\" y=\"127.903752\"/>\r\n     <use style=\"fill:#1f77b4;stroke:#1f77b4;\" x=\"127.693324\" xlink:href=\"#m834b1cfc3f\" y=\"127.934869\"/>\r\n     <use style=\"fill:#1f77b4;stroke:#1f77b4;\" x=\"154.737609\" xlink:href=\"#m834b1cfc3f\" y=\"119.172636\"/>\r\n     <use style=\"fill:#1f77b4;stroke:#1f77b4;\" x=\"140.030198\" xlink:href=\"#m834b1cfc3f\" y=\"123.413603\"/>\r\n     <use style=\"fill:#1f77b4;stroke:#1f77b4;\" x=\"189.098186\" xlink:href=\"#m834b1cfc3f\" y=\"100.286562\"/>\r\n     <use style=\"fill:#1f77b4;stroke:#1f77b4;\" x=\"156.020336\" xlink:href=\"#m834b1cfc3f\" y=\"92.848679\"/>\r\n     <use style=\"fill:#1f77b4;stroke:#1f77b4;\" x=\"190.965913\" xlink:href=\"#m834b1cfc3f\" y=\"107.465014\"/>\r\n     <use style=\"fill:#1f77b4;stroke:#1f77b4;\" x=\"151.871957\" xlink:href=\"#m834b1cfc3f\" y=\"140.404121\"/>\r\n     <use style=\"fill:#1f77b4;stroke:#1f77b4;\" x=\"165.21234\" xlink:href=\"#m834b1cfc3f\" y=\"111.752389\"/>\r\n    </g>\r\n   </g>\r\n   <g id=\"matplotlib.axis_1\">\r\n    <g id=\"xtick_1\">\r\n     <g id=\"line2d_1\">\r\n      <defs>\r\n       <path d=\"M 0 0 \r\nL 0 3.5 \r\n\" id=\"m866ba1c46b\" style=\"stroke:#000000;stroke-width:0.8;\"/>\r\n      </defs>\r\n      <g>\r\n       <use style=\"stroke:#000000;stroke-width:0.8;\" x=\"58.229603\" xlink:href=\"#m866ba1c46b\" y=\"226.956757\"/>\r\n      </g>\r\n     </g>\r\n     <g id=\"text_1\">\r\n      <!-- −7.5 -->\r\n      <g transform=\"translate(46.088196 241.555195)scale(0.1 -0.1)\">\r\n       <defs>\r\n        <path d=\"M 10.59375 35.5 \r\nL 73.1875 35.5 \r\nL 73.1875 27.203125 \r\nL 10.59375 27.203125 \r\nz\r\n\" id=\"DejaVuSans-8722\"/>\r\n        <path d=\"M 8.203125 72.90625 \r\nL 55.078125 72.90625 \r\nL 55.078125 68.703125 \r\nL 28.609375 0 \r\nL 18.3125 0 \r\nL 43.21875 64.59375 \r\nL 8.203125 64.59375 \r\nz\r\n\" id=\"DejaVuSans-55\"/>\r\n        <path d=\"M 10.6875 12.40625 \r\nL 21 12.40625 \r\nL 21 0 \r\nL 10.6875 0 \r\nz\r\n\" id=\"DejaVuSans-46\"/>\r\n        <path d=\"M 10.796875 72.90625 \r\nL 49.515625 72.90625 \r\nL 49.515625 64.59375 \r\nL 19.828125 64.59375 \r\nL 19.828125 46.734375 \r\nQ 21.96875 47.46875 24.109375 47.828125 \r\nQ 26.265625 48.1875 28.421875 48.1875 \r\nQ 40.625 48.1875 47.75 41.5 \r\nQ 54.890625 34.8125 54.890625 23.390625 \r\nQ 54.890625 11.625 47.5625 5.09375 \r\nQ 40.234375 -1.421875 26.90625 -1.421875 \r\nQ 22.3125 -1.421875 17.546875 -0.640625 \r\nQ 12.796875 0.140625 7.71875 1.703125 \r\nL 7.71875 11.625 \r\nQ 12.109375 9.234375 16.796875 8.0625 \r\nQ 21.484375 6.890625 26.703125 6.890625 \r\nQ 35.15625 6.890625 40.078125 11.328125 \r\nQ 45.015625 15.765625 45.015625 23.390625 \r\nQ 45.015625 31 40.078125 35.4375 \r\nQ 35.15625 39.890625 26.703125 39.890625 \r\nQ 22.75 39.890625 18.8125 39.015625 \r\nQ 14.890625 38.140625 10.796875 36.28125 \r\nz\r\n\" id=\"DejaVuSans-53\"/>\r\n       </defs>\r\n       <use xlink:href=\"#DejaVuSans-8722\"/>\r\n       <use x=\"83.789062\" xlink:href=\"#DejaVuSans-55\"/>\r\n       <use x=\"147.412109\" xlink:href=\"#DejaVuSans-46\"/>\r\n       <use x=\"179.199219\" xlink:href=\"#DejaVuSans-53\"/>\r\n      </g>\r\n     </g>\r\n    </g>\r\n    <g id=\"xtick_2\">\r\n     <g id=\"line2d_2\">\r\n      <g>\r\n       <use style=\"stroke:#000000;stroke-width:0.8;\" x=\"95.33113\" xlink:href=\"#m866ba1c46b\" y=\"226.956757\"/>\r\n      </g>\r\n     </g>\r\n     <g id=\"text_2\">\r\n      <!-- −5.0 -->\r\n      <g transform=\"translate(83.189724 241.555195)scale(0.1 -0.1)\">\r\n       <defs>\r\n        <path d=\"M 31.78125 66.40625 \r\nQ 24.171875 66.40625 20.328125 58.90625 \r\nQ 16.5 51.421875 16.5 36.375 \r\nQ 16.5 21.390625 20.328125 13.890625 \r\nQ 24.171875 6.390625 31.78125 6.390625 \r\nQ 39.453125 6.390625 43.28125 13.890625 \r\nQ 47.125 21.390625 47.125 36.375 \r\nQ 47.125 51.421875 43.28125 58.90625 \r\nQ 39.453125 66.40625 31.78125 66.40625 \r\nz\r\nM 31.78125 74.21875 \r\nQ 44.046875 74.21875 50.515625 64.515625 \r\nQ 56.984375 54.828125 56.984375 36.375 \r\nQ 56.984375 17.96875 50.515625 8.265625 \r\nQ 44.046875 -1.421875 31.78125 -1.421875 \r\nQ 19.53125 -1.421875 13.0625 8.265625 \r\nQ 6.59375 17.96875 6.59375 36.375 \r\nQ 6.59375 54.828125 13.0625 64.515625 \r\nQ 19.53125 74.21875 31.78125 74.21875 \r\nz\r\n\" id=\"DejaVuSans-48\"/>\r\n       </defs>\r\n       <use xlink:href=\"#DejaVuSans-8722\"/>\r\n       <use x=\"83.789062\" xlink:href=\"#DejaVuSans-53\"/>\r\n       <use x=\"147.412109\" xlink:href=\"#DejaVuSans-46\"/>\r\n       <use x=\"179.199219\" xlink:href=\"#DejaVuSans-48\"/>\r\n      </g>\r\n     </g>\r\n    </g>\r\n    <g id=\"xtick_3\">\r\n     <g id=\"line2d_3\">\r\n      <g>\r\n       <use style=\"stroke:#000000;stroke-width:0.8;\" x=\"132.432658\" xlink:href=\"#m866ba1c46b\" y=\"226.956757\"/>\r\n      </g>\r\n     </g>\r\n     <g id=\"text_3\">\r\n      <!-- −2.5 -->\r\n      <g transform=\"translate(120.291251 241.555195)scale(0.1 -0.1)\">\r\n       <defs>\r\n        <path d=\"M 19.1875 8.296875 \r\nL 53.609375 8.296875 \r\nL 53.609375 0 \r\nL 7.328125 0 \r\nL 7.328125 8.296875 \r\nQ 12.9375 14.109375 22.625 23.890625 \r\nQ 32.328125 33.6875 34.8125 36.53125 \r\nQ 39.546875 41.84375 41.421875 45.53125 \r\nQ 43.3125 49.21875 43.3125 52.78125 \r\nQ 43.3125 58.59375 39.234375 62.25 \r\nQ 35.15625 65.921875 28.609375 65.921875 \r\nQ 23.96875 65.921875 18.8125 64.3125 \r\nQ 13.671875 62.703125 7.8125 59.421875 \r\nL 7.8125 69.390625 \r\nQ 13.765625 71.78125 18.9375 73 \r\nQ 24.125 74.21875 28.421875 74.21875 \r\nQ 39.75 74.21875 46.484375 68.546875 \r\nQ 53.21875 62.890625 53.21875 53.421875 \r\nQ 53.21875 48.921875 51.53125 44.890625 \r\nQ 49.859375 40.875 45.40625 35.40625 \r\nQ 44.1875 33.984375 37.640625 27.21875 \r\nQ 31.109375 20.453125 19.1875 8.296875 \r\nz\r\n\" id=\"DejaVuSans-50\"/>\r\n       </defs>\r\n       <use xlink:href=\"#DejaVuSans-8722\"/>\r\n       <use x=\"83.789062\" xlink:href=\"#DejaVuSans-50\"/>\r\n       <use x=\"147.412109\" xlink:href=\"#DejaVuSans-46\"/>\r\n       <use x=\"179.199219\" xlink:href=\"#DejaVuSans-53\"/>\r\n      </g>\r\n     </g>\r\n    </g>\r\n    <g id=\"xtick_4\">\r\n     <g id=\"line2d_4\">\r\n      <g>\r\n       <use style=\"stroke:#000000;stroke-width:0.8;\" x=\"169.534185\" xlink:href=\"#m866ba1c46b\" y=\"226.956757\"/>\r\n      </g>\r\n     </g>\r\n     <g id=\"text_4\">\r\n      <!-- 0.0 -->\r\n      <g transform=\"translate(161.582623 241.555195)scale(0.1 -0.1)\">\r\n       <use xlink:href=\"#DejaVuSans-48\"/>\r\n       <use x=\"63.623047\" xlink:href=\"#DejaVuSans-46\"/>\r\n       <use x=\"95.410156\" xlink:href=\"#DejaVuSans-48\"/>\r\n      </g>\r\n     </g>\r\n    </g>\r\n    <g id=\"xtick_5\">\r\n     <g id=\"line2d_5\">\r\n      <g>\r\n       <use style=\"stroke:#000000;stroke-width:0.8;\" x=\"206.635713\" xlink:href=\"#m866ba1c46b\" y=\"226.956757\"/>\r\n      </g>\r\n     </g>\r\n     <g id=\"text_5\">\r\n      <!-- 2.5 -->\r\n      <g transform=\"translate(198.68415 241.555195)scale(0.1 -0.1)\">\r\n       <use xlink:href=\"#DejaVuSans-50\"/>\r\n       <use x=\"63.623047\" xlink:href=\"#DejaVuSans-46\"/>\r\n       <use x=\"95.410156\" xlink:href=\"#DejaVuSans-53\"/>\r\n      </g>\r\n     </g>\r\n    </g>\r\n    <g id=\"xtick_6\">\r\n     <g id=\"line2d_6\">\r\n      <g>\r\n       <use style=\"stroke:#000000;stroke-width:0.8;\" x=\"243.73724\" xlink:href=\"#m866ba1c46b\" y=\"226.956757\"/>\r\n      </g>\r\n     </g>\r\n     <g id=\"text_6\">\r\n      <!-- 5.0 -->\r\n      <g transform=\"translate(235.785678 241.555195)scale(0.1 -0.1)\">\r\n       <use xlink:href=\"#DejaVuSans-53\"/>\r\n       <use x=\"63.623047\" xlink:href=\"#DejaVuSans-46\"/>\r\n       <use x=\"95.410156\" xlink:href=\"#DejaVuSans-48\"/>\r\n      </g>\r\n     </g>\r\n    </g>\r\n    <g id=\"text_7\">\r\n     <!-- y test true -->\r\n     <g transform=\"translate(125.340312 255.23332)scale(0.1 -0.1)\">\r\n      <defs>\r\n       <path d=\"M 32.171875 -5.078125 \r\nQ 28.375 -14.84375 24.75 -17.8125 \r\nQ 21.140625 -20.796875 15.09375 -20.796875 \r\nL 7.90625 -20.796875 \r\nL 7.90625 -13.28125 \r\nL 13.1875 -13.28125 \r\nQ 16.890625 -13.28125 18.9375 -11.515625 \r\nQ 21 -9.765625 23.484375 -3.21875 \r\nL 25.09375 0.875 \r\nL 2.984375 54.6875 \r\nL 12.5 54.6875 \r\nL 29.59375 11.921875 \r\nL 46.6875 54.6875 \r\nL 56.203125 54.6875 \r\nz\r\n\" id=\"DejaVuSans-121\"/>\r\n       <path id=\"DejaVuSans-32\"/>\r\n       <path d=\"M 18.3125 70.21875 \r\nL 18.3125 54.6875 \r\nL 36.8125 54.6875 \r\nL 36.8125 47.703125 \r\nL 18.3125 47.703125 \r\nL 18.3125 18.015625 \r\nQ 18.3125 11.328125 20.140625 9.421875 \r\nQ 21.96875 7.515625 27.59375 7.515625 \r\nL 36.8125 7.515625 \r\nL 36.8125 0 \r\nL 27.59375 0 \r\nQ 17.1875 0 13.234375 3.875 \r\nQ 9.28125 7.765625 9.28125 18.015625 \r\nL 9.28125 47.703125 \r\nL 2.6875 47.703125 \r\nL 2.6875 54.6875 \r\nL 9.28125 54.6875 \r\nL 9.28125 70.21875 \r\nz\r\n\" id=\"DejaVuSans-116\"/>\r\n       <path d=\"M 56.203125 29.59375 \r\nL 56.203125 25.203125 \r\nL 14.890625 25.203125 \r\nQ 15.484375 15.921875 20.484375 11.0625 \r\nQ 25.484375 6.203125 34.421875 6.203125 \r\nQ 39.59375 6.203125 44.453125 7.46875 \r\nQ 49.3125 8.734375 54.109375 11.28125 \r\nL 54.109375 2.78125 \r\nQ 49.265625 0.734375 44.1875 -0.34375 \r\nQ 39.109375 -1.421875 33.890625 -1.421875 \r\nQ 20.796875 -1.421875 13.15625 6.1875 \r\nQ 5.515625 13.8125 5.515625 26.8125 \r\nQ 5.515625 40.234375 12.765625 48.109375 \r\nQ 20.015625 56 32.328125 56 \r\nQ 43.359375 56 49.78125 48.890625 \r\nQ 56.203125 41.796875 56.203125 29.59375 \r\nz\r\nM 47.21875 32.234375 \r\nQ 47.125 39.59375 43.09375 43.984375 \r\nQ 39.0625 48.390625 32.421875 48.390625 \r\nQ 24.90625 48.390625 20.390625 44.140625 \r\nQ 15.875 39.890625 15.1875 32.171875 \r\nz\r\n\" id=\"DejaVuSans-101\"/>\r\n       <path d=\"M 44.28125 53.078125 \r\nL 44.28125 44.578125 \r\nQ 40.484375 46.53125 36.375 47.5 \r\nQ 32.28125 48.484375 27.875 48.484375 \r\nQ 21.1875 48.484375 17.84375 46.4375 \r\nQ 14.5 44.390625 14.5 40.28125 \r\nQ 14.5 37.15625 16.890625 35.375 \r\nQ 19.28125 33.59375 26.515625 31.984375 \r\nL 29.59375 31.296875 \r\nQ 39.15625 29.25 43.1875 25.515625 \r\nQ 47.21875 21.78125 47.21875 15.09375 \r\nQ 47.21875 7.46875 41.1875 3.015625 \r\nQ 35.15625 -1.421875 24.609375 -1.421875 \r\nQ 20.21875 -1.421875 15.453125 -0.5625 \r\nQ 10.6875 0.296875 5.421875 2 \r\nL 5.421875 11.28125 \r\nQ 10.40625 8.6875 15.234375 7.390625 \r\nQ 20.0625 6.109375 24.8125 6.109375 \r\nQ 31.15625 6.109375 34.5625 8.28125 \r\nQ 37.984375 10.453125 37.984375 14.40625 \r\nQ 37.984375 18.0625 35.515625 20.015625 \r\nQ 33.0625 21.96875 24.703125 23.78125 \r\nL 21.578125 24.515625 \r\nQ 13.234375 26.265625 9.515625 29.90625 \r\nQ 5.8125 33.546875 5.8125 39.890625 \r\nQ 5.8125 47.609375 11.28125 51.796875 \r\nQ 16.75 56 26.8125 56 \r\nQ 31.78125 56 36.171875 55.265625 \r\nQ 40.578125 54.546875 44.28125 53.078125 \r\nz\r\n\" id=\"DejaVuSans-115\"/>\r\n       <path d=\"M 41.109375 46.296875 \r\nQ 39.59375 47.171875 37.8125 47.578125 \r\nQ 36.03125 48 33.890625 48 \r\nQ 26.265625 48 22.1875 43.046875 \r\nQ 18.109375 38.09375 18.109375 28.8125 \r\nL 18.109375 0 \r\nL 9.078125 0 \r\nL 9.078125 54.6875 \r\nL 18.109375 54.6875 \r\nL 18.109375 46.1875 \r\nQ 20.953125 51.171875 25.484375 53.578125 \r\nQ 30.03125 56 36.53125 56 \r\nQ 37.453125 56 38.578125 55.875 \r\nQ 39.703125 55.765625 41.0625 55.515625 \r\nz\r\n\" id=\"DejaVuSans-114\"/>\r\n       <path d=\"M 8.5 21.578125 \r\nL 8.5 54.6875 \r\nL 17.484375 54.6875 \r\nL 17.484375 21.921875 \r\nQ 17.484375 14.15625 20.5 10.265625 \r\nQ 23.53125 6.390625 29.59375 6.390625 \r\nQ 36.859375 6.390625 41.078125 11.03125 \r\nQ 45.3125 15.671875 45.3125 23.6875 \r\nL 45.3125 54.6875 \r\nL 54.296875 54.6875 \r\nL 54.296875 0 \r\nL 45.3125 0 \r\nL 45.3125 8.40625 \r\nQ 42.046875 3.421875 37.71875 1 \r\nQ 33.40625 -1.421875 27.6875 -1.421875 \r\nQ 18.265625 -1.421875 13.375 4.4375 \r\nQ 8.5 10.296875 8.5 21.578125 \r\nz\r\nM 31.109375 56 \r\nz\r\n\" id=\"DejaVuSans-117\"/>\r\n      </defs>\r\n      <use xlink:href=\"#DejaVuSans-121\"/>\r\n      <use x=\"59.179688\" xlink:href=\"#DejaVuSans-32\"/>\r\n      <use x=\"90.966797\" xlink:href=\"#DejaVuSans-116\"/>\r\n      <use x=\"130.175781\" xlink:href=\"#DejaVuSans-101\"/>\r\n      <use x=\"191.699219\" xlink:href=\"#DejaVuSans-115\"/>\r\n      <use x=\"243.798828\" xlink:href=\"#DejaVuSans-116\"/>\r\n      <use x=\"283.007812\" xlink:href=\"#DejaVuSans-32\"/>\r\n      <use x=\"314.794922\" xlink:href=\"#DejaVuSans-116\"/>\r\n      <use x=\"354.003906\" xlink:href=\"#DejaVuSans-114\"/>\r\n      <use x=\"395.117188\" xlink:href=\"#DejaVuSans-117\"/>\r\n      <use x=\"458.496094\" xlink:href=\"#DejaVuSans-101\"/>\r\n     </g>\r\n    </g>\r\n   </g>\r\n   <g id=\"matplotlib.axis_2\">\r\n    <g id=\"ytick_1\">\r\n     <g id=\"line2d_7\">\r\n      <defs>\r\n       <path d=\"M 0 0 \r\nL -3.5 0 \r\n\" id=\"m9ef4cfd963\" style=\"stroke:#000000;stroke-width:0.8;\"/>\r\n      </defs>\r\n      <g>\r\n       <use style=\"stroke:#000000;stroke-width:0.8;\" x=\"42.620312\" xlink:href=\"#m9ef4cfd963\" y=\"218.767773\"/>\r\n      </g>\r\n     </g>\r\n     <g id=\"text_8\">\r\n      <!-- −8 -->\r\n      <g transform=\"translate(20.878125 222.566992)scale(0.1 -0.1)\">\r\n       <defs>\r\n        <path d=\"M 31.78125 34.625 \r\nQ 24.75 34.625 20.71875 30.859375 \r\nQ 16.703125 27.09375 16.703125 20.515625 \r\nQ 16.703125 13.921875 20.71875 10.15625 \r\nQ 24.75 6.390625 31.78125 6.390625 \r\nQ 38.8125 6.390625 42.859375 10.171875 \r\nQ 46.921875 13.96875 46.921875 20.515625 \r\nQ 46.921875 27.09375 42.890625 30.859375 \r\nQ 38.875 34.625 31.78125 34.625 \r\nz\r\nM 21.921875 38.8125 \r\nQ 15.578125 40.375 12.03125 44.71875 \r\nQ 8.5 49.078125 8.5 55.328125 \r\nQ 8.5 64.0625 14.71875 69.140625 \r\nQ 20.953125 74.21875 31.78125 74.21875 \r\nQ 42.671875 74.21875 48.875 69.140625 \r\nQ 55.078125 64.0625 55.078125 55.328125 \r\nQ 55.078125 49.078125 51.53125 44.71875 \r\nQ 48 40.375 41.703125 38.8125 \r\nQ 48.828125 37.15625 52.796875 32.3125 \r\nQ 56.78125 27.484375 56.78125 20.515625 \r\nQ 56.78125 9.90625 50.3125 4.234375 \r\nQ 43.84375 -1.421875 31.78125 -1.421875 \r\nQ 19.734375 -1.421875 13.25 4.234375 \r\nQ 6.78125 9.90625 6.78125 20.515625 \r\nQ 6.78125 27.484375 10.78125 32.3125 \r\nQ 14.796875 37.15625 21.921875 38.8125 \r\nz\r\nM 18.3125 54.390625 \r\nQ 18.3125 48.734375 21.84375 45.5625 \r\nQ 25.390625 42.390625 31.78125 42.390625 \r\nQ 38.140625 42.390625 41.71875 45.5625 \r\nQ 45.3125 48.734375 45.3125 54.390625 \r\nQ 45.3125 60.0625 41.71875 63.234375 \r\nQ 38.140625 66.40625 31.78125 66.40625 \r\nQ 25.390625 66.40625 21.84375 63.234375 \r\nQ 18.3125 60.0625 18.3125 54.390625 \r\nz\r\n\" id=\"DejaVuSans-56\"/>\r\n       </defs>\r\n       <use xlink:href=\"#DejaVuSans-8722\"/>\r\n       <use x=\"83.789062\" xlink:href=\"#DejaVuSans-56\"/>\r\n      </g>\r\n     </g>\r\n    </g>\r\n    <g id=\"ytick_2\">\r\n     <g id=\"line2d_8\">\r\n      <g>\r\n       <use style=\"stroke:#000000;stroke-width:0.8;\" x=\"42.620312\" xlink:href=\"#m9ef4cfd963\" y=\"189.086551\"/>\r\n      </g>\r\n     </g>\r\n     <g id=\"text_9\">\r\n      <!-- −6 -->\r\n      <g transform=\"translate(20.878125 192.88577)scale(0.1 -0.1)\">\r\n       <defs>\r\n        <path d=\"M 33.015625 40.375 \r\nQ 26.375 40.375 22.484375 35.828125 \r\nQ 18.609375 31.296875 18.609375 23.390625 \r\nQ 18.609375 15.53125 22.484375 10.953125 \r\nQ 26.375 6.390625 33.015625 6.390625 \r\nQ 39.65625 6.390625 43.53125 10.953125 \r\nQ 47.40625 15.53125 47.40625 23.390625 \r\nQ 47.40625 31.296875 43.53125 35.828125 \r\nQ 39.65625 40.375 33.015625 40.375 \r\nz\r\nM 52.59375 71.296875 \r\nL 52.59375 62.3125 \r\nQ 48.875 64.0625 45.09375 64.984375 \r\nQ 41.3125 65.921875 37.59375 65.921875 \r\nQ 27.828125 65.921875 22.671875 59.328125 \r\nQ 17.53125 52.734375 16.796875 39.40625 \r\nQ 19.671875 43.65625 24.015625 45.921875 \r\nQ 28.375 48.1875 33.59375 48.1875 \r\nQ 44.578125 48.1875 50.953125 41.515625 \r\nQ 57.328125 34.859375 57.328125 23.390625 \r\nQ 57.328125 12.15625 50.6875 5.359375 \r\nQ 44.046875 -1.421875 33.015625 -1.421875 \r\nQ 20.359375 -1.421875 13.671875 8.265625 \r\nQ 6.984375 17.96875 6.984375 36.375 \r\nQ 6.984375 53.65625 15.1875 63.9375 \r\nQ 23.390625 74.21875 37.203125 74.21875 \r\nQ 40.921875 74.21875 44.703125 73.484375 \r\nQ 48.484375 72.75 52.59375 71.296875 \r\nz\r\n\" id=\"DejaVuSans-54\"/>\r\n       </defs>\r\n       <use xlink:href=\"#DejaVuSans-8722\"/>\r\n       <use x=\"83.789062\" xlink:href=\"#DejaVuSans-54\"/>\r\n      </g>\r\n     </g>\r\n    </g>\r\n    <g id=\"ytick_3\">\r\n     <g id=\"line2d_9\">\r\n      <g>\r\n       <use style=\"stroke:#000000;stroke-width:0.8;\" x=\"42.620312\" xlink:href=\"#m9ef4cfd963\" y=\"159.405329\"/>\r\n      </g>\r\n     </g>\r\n     <g id=\"text_10\">\r\n      <!-- −4 -->\r\n      <g transform=\"translate(20.878125 163.204548)scale(0.1 -0.1)\">\r\n       <defs>\r\n        <path d=\"M 37.796875 64.3125 \r\nL 12.890625 25.390625 \r\nL 37.796875 25.390625 \r\nz\r\nM 35.203125 72.90625 \r\nL 47.609375 72.90625 \r\nL 47.609375 25.390625 \r\nL 58.015625 25.390625 \r\nL 58.015625 17.1875 \r\nL 47.609375 17.1875 \r\nL 47.609375 0 \r\nL 37.796875 0 \r\nL 37.796875 17.1875 \r\nL 4.890625 17.1875 \r\nL 4.890625 26.703125 \r\nz\r\n\" id=\"DejaVuSans-52\"/>\r\n       </defs>\r\n       <use xlink:href=\"#DejaVuSans-8722\"/>\r\n       <use x=\"83.789062\" xlink:href=\"#DejaVuSans-52\"/>\r\n      </g>\r\n     </g>\r\n    </g>\r\n    <g id=\"ytick_4\">\r\n     <g id=\"line2d_10\">\r\n      <g>\r\n       <use style=\"stroke:#000000;stroke-width:0.8;\" x=\"42.620312\" xlink:href=\"#m9ef4cfd963\" y=\"129.724107\"/>\r\n      </g>\r\n     </g>\r\n     <g id=\"text_11\">\r\n      <!-- −2 -->\r\n      <g transform=\"translate(20.878125 133.523326)scale(0.1 -0.1)\">\r\n       <use xlink:href=\"#DejaVuSans-8722\"/>\r\n       <use x=\"83.789062\" xlink:href=\"#DejaVuSans-50\"/>\r\n      </g>\r\n     </g>\r\n    </g>\r\n    <g id=\"ytick_5\">\r\n     <g id=\"line2d_11\">\r\n      <g>\r\n       <use style=\"stroke:#000000;stroke-width:0.8;\" x=\"42.620312\" xlink:href=\"#m9ef4cfd963\" y=\"100.042885\"/>\r\n      </g>\r\n     </g>\r\n     <g id=\"text_12\">\r\n      <!-- 0 -->\r\n      <g transform=\"translate(29.257812 103.842104)scale(0.1 -0.1)\">\r\n       <use xlink:href=\"#DejaVuSans-48\"/>\r\n      </g>\r\n     </g>\r\n    </g>\r\n    <g id=\"ytick_6\">\r\n     <g id=\"line2d_12\">\r\n      <g>\r\n       <use style=\"stroke:#000000;stroke-width:0.8;\" x=\"42.620312\" xlink:href=\"#m9ef4cfd963\" y=\"70.361663\"/>\r\n      </g>\r\n     </g>\r\n     <g id=\"text_13\">\r\n      <!-- 2 -->\r\n      <g transform=\"translate(29.257812 74.160882)scale(0.1 -0.1)\">\r\n       <use xlink:href=\"#DejaVuSans-50\"/>\r\n      </g>\r\n     </g>\r\n    </g>\r\n    <g id=\"ytick_7\">\r\n     <g id=\"line2d_13\">\r\n      <g>\r\n       <use style=\"stroke:#000000;stroke-width:0.8;\" x=\"42.620312\" xlink:href=\"#m9ef4cfd963\" y=\"40.680441\"/>\r\n      </g>\r\n     </g>\r\n     <g id=\"text_14\">\r\n      <!-- 4 -->\r\n      <g transform=\"translate(29.257812 44.47966)scale(0.1 -0.1)\">\r\n       <use xlink:href=\"#DejaVuSans-52\"/>\r\n      </g>\r\n     </g>\r\n    </g>\r\n    <g id=\"ytick_8\">\r\n     <g id=\"line2d_14\">\r\n      <g>\r\n       <use style=\"stroke:#000000;stroke-width:0.8;\" x=\"42.620312\" xlink:href=\"#m9ef4cfd963\" y=\"10.999219\"/>\r\n      </g>\r\n     </g>\r\n     <g id=\"text_15\">\r\n      <!-- 6 -->\r\n      <g transform=\"translate(29.257812 14.798437)scale(0.1 -0.1)\">\r\n       <use xlink:href=\"#DejaVuSans-54\"/>\r\n      </g>\r\n     </g>\r\n    </g>\r\n    <g id=\"text_16\">\r\n     <!-- y test pred -->\r\n     <g transform=\"translate(14.798437 145.343789)rotate(-90)scale(0.1 -0.1)\">\r\n      <defs>\r\n       <path d=\"M 18.109375 8.203125 \r\nL 18.109375 -20.796875 \r\nL 9.078125 -20.796875 \r\nL 9.078125 54.6875 \r\nL 18.109375 54.6875 \r\nL 18.109375 46.390625 \r\nQ 20.953125 51.265625 25.265625 53.625 \r\nQ 29.59375 56 35.59375 56 \r\nQ 45.5625 56 51.78125 48.09375 \r\nQ 58.015625 40.1875 58.015625 27.296875 \r\nQ 58.015625 14.40625 51.78125 6.484375 \r\nQ 45.5625 -1.421875 35.59375 -1.421875 \r\nQ 29.59375 -1.421875 25.265625 0.953125 \r\nQ 20.953125 3.328125 18.109375 8.203125 \r\nz\r\nM 48.6875 27.296875 \r\nQ 48.6875 37.203125 44.609375 42.84375 \r\nQ 40.53125 48.484375 33.40625 48.484375 \r\nQ 26.265625 48.484375 22.1875 42.84375 \r\nQ 18.109375 37.203125 18.109375 27.296875 \r\nQ 18.109375 17.390625 22.1875 11.75 \r\nQ 26.265625 6.109375 33.40625 6.109375 \r\nQ 40.53125 6.109375 44.609375 11.75 \r\nQ 48.6875 17.390625 48.6875 27.296875 \r\nz\r\n\" id=\"DejaVuSans-112\"/>\r\n       <path d=\"M 45.40625 46.390625 \r\nL 45.40625 75.984375 \r\nL 54.390625 75.984375 \r\nL 54.390625 0 \r\nL 45.40625 0 \r\nL 45.40625 8.203125 \r\nQ 42.578125 3.328125 38.25 0.953125 \r\nQ 33.9375 -1.421875 27.875 -1.421875 \r\nQ 17.96875 -1.421875 11.734375 6.484375 \r\nQ 5.515625 14.40625 5.515625 27.296875 \r\nQ 5.515625 40.1875 11.734375 48.09375 \r\nQ 17.96875 56 27.875 56 \r\nQ 33.9375 56 38.25 53.625 \r\nQ 42.578125 51.265625 45.40625 46.390625 \r\nz\r\nM 14.796875 27.296875 \r\nQ 14.796875 17.390625 18.875 11.75 \r\nQ 22.953125 6.109375 30.078125 6.109375 \r\nQ 37.203125 6.109375 41.296875 11.75 \r\nQ 45.40625 17.390625 45.40625 27.296875 \r\nQ 45.40625 37.203125 41.296875 42.84375 \r\nQ 37.203125 48.484375 30.078125 48.484375 \r\nQ 22.953125 48.484375 18.875 42.84375 \r\nQ 14.796875 37.203125 14.796875 27.296875 \r\nz\r\n\" id=\"DejaVuSans-100\"/>\r\n      </defs>\r\n      <use xlink:href=\"#DejaVuSans-121\"/>\r\n      <use x=\"59.179688\" xlink:href=\"#DejaVuSans-32\"/>\r\n      <use x=\"90.966797\" xlink:href=\"#DejaVuSans-116\"/>\r\n      <use x=\"130.175781\" xlink:href=\"#DejaVuSans-101\"/>\r\n      <use x=\"191.699219\" xlink:href=\"#DejaVuSans-115\"/>\r\n      <use x=\"243.798828\" xlink:href=\"#DejaVuSans-116\"/>\r\n      <use x=\"283.007812\" xlink:href=\"#DejaVuSans-32\"/>\r\n      <use x=\"314.794922\" xlink:href=\"#DejaVuSans-112\"/>\r\n      <use x=\"378.271484\" xlink:href=\"#DejaVuSans-114\"/>\r\n      <use x=\"417.134766\" xlink:href=\"#DejaVuSans-101\"/>\r\n      <use x=\"478.658203\" xlink:href=\"#DejaVuSans-100\"/>\r\n     </g>\r\n    </g>\r\n   </g>\r\n   <g id=\"patch_3\">\r\n    <path d=\"M 42.620312 226.956757 \r\nL 42.620312 9.516757 \r\n\" style=\"fill:none;stroke:#000000;stroke-linecap:square;stroke-linejoin:miter;stroke-width:0.8;\"/>\r\n   </g>\r\n   <g id=\"patch_4\">\r\n    <path d=\"M 260.060313 226.956757 \r\nL 260.060313 9.516757 \r\n\" style=\"fill:none;stroke:#000000;stroke-linecap:square;stroke-linejoin:miter;stroke-width:0.8;\"/>\r\n   </g>\r\n   <g id=\"patch_5\">\r\n    <path d=\"M 42.620312 226.956757 \r\nL 260.060313 226.956757 \r\n\" style=\"fill:none;stroke:#000000;stroke-linecap:square;stroke-linejoin:miter;stroke-width:0.8;\"/>\r\n   </g>\r\n   <g id=\"patch_6\">\r\n    <path d=\"M 42.620312 9.516757 \r\nL 260.060313 9.516757 \r\n\" style=\"fill:none;stroke:#000000;stroke-linecap:square;stroke-linejoin:miter;stroke-width:0.8;\"/>\r\n   </g>\r\n  </g>\r\n </g>\r\n <defs>\r\n  <clipPath id=\"pebc06b74e5\">\r\n   <rect height=\"217.44\" width=\"217.44\" x=\"42.620312\" y=\"9.516757\"/>\r\n  </clipPath>\r\n </defs>\r\n</svg>\r\n",
      "image/png": "[encoded data removed]"
     },
     "metadata": {
      "needs_background": "light"
     }
    }
   ],
   "source": [
    "plt.scatter(y2, y_hat)\n",
    "plt.xlim(lim_min, lim_max)\n",
    "plt.ylim(lim_min, lim_max)\n",
    "plt.xlabel('y test true')\n",
    "plt.ylabel('y test pred')\n",
    "plt.gca().set_aspect('equal')\n",
    "plt.draw()\n",
    "plt.show()"
   ]
  },
  {
   "cell_type": "code",
   "execution_count": 36,
   "metadata": {},
   "outputs": [
    {
     "output_type": "execute_result",
     "data": {
      "text/plain": [
       "0.9467031076801439"
      ]
     },
     "metadata": {},
     "execution_count": 36
    }
   ],
   "source": [
    "sig2e_hat"
   ]
  },
  {
   "cell_type": "code",
   "execution_count": 37,
   "metadata": {},
   "outputs": [
    {
     "output_type": "execute_result",
     "data": {
      "text/plain": [
       "array([0., 0., 0., 0., 0., 0., 0., 0., 0., 0.])"
      ]
     },
     "metadata": {},
     "execution_count": 37
    }
   ],
   "source": [
    "nll_history[-10:]"
   ]
  }
 ]
}